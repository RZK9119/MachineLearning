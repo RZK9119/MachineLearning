{
  
    },
    {
      "cell_type": "markdown",
      "id": "08f47c6a-3318-4e3f-8bb3-c520e00e63dd",
      "metadata": {
        "id": "08f47c6a-3318-4e3f-8bb3-c520e00e63dd"
      },
      "source": [
        "# 03. PyTorch Computer Vision\n",
        "\n",
        "Nama: Rizki Hidayat\n",
        "\n",
        "NIM: 1103202131"
      ]
    },
    {
      "cell_type": "code",
      "execution_count": 1,
      "id": "c263a60d-d788-482f-b9e7-9cab4f6b1f72",
      "metadata": {
        "colab": {
          "base_uri": "https://localhost:8080/"
        },
        "id": "c263a60d-d788-482f-b9e7-9cab4f6b1f72",
        "outputId": "aee8151a-c75c-4701-db53-f426f98361bb"
      },
      "outputs": [
        {
          "output_type": "stream",
          "name": "stdout",
          "text": [
            "PyTorch version: 2.1.0+cu121\n",
            "torchvision version: 0.16.0+cu121\n"
          ]
        }
      ],
      "source": [
        "# Import PyTorch\n",
        "import torch\n",
        "from torch import nn\n",
        "\n",
        "# Import torchvision\n",
        "import torchvision\n",
        "from torchvision import datasets\n",
        "from torchvision.transforms import ToTensor\n",
        "\n",
        "# Import matplotlib for visualization\n",
        "import matplotlib.pyplot as plt\n",
        "\n",
        "# Check versions\n",
        "# Note: your PyTorch version shouldn't be lower than 1.10.0 and torchvision version shouldn't be lower than 0.11\n",
        "print(f\"PyTorch version: {torch.__version__}\\ntorchvision version: {torchvision.__version__}\")"
      ]
    },
    {
      "cell_type": "markdown",
      "id": "48d6bfe7-91da-44eb-9ab6-7c41c1e9fa8e",
      "metadata": {
        "id": "48d6bfe7-91da-44eb-9ab6-7c41c1e9fa8e"
      },
      "source": [
        "## 1. Getting a dataset\n",
        "\n"
      ]
    },
    {
      "cell_type": "code",
      "execution_count": 3,
      "id": "486f8377-6810-4367-859d-69dccc7aef95",
      "metadata": {
        "id": "486f8377-6810-4367-859d-69dccc7aef95"
      },
      "outputs": [],
      "source": [
        "# Setup training data\n",
        "train_data = datasets.FashionMNIST(\n",
        "    root=\"data\", # where to download data to?\n",
        "    train=True, # get training data\n",
        "    download=True, # download data if it doesn't exist on disk\n",
        "    transform=ToTensor(), # images come as PIL format, we want to turn into Torch tensors\n",
        "    target_transform=None # you can transform labels as well\n",
        ")\n",
        "\n",
        "# Setup testing data\n",
        "test_data = datasets.FashionMNIST(\n",
        "    root=\"data\",\n",
        "    train=False, # get test data\n",
        "    download=True,\n",
        "    transform=ToTensor()\n",
        ")"
      ]
    },
    {
      "cell_type": "markdown",
      "id": "a63246f6-3645-49de-88fe-ec18e78bfbaf",
      "metadata": {
        "id": "a63246f6-3645-49de-88fe-ec18e78bfbaf"
      },
      "source": [
        "Let's check out the first sample of the training data."
      ]
    },
    {
      "cell_type": "code",
      "execution_count": 4,
      "id": "43bfd3d9-a132-41e8-8ccd-5ae25a7da59a",
      "metadata": {
        "colab": {
          "base_uri": "https://localhost:8080/"
        },
        "id": "43bfd3d9-a132-41e8-8ccd-5ae25a7da59a",
        "outputId": "fec98f93-99fa-4e90-a44e-9d313bab297c"
      },
      "outputs": [
        {
          "output_type": "execute_result",
          "data": {
            "text/plain": [
              "(tensor([[[0.0000, 0.0000, 0.0000, 0.0000, 0.0000, 0.0000, 0.0000, 0.0000,\n",
              "           0.0000, 0.0000, 0.0000, 0.0000, 0.0000, 0.0000, 0.0000, 0.0000,\n",
              "           0.0000, 0.0000, 0.0000, 0.0000, 0.0000, 0.0000, 0.0000, 0.0000,\n",
              "           0.0000, 0.0000, 0.0000, 0.0000],\n",
              "          [0.0000, 0.0000, 0.0000, 0.0000, 0.0000, 0.0000, 0.0000, 0.0000,\n",
              "           0.0000, 0.0000, 0.0000, 0.0000, 0.0000, 0.0000, 0.0000, 0.0000,\n",
              "           0.0000, 0.0000, 0.0000, 0.0000, 0.0000, 0.0000, 0.0000, 0.0000,\n",
              "           0.0000, 0.0000, 0.0000, 0.0000],\n",
              "          [0.0000, 0.0000, 0.0000, 0.0000, 0.0000, 0.0000, 0.0000, 0.0000,\n",
              "           0.0000, 0.0000, 0.0000, 0.0000, 0.0000, 0.0000, 0.0000, 0.0000,\n",
              "           0.0000, 0.0000, 0.0000, 0.0000, 0.0000, 0.0000, 0.0000, 0.0000,\n",
              "           0.0000, 0.0000, 0.0000, 0.0000],\n",
              "          [0.0000, 0.0000, 0.0000, 0.0000, 0.0000, 0.0000, 0.0000, 0.0000,\n",
              "           0.0000, 0.0000, 0.0000, 0.0000, 0.0039, 0.0000, 0.0000, 0.0510,\n",
              "           0.2863, 0.0000, 0.0000, 0.0039, 0.0157, 0.0000, 0.0000, 0.0000,\n",
              "           0.0000, 0.0039, 0.0039, 0.0000],\n",
              "          [0.0000, 0.0000, 0.0000, 0.0000, 0.0000, 0.0000, 0.0000, 0.0000,\n",
              "           0.0000, 0.0000, 0.0000, 0.0000, 0.0118, 0.0000, 0.1412, 0.5333,\n",
              "           0.4980, 0.2431, 0.2118, 0.0000, 0.0000, 0.0000, 0.0039, 0.0118,\n",
              "           0.0157, 0.0000, 0.0000, 0.0118],\n",
              "          [0.0000, 0.0000, 0.0000, 0.0000, 0.0000, 0.0000, 0.0000, 0.0000,\n",
              "           0.0000, 0.0000, 0.0000, 0.0000, 0.0235, 0.0000, 0.4000, 0.8000,\n",
              "           0.6902, 0.5255, 0.5647, 0.4824, 0.0902, 0.0000, 0.0000, 0.0000,\n",
              "           0.0000, 0.0471, 0.0392, 0.0000],\n",
              "          [0.0000, 0.0000, 0.0000, 0.0000, 0.0000, 0.0000, 0.0000, 0.0000,\n",
              "           0.0000, 0.0000, 0.0000, 0.0000, 0.0000, 0.0000, 0.6078, 0.9255,\n",
              "           0.8118, 0.6980, 0.4196, 0.6118, 0.6314, 0.4275, 0.2510, 0.0902,\n",
              "           0.3020, 0.5098, 0.2824, 0.0588],\n",
              "          [0.0000, 0.0000, 0.0000, 0.0000, 0.0000, 0.0000, 0.0000, 0.0000,\n",
              "           0.0000, 0.0000, 0.0000, 0.0039, 0.0000, 0.2706, 0.8118, 0.8745,\n",
              "           0.8549, 0.8471, 0.8471, 0.6392, 0.4980, 0.4745, 0.4784, 0.5725,\n",
              "           0.5529, 0.3451, 0.6745, 0.2588],\n",
              "          [0.0000, 0.0000, 0.0000, 0.0000, 0.0000, 0.0000, 0.0000, 0.0000,\n",
              "           0.0000, 0.0039, 0.0039, 0.0039, 0.0000, 0.7843, 0.9098, 0.9098,\n",
              "           0.9137, 0.8980, 0.8745, 0.8745, 0.8431, 0.8353, 0.6431, 0.4980,\n",
              "           0.4824, 0.7686, 0.8980, 0.0000],\n",
              "          [0.0000, 0.0000, 0.0000, 0.0000, 0.0000, 0.0000, 0.0000, 0.0000,\n",
              "           0.0000, 0.0000, 0.0000, 0.0000, 0.0000, 0.7176, 0.8824, 0.8471,\n",
              "           0.8745, 0.8941, 0.9216, 0.8902, 0.8784, 0.8706, 0.8784, 0.8667,\n",
              "           0.8745, 0.9608, 0.6784, 0.0000],\n",
              "          [0.0000, 0.0000, 0.0000, 0.0000, 0.0000, 0.0000, 0.0000, 0.0000,\n",
              "           0.0000, 0.0000, 0.0000, 0.0000, 0.0000, 0.7569, 0.8941, 0.8549,\n",
              "           0.8353, 0.7765, 0.7059, 0.8314, 0.8235, 0.8275, 0.8353, 0.8745,\n",
              "           0.8627, 0.9529, 0.7922, 0.0000],\n",
              "          [0.0000, 0.0000, 0.0000, 0.0000, 0.0000, 0.0000, 0.0000, 0.0000,\n",
              "           0.0000, 0.0039, 0.0118, 0.0000, 0.0471, 0.8588, 0.8627, 0.8314,\n",
              "           0.8549, 0.7529, 0.6627, 0.8902, 0.8157, 0.8549, 0.8784, 0.8314,\n",
              "           0.8863, 0.7725, 0.8196, 0.2039],\n",
              "          [0.0000, 0.0000, 0.0000, 0.0000, 0.0000, 0.0000, 0.0000, 0.0000,\n",
              "           0.0000, 0.0000, 0.0235, 0.0000, 0.3882, 0.9569, 0.8706, 0.8627,\n",
              "           0.8549, 0.7961, 0.7765, 0.8667, 0.8431, 0.8353, 0.8706, 0.8627,\n",
              "           0.9608, 0.4667, 0.6549, 0.2196],\n",
              "          [0.0000, 0.0000, 0.0000, 0.0000, 0.0000, 0.0000, 0.0000, 0.0000,\n",
              "           0.0000, 0.0157, 0.0000, 0.0000, 0.2157, 0.9255, 0.8941, 0.9020,\n",
              "           0.8941, 0.9412, 0.9098, 0.8353, 0.8549, 0.8745, 0.9176, 0.8510,\n",
              "           0.8510, 0.8196, 0.3608, 0.0000],\n",
              "          [0.0000, 0.0000, 0.0039, 0.0157, 0.0235, 0.0275, 0.0078, 0.0000,\n",
              "           0.0000, 0.0000, 0.0000, 0.0000, 0.9294, 0.8863, 0.8510, 0.8745,\n",
              "           0.8706, 0.8588, 0.8706, 0.8667, 0.8471, 0.8745, 0.8980, 0.8431,\n",
              "           0.8549, 1.0000, 0.3020, 0.0000],\n",
              "          [0.0000, 0.0118, 0.0000, 0.0000, 0.0000, 0.0000, 0.0000, 0.0000,\n",
              "           0.0000, 0.2431, 0.5686, 0.8000, 0.8941, 0.8118, 0.8353, 0.8667,\n",
              "           0.8549, 0.8157, 0.8275, 0.8549, 0.8784, 0.8745, 0.8588, 0.8431,\n",
              "           0.8784, 0.9569, 0.6235, 0.0000],\n",
              "          [0.0000, 0.0000, 0.0000, 0.0000, 0.0706, 0.1725, 0.3216, 0.4196,\n",
              "           0.7412, 0.8941, 0.8627, 0.8706, 0.8510, 0.8863, 0.7843, 0.8039,\n",
              "           0.8275, 0.9020, 0.8784, 0.9176, 0.6902, 0.7373, 0.9804, 0.9725,\n",
              "           0.9137, 0.9333, 0.8431, 0.0000],\n",
              "          [0.0000, 0.2235, 0.7333, 0.8157, 0.8784, 0.8667, 0.8784, 0.8157,\n",
              "           0.8000, 0.8392, 0.8157, 0.8196, 0.7843, 0.6235, 0.9608, 0.7569,\n",
              "           0.8078, 0.8745, 1.0000, 1.0000, 0.8667, 0.9176, 0.8667, 0.8275,\n",
              "           0.8627, 0.9098, 0.9647, 0.0000],\n",
              "          [0.0118, 0.7922, 0.8941, 0.8784, 0.8667, 0.8275, 0.8275, 0.8392,\n",
              "           0.8039, 0.8039, 0.8039, 0.8627, 0.9412, 0.3137, 0.5882, 1.0000,\n",
              "           0.8980, 0.8667, 0.7373, 0.6039, 0.7490, 0.8235, 0.8000, 0.8196,\n",
              "           0.8706, 0.8941, 0.8824, 0.0000],\n",
              "          [0.3843, 0.9137, 0.7765, 0.8235, 0.8706, 0.8980, 0.8980, 0.9176,\n",
              "           0.9765, 0.8627, 0.7608, 0.8431, 0.8510, 0.9451, 0.2549, 0.2863,\n",
              "           0.4157, 0.4588, 0.6588, 0.8588, 0.8667, 0.8431, 0.8510, 0.8745,\n",
              "           0.8745, 0.8784, 0.8980, 0.1137],\n",
              "          [0.2941, 0.8000, 0.8314, 0.8000, 0.7569, 0.8039, 0.8275, 0.8824,\n",
              "           0.8471, 0.7255, 0.7725, 0.8078, 0.7765, 0.8353, 0.9412, 0.7647,\n",
              "           0.8902, 0.9608, 0.9373, 0.8745, 0.8549, 0.8314, 0.8196, 0.8706,\n",
              "           0.8627, 0.8667, 0.9020, 0.2627],\n",
              "          [0.1882, 0.7961, 0.7176, 0.7608, 0.8353, 0.7725, 0.7255, 0.7451,\n",
              "           0.7608, 0.7529, 0.7922, 0.8392, 0.8588, 0.8667, 0.8627, 0.9255,\n",
              "           0.8824, 0.8471, 0.7804, 0.8078, 0.7294, 0.7098, 0.6941, 0.6745,\n",
              "           0.7098, 0.8039, 0.8078, 0.4510],\n",
              "          [0.0000, 0.4784, 0.8588, 0.7569, 0.7020, 0.6706, 0.7176, 0.7686,\n",
              "           0.8000, 0.8235, 0.8353, 0.8118, 0.8275, 0.8235, 0.7843, 0.7686,\n",
              "           0.7608, 0.7490, 0.7647, 0.7490, 0.7765, 0.7529, 0.6902, 0.6118,\n",
              "           0.6549, 0.6941, 0.8235, 0.3608],\n",
              "          [0.0000, 0.0000, 0.2902, 0.7412, 0.8314, 0.7490, 0.6863, 0.6745,\n",
              "           0.6863, 0.7098, 0.7255, 0.7373, 0.7412, 0.7373, 0.7569, 0.7765,\n",
              "           0.8000, 0.8196, 0.8235, 0.8235, 0.8275, 0.7373, 0.7373, 0.7608,\n",
              "           0.7529, 0.8471, 0.6667, 0.0000],\n",
              "          [0.0078, 0.0000, 0.0000, 0.0000, 0.2588, 0.7843, 0.8706, 0.9294,\n",
              "           0.9373, 0.9490, 0.9647, 0.9529, 0.9569, 0.8667, 0.8627, 0.7569,\n",
              "           0.7490, 0.7020, 0.7137, 0.7137, 0.7098, 0.6902, 0.6510, 0.6588,\n",
              "           0.3882, 0.2275, 0.0000, 0.0000],\n",
              "          [0.0000, 0.0000, 0.0000, 0.0000, 0.0000, 0.0000, 0.0000, 0.1569,\n",
              "           0.2392, 0.1725, 0.2824, 0.1608, 0.1373, 0.0000, 0.0000, 0.0000,\n",
              "           0.0000, 0.0000, 0.0000, 0.0000, 0.0000, 0.0000, 0.0000, 0.0000,\n",
              "           0.0000, 0.0000, 0.0000, 0.0000],\n",
              "          [0.0000, 0.0000, 0.0000, 0.0000, 0.0000, 0.0000, 0.0000, 0.0000,\n",
              "           0.0000, 0.0000, 0.0000, 0.0000, 0.0000, 0.0000, 0.0000, 0.0000,\n",
              "           0.0000, 0.0000, 0.0000, 0.0000, 0.0000, 0.0000, 0.0000, 0.0000,\n",
              "           0.0000, 0.0000, 0.0000, 0.0000],\n",
              "          [0.0000, 0.0000, 0.0000, 0.0000, 0.0000, 0.0000, 0.0000, 0.0000,\n",
              "           0.0000, 0.0000, 0.0000, 0.0000, 0.0000, 0.0000, 0.0000, 0.0000,\n",
              "           0.0000, 0.0000, 0.0000, 0.0000, 0.0000, 0.0000, 0.0000, 0.0000,\n",
              "           0.0000, 0.0000, 0.0000, 0.0000]]]),\n",
              " 9)"
            ]
          },
          "metadata": {},
          "execution_count": 4
        }
      ],
      "source": [
        "# See first training sample\n",
        "image, label = train_data[0]\n",
        "image, label"
      ]
    },
    {
      "cell_type": "markdown",
      "id": "9ad9d782-06cb-4591-ae3c-3a8b2389a1b2",
      "metadata": {
        "id": "9ad9d782-06cb-4591-ae3c-3a8b2389a1b2"
      },
      "source": [
        "### 1.1 Input and output shapes of a computer vision model\n",
        "\n"
      ]
    },
    {
      "cell_type": "code",
      "execution_count": 5,
      "id": "c2997d9f-b574-4d23-aa34-1a4df1751226",
      "metadata": {
        "colab": {
          "base_uri": "https://localhost:8080/"
        },
        "id": "c2997d9f-b574-4d23-aa34-1a4df1751226",
        "outputId": "faca6353-8acf-465b-88f5-f94c919e2f2f"
      },
      "outputs": [
        {
          "output_type": "execute_result",
          "data": {
            "text/plain": [
              "torch.Size([1, 28, 28])"
            ]
          },
          "metadata": {},
          "execution_count": 5
        }
      ],
      "source": [
        "# What's the shape of the image?\n",
        "image.shape"
      ]
    },
    {
      "cell_type": "code",
      "execution_count": 6,
      "id": "fc4f768c-c3f6-454d-a633-673ad1d6eca0",
      "metadata": {
        "colab": {
          "base_uri": "https://localhost:8080/"
        },
        "id": "fc4f768c-c3f6-454d-a633-673ad1d6eca0",
        "outputId": "d2ea9220-5409-41bd-cb27-9da3990046f6"
      },
      "outputs": [
        {
          "output_type": "execute_result",
          "data": {
            "text/plain": [
              "(60000, 60000, 10000, 10000)"
            ]
          },
          "metadata": {},
          "execution_count": 6
        }
      ],
      "source": [
        "# How many samples are there?\n",
        "len(train_data.data), len(train_data.targets), len(test_data.data), len(test_data.targets)"
      ]
    },
    {
      "cell_type": "code",
      "execution_count": 7,
      "id": "e22849c6-d93f-4b38-8403-5ebf0deaf008",
      "metadata": {
        "colab": {
          "base_uri": "https://localhost:8080/"
        },
        "id": "e22849c6-d93f-4b38-8403-5ebf0deaf008",
        "outputId": "10d5c0ff-e93b-4134-bc67-f631d17a5171"
      },
      "outputs": [
        {
          "output_type": "execute_result",
          "data": {
            "text/plain": [
              "['T-shirt/top',\n",
              " 'Trouser',\n",
              " 'Pullover',\n",
              " 'Dress',\n",
              " 'Coat',\n",
              " 'Sandal',\n",
              " 'Shirt',\n",
              " 'Sneaker',\n",
              " 'Bag',\n",
              " 'Ankle boot']"
            ]
          },
          "metadata": {},
          "execution_count": 7
        }
      ],
      "source": [
        "# See classes\n",
        "class_names = train_data.classes\n",
        "class_names"
      ]
    },
    {
      "cell_type": "markdown",
      "id": "fb625d80-6a98-471e-a758-4de0ce0f3a64",
      "metadata": {
        "id": "fb625d80-6a98-471e-a758-4de0ce0f3a64"
      },
      "source": [
        "### 1.2 Visualizing our data"
      ]
    },
    {
      "cell_type": "code",
      "execution_count": 8,
      "id": "b1df1f2c-28c9-43bf-aaef-cf996c9ae1c5",
      "metadata": {
        "colab": {
          "base_uri": "https://localhost:8080/",
          "height": 469
        },
        "id": "b1df1f2c-28c9-43bf-aaef-cf996c9ae1c5",
        "outputId": "c51d6e8f-a051-4a32-9ac3-87bebfb26b70"
      },
      "outputs": [
        {
          "output_type": "stream",
          "name": "stdout",
          "text": [
            "Image shape: torch.Size([1, 28, 28])\n"
          ]
        },
        {
          "output_type": "display_data",
          "data": {
            "text/plain": [
              "<Figure size 640x480 with 1 Axes>"
            ],
            "image/png": "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\n"
          },
          "metadata": {}
        }
      ],
      "source": [
        "import matplotlib.pyplot as plt\n",
        "image, label = train_data[0]\n",
        "print(f\"Image shape: {image.shape}\")\n",
        "plt.imshow(image.squeeze()) # image shape is [1, 28, 28] (colour channels, height, width)\n",
        "plt.title(label);"
      ]
    },
    {
      "cell_type": "markdown",
      "id": "adb19c5c-2f2b-4aaf-8300-256f3594e2db",
      "metadata": {
        "id": "adb19c5c-2f2b-4aaf-8300-256f3594e2db"
      },
      "source": [
        "We can turn the image into grayscale using the `cmap` parameter of `plt.imshow()`."
      ]
    },
    {
      "cell_type": "code",
      "execution_count": null,
      "id": "92f09917-88f7-4446-b65f-baae586914c9",
      "metadata": {
        "colab": {
          "base_uri": "https://localhost:8080/",
          "height": 452
        },
        "id": "92f09917-88f7-4446-b65f-baae586914c9",
        "outputId": "c702456b-607c-4214-8e03-4bd0b22b097f"
      },
      "outputs": [
        {
          "data": {
            "image/png": "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\n",
            "text/plain": [
              "<Figure size 640x480 with 1 Axes>"
            ]
          },
          "metadata": {},
          "output_type": "display_data"
        }
      ],
      "source": [
        "plt.imshow(image.squeeze(), cmap=\"gray\")\n",
        "plt.title(class_names[label]);"
      ]
    },
    {
      "cell_type": "code",
      "execution_count": 9,
      "id": "7188ed7a-5959-48c4-ac7f-19129a2adc83",
      "metadata": {
        "colab": {
          "base_uri": "https://localhost:8080/",
          "height": 752
        },
        "id": "7188ed7a-5959-48c4-ac7f-19129a2adc83",
        "outputId": "79cad978-9be2-4bab-bb85-853b3fc6645a"
      },
      "outputs": [
        {
          "output_type": "display_data",
          "data": {
            "text/plain": [
              "<Figure size 900x900 with 16 Axes>"
            ],
            "image/png": "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\n"
          },
          "metadata": {}
        }
      ],
      "source": [
        "# Plot more images\n",
        "torch.manual_seed(42)\n",
        "fig = plt.figure(figsize=(9, 9))\n",
        "rows, cols = 4, 4\n",
        "for i in range(1, rows * cols + 1):\n",
        "    random_idx = torch.randint(0, len(train_data), size=[1]).item()\n",
        "    img, label = train_data[random_idx]\n",
        "    fig.add_subplot(rows, cols, i)\n",
        "    plt.imshow(img.squeeze(), cmap=\"gray\")\n",
        "    plt.title(class_names[label])\n",
        "    plt.axis(False);"
      ]
    },
    {
      "cell_type": "markdown",
      "id": "43cdd23d-bd1f-4e8c-ba20-22d2b6ac14b1",
      "metadata": {
        "id": "43cdd23d-bd1f-4e8c-ba20-22d2b6ac14b1"
      },
      "source": [
        "## 2. Prepare DataLoader\n",
        "\n",
        "\n",
        "\n"
      ]
    },
    {
      "cell_type": "code",
      "execution_count": 12,
      "id": "bb2dbf90-a326-43cb-b25b-71af142fafeb",
      "metadata": {
        "colab": {
          "base_uri": "https://localhost:8080/"
        },
        "id": "bb2dbf90-a326-43cb-b25b-71af142fafeb",
        "outputId": "72645a9b-ad97-45f2-a70a-9652964e567e"
      },
      "outputs": [
        {
          "output_type": "stream",
          "name": "stdout",
          "text": [
            "Dataloaders: (<torch.utils.data.dataloader.DataLoader object at 0x7bc58750f1c0>, <torch.utils.data.dataloader.DataLoader object at 0x7bc58750f190>)\n",
            "Length of train dataloader: 1875 batches of 32\n",
            "Length of test dataloader: 313 batches of 32\n"
          ]
        }
      ],
      "source": [
        "from torch.utils.data import DataLoader\n",
        "\n",
        "# Setup the batch size hyperparameter\n",
        "BATCH_SIZE = 32\n",
        "\n",
        "# Turn datasets into iterables (batches)\n",
        "train_dataloader = DataLoader(train_data, # dataset to turn into iterable\n",
        "    batch_size=BATCH_SIZE, # how many samples per batch?\n",
        "    shuffle=True # shuffle data every epoch?\n",
        ")\n",
        "\n",
        "test_dataloader = DataLoader(test_data,\n",
        "    batch_size=BATCH_SIZE,\n",
        "    shuffle=False # don't necessarily have to shuffle the testing data\n",
        ")\n",
        "\n",
        "# Let's check out what we've created\n",
        "print(f\"Dataloaders: {train_dataloader, test_dataloader}\")\n",
        "print(f\"Length of train dataloader: {len(train_dataloader)} batches of {BATCH_SIZE}\")\n",
        "print(f\"Length of test dataloader: {len(test_dataloader)} batches of {BATCH_SIZE}\")"
      ]
    },
    {
      "cell_type": "code",
      "execution_count": 13,
      "id": "7a925ee7-484b-4149-be8f-3ad790172a5f",
      "metadata": {
        "colab": {
          "base_uri": "https://localhost:8080/"
        },
        "id": "7a925ee7-484b-4149-be8f-3ad790172a5f",
        "outputId": "69f498a1-1dce-4113-87f7-2254ca2ded23"
      },
      "outputs": [
        {
          "output_type": "execute_result",
          "data": {
            "text/plain": [
              "(torch.Size([32, 1, 28, 28]), torch.Size([32]))"
            ]
          },
          "metadata": {},
          "execution_count": 13
        }
      ],
      "source": [
        "# Check out what's inside the training dataloader\n",
        "train_features_batch, train_labels_batch = next(iter(train_dataloader))\n",
        "train_features_batch.shape, train_labels_batch.shape"
      ]
    },
    {
      "cell_type": "code",
      "execution_count": 14,
      "id": "c863d66a-49be-43be-84dc-372a5d6fc2c2",
      "metadata": {
        "colab": {
          "base_uri": "https://localhost:8080/",
          "height": 463
        },
        "id": "c863d66a-49be-43be-84dc-372a5d6fc2c2",
        "outputId": "4569fb11-981f-43af-cd9f-35134230b116"
      },
      "outputs": [
        {
          "output_type": "stream",
          "name": "stdout",
          "text": [
            "Image size: torch.Size([1, 28, 28])\n",
            "Label: 6, label size: torch.Size([])\n"
          ]
        },
        {
          "output_type": "display_data",
          "data": {
            "text/plain": [
              "<Figure size 640x480 with 1 Axes>"
            ],
            "image/png": "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\n"
          },
          "metadata": {}
        }
      ],
      "source": [
        "# Show a sample\n",
        "torch.manual_seed(42)\n",
        "random_idx = torch.randint(0, len(train_features_batch), size=[1]).item()\n",
        "img, label = train_features_batch[random_idx], train_labels_batch[random_idx]\n",
        "plt.imshow(img.squeeze(), cmap=\"gray\")\n",
        "plt.title(class_names[label])\n",
        "plt.axis(\"Off\");\n",
        "print(f\"Image size: {img.shape}\")\n",
        "print(f\"Label: {label}, label size: {label.shape}\")"
      ]
    },
    {
      "cell_type": "markdown",
      "id": "db1695cf-f53d-4c7c-ad39-dfed76533125",
      "metadata": {
        "id": "db1695cf-f53d-4c7c-ad39-dfed76533125"
      },
      "source": [
        "## 3. Model 0: Build a baseline model\n",
        "\n"
      ]
    },
    {
      "cell_type": "code",
      "execution_count": 15,
      "id": "405319f1-f242-4bd9-90f5-3abdc50782ac",
      "metadata": {
        "colab": {
          "base_uri": "https://localhost:8080/"
        },
        "id": "405319f1-f242-4bd9-90f5-3abdc50782ac",
        "outputId": "fa8181f5-b542-44f7-c500-64c59b81979b"
      },
      "outputs": [
        {
          "output_type": "stream",
          "name": "stdout",
          "text": [
            "Shape before flattening: torch.Size([1, 28, 28]) -> [color_channels, height, width]\n",
            "Shape after flattening: torch.Size([1, 784]) -> [color_channels, height*width]\n"
          ]
        }
      ],
      "source": [
        "# Create a flatten layer\n",
        "flatten_model = nn.Flatten() # all nn modules function as a model (can do a forward pass)\n",
        "\n",
        "# Get a single sample\n",
        "x = train_features_batch[0]\n",
        "\n",
        "# Flatten the sample\n",
        "output = flatten_model(x) # perform forward pass\n",
        "\n",
        "# Print out what happened\n",
        "print(f\"Shape before flattening: {x.shape} -> [color_channels, height, width]\")\n",
        "print(f\"Shape after flattening: {output.shape} -> [color_channels, height*width]\")\n",
        "\n",
        "# Try uncommenting below and see what happens\n",
        "#print(x)\n",
        "#print(output)"
      ]
    },
    {
      "cell_type": "markdown",
      "id": "86bb7806-fca6-45af-8111-3e00e38f5be9",
      "metadata": {
        "id": "86bb7806-fca6-45af-8111-3e00e38f5be9"
      },
      "source": [
        "Create our first model using `nn.Flatten()` as the first layer"
      ]
    },
    {
      "cell_type": "code",
      "execution_count": 16,
      "id": "1449f427-6859-41ae-8133-50b58ffbce72",
      "metadata": {
        "id": "1449f427-6859-41ae-8133-50b58ffbce72"
      },
      "outputs": [],
      "source": [
        "\n",
        "from torch import nn\n",
        "class FashionMNISTModelV0(nn.Module):\n",
        "    def __init__(self, input_shape: int, hidden_units: int, output_shape: int):\n",
        "        super().__init__()\n",
        "        self.layer_stack = nn.Sequential(\n",
        "            nn.Flatten(), # neural networks like their inputs in vector form\n",
        "            nn.Linear(in_features=input_shape, out_features=hidden_units), # in_features = number of features in a data sample (784 pixels)\n",
        "            nn.Linear(in_features=hidden_units, out_features=output_shape)\n",
        "        )\n",
        "\n",
        "    def forward(self, x):\n",
        "        return self.layer_stack(x)"
      ]
    },
    {
      "cell_type": "code",
      "execution_count": 17,
      "id": "dd18384a-76f9-4b5a-a013-fda077f16865",
      "metadata": {
        "colab": {
          "base_uri": "https://localhost:8080/"
        },
        "id": "dd18384a-76f9-4b5a-a013-fda077f16865",
        "outputId": "148848ff-4578-4508-d7f4-18f6e94d1ee3"
      },
      "outputs": [
        {
          "output_type": "execute_result",
          "data": {
            "text/plain": [
              "FashionMNISTModelV0(\n",
              "  (layer_stack): Sequential(\n",
              "    (0): Flatten(start_dim=1, end_dim=-1)\n",
              "    (1): Linear(in_features=784, out_features=10, bias=True)\n",
              "    (2): Linear(in_features=10, out_features=10, bias=True)\n",
              "  )\n",
              ")"
            ]
          },
          "metadata": {},
          "execution_count": 17
        }
      ],
      "source": [
        "torch.manual_seed(42)\n",
        "\n",
        "# Need to setup model with input parameters\n",
        "model_0 = FashionMNISTModelV0(input_shape=784, # one for every pixel (28x28)\n",
        "    hidden_units=10, # how many units in the hiden layer\n",
        "    output_shape=len(class_names) # one for every class\n",
        ")\n",
        "model_0.to(\"cpu\") # keep model on CPU to begin with"
      ]
    },
    {
      "cell_type": "markdown",
      "id": "03243179-1cdc-45d9-8b8c-82538ac02e9c",
      "metadata": {
        "id": "03243179-1cdc-45d9-8b8c-82538ac02e9c"
      },
      "source": [
        "### 3.1 Setup loss, optimizer and evaluation metrics\n",
        "\n"
      ]
    },
    {
      "cell_type": "code",
      "execution_count": 21,
      "id": "31c91f17-d810-46a4-97c3-c734f93430b1",
      "metadata": {
        "colab": {
          "base_uri": "https://localhost:8080/"
        },
        "id": "31c91f17-d810-46a4-97c3-c734f93430b1",
        "outputId": "553b61ea-5ace-4ed9-9bc7-8aa9dd9b3a92"
      },
      "outputs": [
        {
          "output_type": "stream",
          "name": "stdout",
          "text": [
            "helper_functions.py already exists, skipping download\n"
          ]
        }
      ],
      "source": [
        "import requests\n",
        "from pathlib import Path\n",
        "\n",
        "# Download helper functions from Learn PyTorch repo (if not already downloaded)\n",
        "if Path(\"helper_functions.py\").is_file():\n",
        "  print(\"helper_functions.py already exists, skipping download\")\n",
        "else:\n",
        "  print(\"Downloading helper_functions.py\")\n",
        "  # Note: you need the \"raw\" GitHub URL for this to work\n",
        "  request = requests.get(\"https://raw.githubusercontent.com/mrdbourke/pytorch-deep-learning/main/helper_functions.py\")\n",
        "  with open(\"helper_functions.py\", \"wb\") as f:\n",
        "    f.write(request.content)"
      ]
    },
    {
      "cell_type": "code",
      "execution_count": 22,
      "id": "ce3d13b8-f018-4b44-8bba-375074dc4c5f",
      "metadata": {
        "id": "ce3d13b8-f018-4b44-8bba-375074dc4c5f"
      },
      "outputs": [],
      "source": [
        "# Import accuracy metric\n",
        "from helper_functions import accuracy_fn # Note: could also use torchmetrics.Accuracy(task = 'multiclass', num_classes=len(class_names)).to(device)\n",
        "\n",
        "# Setup loss function and optimizer\n",
        "loss_fn = nn.CrossEntropyLoss() # this is also called \"criterion\"/\"cost function\" in some places\n",
        "optimizer = torch.optim.SGD(params=model_0.parameters(), lr=0.1)"
      ]
    },
    {
      "cell_type": "markdown",
      "id": "4109f867-83f2-4394-a925-8acdc63ccffe",
      "metadata": {
        "id": "4109f867-83f2-4394-a925-8acdc63ccffe"
      },
      "source": [
        "### 3.2 Creating a function to time our experiments\n",
        "\n"
      ]
    },
    {
      "cell_type": "code",
      "execution_count": 23,
      "id": "31adc3fe-ce90-4b4e-b0d4-3613abae5714",
      "metadata": {
        "id": "31adc3fe-ce90-4b4e-b0d4-3613abae5714"
      },
      "outputs": [],
      "source": [
        "from timeit import default_timer as timer\n",
        "def print_train_time(start: float, end: float, device: torch.device = None):\n",
        "    \"\"\"Prints difference between start and end time.\n",
        "\n",
        "    Args:\n",
        "        start (float): Start time of computation (preferred in timeit format).\n",
        "        end (float): End time of computation.\n",
        "        device ([type], optional): Device that compute is running on. Defaults to None.\n",
        "\n",
        "    Returns:\n",
        "        float: time between start and end in seconds (higher is longer).\n",
        "    \"\"\"\n",
        "    total_time = end - start\n",
        "    print(f\"Train time on {device}: {total_time:.3f} seconds\")\n",
        "    return total_time"
      ]
    },
    {
      "cell_type": "markdown",
      "id": "07b9560e-f5dc-45d6-b3b2-ddae17a71b34",
      "metadata": {
        "id": "07b9560e-f5dc-45d6-b3b2-ddae17a71b34"
      },
      "source": [
        "### 3.3 Creating a training loop and training a model on batches of data\n",
        "\n"
      ]
    },
    {
      "cell_type": "code",
      "execution_count": 24,
      "id": "c07bbf10-81e3-47f0-990d-9a4a838276ab",
      "metadata": {
        "colab": {
          "base_uri": "https://localhost:8080/",
          "height": 587,
          "referenced_widgets": [
            "f00086a46285487f8737b1fe8a70106b",
            "b4da6c11fec54bf08f8ba215cde05298",
            "22140e1f7bd2446fa86a89f1137f6c0e",
            "5811a909e3014b30888701b41131ff7e",
            "b1c18faeaecc421298911009091b2ba5",
            "be7a61a8ca784b96b2751bc4413aca40",
            "bef1e4885a604565b01a48b3c0aee32c",
            "aee5c4bb3b1c4a0da6a42f27ffd6d80f",
            "07fec448b1a0473f9af0ec4c3251fd93",
            "e5a3bece3a4b43099852164130af990d",
            "6f1f25bcdff247c8af8fe9521634335e"
          ]
        },
        "id": "c07bbf10-81e3-47f0-990d-9a4a838276ab",
        "outputId": "9cc4a4d4-99d8-4a90-89fa-7762a44c5058"
      },
      "outputs": [
        {
          "output_type": "display_data",
          "data": {
            "text/plain": [
              "  0%|          | 0/3 [00:00<?, ?it/s]"
            ],
            "application/vnd.jupyter.widget-view+json": {
              "version_major": 2,
              "version_minor": 0,
              "model_id": "f00086a46285487f8737b1fe8a70106b"
            }
          },
          "metadata": {}
        },
        {
          "output_type": "stream",
          "name": "stdout",
          "text": [
            "Epoch: 0\n",
            "-------\n",
            "Looked at 0/60000 samples\n",
            "Looked at 12800/60000 samples\n",
            "Looked at 25600/60000 samples\n",
            "Looked at 38400/60000 samples\n",
            "Looked at 51200/60000 samples\n",
            "\n",
            "Train loss: 0.59039 | Test loss: 0.50954, Test acc: 82.04%\n",
            "\n",
            "Epoch: 1\n",
            "-------\n",
            "Looked at 0/60000 samples\n",
            "Looked at 12800/60000 samples\n",
            "Looked at 25600/60000 samples\n",
            "Looked at 38400/60000 samples\n",
            "Looked at 51200/60000 samples\n",
            "\n",
            "Train loss: 0.47633 | Test loss: 0.47989, Test acc: 83.20%\n",
            "\n",
            "Epoch: 2\n",
            "-------\n",
            "Looked at 0/60000 samples\n",
            "Looked at 12800/60000 samples\n",
            "Looked at 25600/60000 samples\n",
            "Looked at 38400/60000 samples\n",
            "Looked at 51200/60000 samples\n",
            "\n",
            "Train loss: 0.45503 | Test loss: 0.47664, Test acc: 83.43%\n",
            "\n",
            "Train time on cpu: 27.706 seconds\n"
          ]
        }
      ],
      "source": [
        "# Import tqdm for progress bar\n",
        "from tqdm.auto import tqdm\n",
        "\n",
        "# Set the seed and start the timer\n",
        "torch.manual_seed(42)\n",
        "train_time_start_on_cpu = timer()\n",
        "\n",
        "# Set the number of epochs (we'll keep this small for faster training times)\n",
        "epochs = 3\n",
        "\n",
        "# Create training and testing loop\n",
        "for epoch in tqdm(range(epochs)):\n",
        "    print(f\"Epoch: {epoch}\\n-------\")\n",
        "    ### Training\n",
        "    train_loss = 0\n",
        "    # Add a loop to loop through training batches\n",
        "    for batch, (X, y) in enumerate(train_dataloader):\n",
        "        model_0.train()\n",
        "        # 1. Forward pass\n",
        "        y_pred = model_0(X)\n",
        "\n",
        "        # 2. Calculate loss (per batch)\n",
        "        loss = loss_fn(y_pred, y)\n",
        "        train_loss += loss # accumulatively add up the loss per epoch\n",
        "\n",
        "        # 3. Optimizer zero grad\n",
        "        optimizer.zero_grad()\n",
        "\n",
        "        # 4. Loss backward\n",
        "        loss.backward()\n",
        "\n",
        "        # 5. Optimizer step\n",
        "        optimizer.step()\n",
        "\n",
        "        # Print out how many samples have been seen\n",
        "        if batch % 400 == 0:\n",
        "            print(f\"Looked at {batch * len(X)}/{len(train_dataloader.dataset)} samples\")\n",
        "\n",
        "    # Divide total train loss by length of train dataloader (average loss per batch per epoch)\n",
        "    train_loss /= len(train_dataloader)\n",
        "\n",
        "    ### Testing\n",
        "    # Setup variables for accumulatively adding up loss and accuracy\n",
        "    test_loss, test_acc = 0, 0\n",
        "    model_0.eval()\n",
        "    with torch.inference_mode():\n",
        "        for X, y in test_dataloader:\n",
        "            # 1. Forward pass\n",
        "            test_pred = model_0(X)\n",
        "\n",
        "            # 2. Calculate loss (accumatively)\n",
        "            test_loss += loss_fn(test_pred, y) # accumulatively add up the loss per epoch\n",
        "\n",
        "            # 3. Calculate accuracy (preds need to be same as y_true)\n",
        "            test_acc += accuracy_fn(y_true=y, y_pred=test_pred.argmax(dim=1))\n",
        "\n",
        "        # Calculations on test metrics need to happen inside torch.inference_mode()\n",
        "        # Divide total test loss by length of test dataloader (per batch)\n",
        "        test_loss /= len(test_dataloader)\n",
        "\n",
        "        # Divide total accuracy by length of test dataloader (per batch)\n",
        "        test_acc /= len(test_dataloader)\n",
        "\n",
        "    ## Print out what's happening\n",
        "    print(f\"\\nTrain loss: {train_loss:.5f} | Test loss: {test_loss:.5f}, Test acc: {test_acc:.2f}%\\n\")\n",
        "\n",
        "# Calculate training time\n",
        "train_time_end_on_cpu = timer()\n",
        "total_train_time_model_0 = print_train_time(start=train_time_start_on_cpu,\n",
        "                                           end=train_time_end_on_cpu,\n",
        "                                           device=str(next(model_0.parameters()).device))"
      ]
    },
    {
      "cell_type": "markdown",
      "id": "7442511b-bfe9-4ec7-9f5b-9c808f8e560b",
      "metadata": {
        "id": "7442511b-bfe9-4ec7-9f5b-9c808f8e560b"
      },
      "source": [
        "## 4. Make predictions and get Model 0 results\n",
        "\n"
      ]
    },
    {
      "cell_type": "code",
      "execution_count": 25,
      "id": "8317dd04-9de2-4fd7-97bd-1e202621397d",
      "metadata": {
        "colab": {
          "base_uri": "https://localhost:8080/"
        },
        "id": "8317dd04-9de2-4fd7-97bd-1e202621397d",
        "outputId": "adfcb302-8b34-4f68-9233-861058d509c5"
      },
      "outputs": [
        {
          "output_type": "execute_result",
          "data": {
            "text/plain": [
              "{'model_name': 'FashionMNISTModelV0',\n",
              " 'model_loss': 0.47663894295692444,\n",
              " 'model_acc': 83.42651757188499}"
            ]
          },
          "metadata": {},
          "execution_count": 25
        }
      ],
      "source": [
        "torch.manual_seed(42)\n",
        "def eval_model(model: torch.nn.Module,\n",
        "               data_loader: torch.utils.data.DataLoader,\n",
        "               loss_fn: torch.nn.Module,\n",
        "               accuracy_fn):\n",
        "    \"\"\"Returns a dictionary containing the results of model predicting on data_loader.\n",
        "\n",
        "    Args:\n",
        "        model (torch.nn.Module): A PyTorch model capable of making predictions on data_loader.\n",
        "        data_loader (torch.utils.data.DataLoader): The target dataset to predict on.\n",
        "        loss_fn (torch.nn.Module): The loss function of model.\n",
        "        accuracy_fn: An accuracy function to compare the models predictions to the truth labels.\n",
        "\n",
        "    Returns:\n",
        "        (dict): Results of model making predictions on data_loader.\n",
        "    \"\"\"\n",
        "    loss, acc = 0, 0\n",
        "    model.eval()\n",
        "    with torch.inference_mode():\n",
        "        for X, y in data_loader:\n",
        "            # Make predictions with the model\n",
        "            y_pred = model(X)\n",
        "\n",
        "            # Accumulate the loss and accuracy values per batch\n",
        "            loss += loss_fn(y_pred, y)\n",
        "            acc += accuracy_fn(y_true=y,\n",
        "                                y_pred=y_pred.argmax(dim=1)) # For accuracy, need the prediction labels (logits -> pred_prob -> pred_labels)\n",
        "\n",
        "        # Scale loss and acc to find the average loss/acc per batch\n",
        "        loss /= len(data_loader)\n",
        "        acc /= len(data_loader)\n",
        "\n",
        "    return {\"model_name\": model.__class__.__name__, # only works when model was created with a class\n",
        "            \"model_loss\": loss.item(),\n",
        "            \"model_acc\": acc}\n",
        "\n",
        "# Calculate model 0 results on test dataset\n",
        "model_0_results = eval_model(model=model_0, data_loader=test_dataloader,\n",
        "    loss_fn=loss_fn, accuracy_fn=accuracy_fn\n",
        ")\n",
        "model_0_results"
      ]
    },
    {
      "cell_type": "markdown",
      "id": "3b76784d-4cdb-43d2-a6da-8e4da9a812a9",
      "metadata": {
        "id": "3b76784d-4cdb-43d2-a6da-8e4da9a812a9"
      },
      "source": [
        "## 5. Setup device agnostic-code (for using a GPU if there is one)\n"
      ]
    },
    {
      "cell_type": "code",
      "execution_count": 26,
      "id": "17b69fe9-f974-4538-922c-20c5cc8220cc",
      "metadata": {
        "colab": {
          "base_uri": "https://localhost:8080/",
          "height": 35
        },
        "id": "17b69fe9-f974-4538-922c-20c5cc8220cc",
        "outputId": "687d0868-4d5a-4094-976e-a615a2db639b"
      },
      "outputs": [
        {
          "output_type": "execute_result",
          "data": {
            "text/plain": [
              "'cuda'"
            ],
            "application/vnd.google.colaboratory.intrinsic+json": {
              "type": "string"
            }
          },
          "metadata": {},
          "execution_count": 26
        }
      ],
      "source": [
        "# Setup device agnostic code\n",
        "import torch\n",
        "device = \"cuda\" if torch.cuda.is_available() else \"cpu\"\n",
        "device"
      ]
    },
    {
      "cell_type": "markdown",
      "id": "d7893907-5f82-4c5e-8fde-fa542a9f25af",
      "metadata": {
        "id": "d7893907-5f82-4c5e-8fde-fa542a9f25af"
      },
      "source": [
        "## 6. Model 1: Building a better model with non-linearity\n",
        "\n"
      ]
    },
    {
      "cell_type": "code",
      "execution_count": 27,
      "id": "2ccce5f2-b1e5-47a6-a7f3-6bc096b35ffb",
      "metadata": {
        "id": "2ccce5f2-b1e5-47a6-a7f3-6bc096b35ffb"
      },
      "outputs": [],
      "source": [
        "# Create a model with non-linear and linear layers\n",
        "class FashionMNISTModelV1(nn.Module):\n",
        "    def __init__(self, input_shape: int, hidden_units: int, output_shape: int):\n",
        "        super().__init__()\n",
        "        self.layer_stack = nn.Sequential(\n",
        "            nn.Flatten(), # flatten inputs into single vector\n",
        "            nn.Linear(in_features=input_shape, out_features=hidden_units),\n",
        "            nn.ReLU(),\n",
        "            nn.Linear(in_features=hidden_units, out_features=output_shape),\n",
        "            nn.ReLU()\n",
        "        )\n",
        "\n",
        "    def forward(self, x: torch.Tensor):\n",
        "        return self.layer_stack(x)"
      ]
    },
    {
      "cell_type": "code",
      "execution_count": 28,
      "id": "907091ec-7e46-470b-a305-788a3009b837",
      "metadata": {
        "colab": {
          "base_uri": "https://localhost:8080/"
        },
        "id": "907091ec-7e46-470b-a305-788a3009b837",
        "outputId": "a0775100-ec39-49dc-c080-d3043c952893"
      },
      "outputs": [
        {
          "output_type": "execute_result",
          "data": {
            "text/plain": [
              "device(type='cuda', index=0)"
            ]
          },
          "metadata": {},
          "execution_count": 28
        }
      ],
      "source": [
        "torch.manual_seed(42)\n",
        "model_1 = FashionMNISTModelV1(input_shape=784, # number of input features\n",
        "    hidden_units=10,\n",
        "    output_shape=len(class_names) # number of output classes desired\n",
        ").to(device) # send model to GPU if it's available\n",
        "next(model_1.parameters()).device # check model device"
      ]
    },
    {
      "cell_type": "markdown",
      "id": "b54a4e9d-a7ad-404c-920f-485fcff18a92",
      "metadata": {
        "id": "b54a4e9d-a7ad-404c-920f-485fcff18a92"
      },
      "source": [
        "### 6.1 Setup loss, optimizer and evaluation metrics\n",
        "\n"
      ]
    },
    {
      "cell_type": "code",
      "execution_count": 29,
      "id": "fe7e463b-d46c-4f00-853c-fdf0a28d74c8",
      "metadata": {
        "id": "fe7e463b-d46c-4f00-853c-fdf0a28d74c8"
      },
      "outputs": [],
      "source": [
        "from helper_functions import accuracy_fn\n",
        "loss_fn = nn.CrossEntropyLoss()\n",
        "optimizer = torch.optim.SGD(params=model_1.parameters(),\n",
        "                            lr=0.1)"
      ]
    },
    {
      "cell_type": "markdown",
      "id": "1eb30af6-a355-49a2-a59f-25169fd27a6e",
      "metadata": {
        "id": "1eb30af6-a355-49a2-a59f-25169fd27a6e"
      },
      "source": [
        "### 6.2 Functionizing training and test loops\n",
        "\n"
      ]
    },
    {
      "cell_type": "code",
      "execution_count": 30,
      "id": "3d239ed2-4028-4603-8db3-ffca2b727819",
      "metadata": {
        "id": "3d239ed2-4028-4603-8db3-ffca2b727819"
      },
      "outputs": [],
      "source": [
        "def train_step(model: torch.nn.Module,\n",
        "               data_loader: torch.utils.data.DataLoader,\n",
        "               loss_fn: torch.nn.Module,\n",
        "               optimizer: torch.optim.Optimizer,\n",
        "               accuracy_fn,\n",
        "               device: torch.device = device):\n",
        "    train_loss, train_acc = 0, 0\n",
        "    model.to(device)\n",
        "    for batch, (X, y) in enumerate(data_loader):\n",
        "        # Send data to GPU\n",
        "        X, y = X.to(device), y.to(device)\n",
        "\n",
        "        # 1. Forward pass\n",
        "        y_pred = model(X)\n",
        "\n",
        "        # 2. Calculate loss\n",
        "        loss = loss_fn(y_pred, y)\n",
        "        train_loss += loss\n",
        "        train_acc += accuracy_fn(y_true=y,\n",
        "                                 y_pred=y_pred.argmax(dim=1)) # Go from logits -> pred labels\n",
        "\n",
        "        # 3. Optimizer zero grad\n",
        "        optimizer.zero_grad()\n",
        "\n",
        "        # 4. Loss backward\n",
        "        loss.backward()\n",
        "\n",
        "        # 5. Optimizer step\n",
        "        optimizer.step()\n",
        "\n",
        "    # Calculate loss and accuracy per epoch and print out what's happening\n",
        "    train_loss /= len(data_loader)\n",
        "    train_acc /= len(data_loader)\n",
        "    print(f\"Train loss: {train_loss:.5f} | Train accuracy: {train_acc:.2f}%\")\n",
        "\n",
        "def test_step(data_loader: torch.utils.data.DataLoader,\n",
        "              model: torch.nn.Module,\n",
        "              loss_fn: torch.nn.Module,\n",
        "              accuracy_fn,\n",
        "              device: torch.device = device):\n",
        "    test_loss, test_acc = 0, 0\n",
        "    model.to(device)\n",
        "    model.eval() # put model in eval mode\n",
        "    # Turn on inference context manager\n",
        "    with torch.inference_mode():\n",
        "        for X, y in data_loader:\n",
        "            # Send data to GPU\n",
        "            X, y = X.to(device), y.to(device)\n",
        "\n",
        "            # 1. Forward pass\n",
        "            test_pred = model(X)\n",
        "\n",
        "            # 2. Calculate loss and accuracy\n",
        "            test_loss += loss_fn(test_pred, y)\n",
        "            test_acc += accuracy_fn(y_true=y,\n",
        "                y_pred=test_pred.argmax(dim=1) # Go from logits -> pred labels\n",
        "            )\n",
        "\n",
        "        # Adjust metrics and print out\n",
        "        test_loss /= len(data_loader)\n",
        "        test_acc /= len(data_loader)\n",
        "        print(f\"Test loss: {test_loss:.5f} | Test accuracy: {test_acc:.2f}%\\n\")"
      ]
    },
    {
      "cell_type": "markdown",
      "id": "e44121b6-c4be-4909-9175-dc9bd8dc6273",
      "metadata": {
        "id": "e44121b6-c4be-4909-9175-dc9bd8dc6273"
      },
      "source": [
        "\n",
        "Let's see how long our code takes to run on the GPU."
      ]
    },
    {
      "cell_type": "code",
      "execution_count": 31,
      "id": "2bb8094b-01a0-4b84-9526-ba8888d04901",
      "metadata": {
        "colab": {
          "base_uri": "https://localhost:8080/",
          "height": 327,
          "referenced_widgets": [
            "1687a4e5e14549ad929a7cfcc3856ef2",
            "3401709b5fda491d9f9778a81ab90a0f",
            "c251df32b55d4e11a6749aa0adb6a4e4",
            "1ab25c9bec194f3da7839e75adaecd34",
            "1b06831960c14132aa6429ef7350e734",
            "9cf63a02f5e04edcacbc61d7f001696d",
            "af676c8b3c484297b9349b077f2e2b7c",
            "fff3201ea5164ee9b492f31525061e9f",
            "8c261fb8f1734e43ba83336beed7bc8c",
            "917ffdbdec5a4668bf38b5af26c7e434",
            "08c7cd9f8ac34f7388269a7c54d60973"
          ]
        },
        "id": "2bb8094b-01a0-4b84-9526-ba8888d04901",
        "outputId": "b5976158-d8ea-42eb-87d2-1035fdc4aa85"
      },
      "outputs": [
        {
          "output_type": "display_data",
          "data": {
            "text/plain": [
              "  0%|          | 0/3 [00:00<?, ?it/s]"
            ],
            "application/vnd.jupyter.widget-view+json": {
              "version_major": 2,
              "version_minor": 0,
              "model_id": "1687a4e5e14549ad929a7cfcc3856ef2"
            }
          },
          "metadata": {}
        },
        {
          "output_type": "stream",
          "name": "stdout",
          "text": [
            "Epoch: 0\n",
            "---------\n",
            "Train loss: 1.09199 | Train accuracy: 61.34%\n",
            "Test loss: 0.95636 | Test accuracy: 65.00%\n",
            "\n",
            "Epoch: 1\n",
            "---------\n",
            "Train loss: 0.78101 | Train accuracy: 71.93%\n",
            "Test loss: 0.72227 | Test accuracy: 73.91%\n",
            "\n",
            "Epoch: 2\n",
            "---------\n",
            "Train loss: 0.67027 | Train accuracy: 75.94%\n",
            "Test loss: 0.68500 | Test accuracy: 75.02%\n",
            "\n",
            "Train time on cuda: 31.156 seconds\n"
          ]
        }
      ],
      "source": [
        "torch.manual_seed(42)\n",
        "\n",
        "# Measure time\n",
        "from timeit import default_timer as timer\n",
        "train_time_start_on_gpu = timer()\n",
        "\n",
        "epochs = 3\n",
        "for epoch in tqdm(range(epochs)):\n",
        "    print(f\"Epoch: {epoch}\\n---------\")\n",
        "    train_step(data_loader=train_dataloader,\n",
        "        model=model_1,\n",
        "        loss_fn=loss_fn,\n",
        "        optimizer=optimizer,\n",
        "        accuracy_fn=accuracy_fn\n",
        "    )\n",
        "    test_step(data_loader=test_dataloader,\n",
        "        model=model_1,\n",
        "        loss_fn=loss_fn,\n",
        "        accuracy_fn=accuracy_fn\n",
        "    )\n",
        "\n",
        "train_time_end_on_gpu = timer()\n",
        "total_train_time_model_1 = print_train_time(start=train_time_start_on_gpu,\n",
        "                                            end=train_time_end_on_gpu,\n",
        "                                            device=device)"
      ]
    },
    {
      "cell_type": "markdown",
      "id": "719b8eb9-9a7f-42ed-a49f-5eedc6fdd720",
      "metadata": {
        "id": "719b8eb9-9a7f-42ed-a49f-5eedc6fdd720"
      },
      "source": [
        "\n",
        "\n",
        "Let's evaluate our trained `model_1` using our `eval_model()` function and see how it went."
      ]
    },
    {
      "cell_type": "code",
      "execution_count": 32,
      "id": "32a544e3-9dbe-4aa1-b074-22e28b8f2f2a",
      "metadata": {
        "colab": {
          "base_uri": "https://localhost:8080/",
          "height": 407
        },
        "id": "32a544e3-9dbe-4aa1-b074-22e28b8f2f2a",
        "outputId": "e7b571ff-8f9b-4374-c52e-7226ec63ccc9"
      },
      "outputs": [
        {
          "output_type": "error",
          "ename": "RuntimeError",
          "evalue": "Expected all tensors to be on the same device, but found at least two devices, cuda:0 and cpu! (when checking argument for argument mat1 in method wrapper_CUDA_addmm)",
          "traceback": [
            "\u001b[0;31m---------------------------------------------------------------------------\u001b[0m",
            "\u001b[0;31mRuntimeError\u001b[0m                              Traceback (most recent call last)",
            "\u001b[0;32m<ipython-input-32-b9569e6debbf>\u001b[0m in \u001b[0;36m<cell line: 4>\u001b[0;34m()\u001b[0m\n\u001b[1;32m      2\u001b[0m \u001b[0;34m\u001b[0m\u001b[0m\n\u001b[1;32m      3\u001b[0m \u001b[0;31m# Note: This will error due to `eval_model()` not using device agnostic code\u001b[0m\u001b[0;34m\u001b[0m\u001b[0;34m\u001b[0m\u001b[0m\n\u001b[0;32m----> 4\u001b[0;31m model_1_results = eval_model(model=model_1,\n\u001b[0m\u001b[1;32m      5\u001b[0m     \u001b[0mdata_loader\u001b[0m\u001b[0;34m=\u001b[0m\u001b[0mtest_dataloader\u001b[0m\u001b[0;34m,\u001b[0m\u001b[0;34m\u001b[0m\u001b[0;34m\u001b[0m\u001b[0m\n\u001b[1;32m      6\u001b[0m     \u001b[0mloss_fn\u001b[0m\u001b[0;34m=\u001b[0m\u001b[0mloss_fn\u001b[0m\u001b[0;34m,\u001b[0m\u001b[0;34m\u001b[0m\u001b[0;34m\u001b[0m\u001b[0m\n",
            "\u001b[0;32m<ipython-input-25-72d2fd4b9add>\u001b[0m in \u001b[0;36meval_model\u001b[0;34m(model, data_loader, loss_fn, accuracy_fn)\u001b[0m\n\u001b[1;32m     20\u001b[0m         \u001b[0;32mfor\u001b[0m \u001b[0mX\u001b[0m\u001b[0;34m,\u001b[0m \u001b[0my\u001b[0m \u001b[0;32min\u001b[0m \u001b[0mdata_loader\u001b[0m\u001b[0;34m:\u001b[0m\u001b[0;34m\u001b[0m\u001b[0;34m\u001b[0m\u001b[0m\n\u001b[1;32m     21\u001b[0m             \u001b[0;31m# Make predictions with the model\u001b[0m\u001b[0;34m\u001b[0m\u001b[0;34m\u001b[0m\u001b[0m\n\u001b[0;32m---> 22\u001b[0;31m             \u001b[0my_pred\u001b[0m \u001b[0;34m=\u001b[0m \u001b[0mmodel\u001b[0m\u001b[0;34m(\u001b[0m\u001b[0mX\u001b[0m\u001b[0;34m)\u001b[0m\u001b[0;34m\u001b[0m\u001b[0;34m\u001b[0m\u001b[0m\n\u001b[0m\u001b[1;32m     23\u001b[0m \u001b[0;34m\u001b[0m\u001b[0m\n\u001b[1;32m     24\u001b[0m             \u001b[0;31m# Accumulate the loss and accuracy values per batch\u001b[0m\u001b[0;34m\u001b[0m\u001b[0;34m\u001b[0m\u001b[0m\n",
            "\u001b[0;32m/usr/local/lib/python3.10/dist-packages/torch/nn/modules/module.py\u001b[0m in \u001b[0;36m_wrapped_call_impl\u001b[0;34m(self, *args, **kwargs)\u001b[0m\n\u001b[1;32m   1516\u001b[0m             \u001b[0;32mreturn\u001b[0m \u001b[0mself\u001b[0m\u001b[0;34m.\u001b[0m\u001b[0m_compiled_call_impl\u001b[0m\u001b[0;34m(\u001b[0m\u001b[0;34m*\u001b[0m\u001b[0margs\u001b[0m\u001b[0;34m,\u001b[0m \u001b[0;34m**\u001b[0m\u001b[0mkwargs\u001b[0m\u001b[0;34m)\u001b[0m  \u001b[0;31m# type: ignore[misc]\u001b[0m\u001b[0;34m\u001b[0m\u001b[0;34m\u001b[0m\u001b[0m\n\u001b[1;32m   1517\u001b[0m         \u001b[0;32melse\u001b[0m\u001b[0;34m:\u001b[0m\u001b[0;34m\u001b[0m\u001b[0;34m\u001b[0m\u001b[0m\n\u001b[0;32m-> 1518\u001b[0;31m             \u001b[0;32mreturn\u001b[0m \u001b[0mself\u001b[0m\u001b[0;34m.\u001b[0m\u001b[0m_call_impl\u001b[0m\u001b[0;34m(\u001b[0m\u001b[0;34m*\u001b[0m\u001b[0margs\u001b[0m\u001b[0;34m,\u001b[0m \u001b[0;34m**\u001b[0m\u001b[0mkwargs\u001b[0m\u001b[0;34m)\u001b[0m\u001b[0;34m\u001b[0m\u001b[0;34m\u001b[0m\u001b[0m\n\u001b[0m\u001b[1;32m   1519\u001b[0m \u001b[0;34m\u001b[0m\u001b[0m\n\u001b[1;32m   1520\u001b[0m     \u001b[0;32mdef\u001b[0m \u001b[0m_call_impl\u001b[0m\u001b[0;34m(\u001b[0m\u001b[0mself\u001b[0m\u001b[0;34m,\u001b[0m \u001b[0;34m*\u001b[0m\u001b[0margs\u001b[0m\u001b[0;34m,\u001b[0m \u001b[0;34m**\u001b[0m\u001b[0mkwargs\u001b[0m\u001b[0;34m)\u001b[0m\u001b[0;34m:\u001b[0m\u001b[0;34m\u001b[0m\u001b[0;34m\u001b[0m\u001b[0m\n",
            "\u001b[0;32m/usr/local/lib/python3.10/dist-packages/torch/nn/modules/module.py\u001b[0m in \u001b[0;36m_call_impl\u001b[0;34m(self, *args, **kwargs)\u001b[0m\n\u001b[1;32m   1525\u001b[0m                 \u001b[0;32mor\u001b[0m \u001b[0m_global_backward_pre_hooks\u001b[0m \u001b[0;32mor\u001b[0m \u001b[0m_global_backward_hooks\u001b[0m\u001b[0;34m\u001b[0m\u001b[0;34m\u001b[0m\u001b[0m\n\u001b[1;32m   1526\u001b[0m                 or _global_forward_hooks or _global_forward_pre_hooks):\n\u001b[0;32m-> 1527\u001b[0;31m             \u001b[0;32mreturn\u001b[0m \u001b[0mforward_call\u001b[0m\u001b[0;34m(\u001b[0m\u001b[0;34m*\u001b[0m\u001b[0margs\u001b[0m\u001b[0;34m,\u001b[0m \u001b[0;34m**\u001b[0m\u001b[0mkwargs\u001b[0m\u001b[0;34m)\u001b[0m\u001b[0;34m\u001b[0m\u001b[0;34m\u001b[0m\u001b[0m\n\u001b[0m\u001b[1;32m   1528\u001b[0m \u001b[0;34m\u001b[0m\u001b[0m\n\u001b[1;32m   1529\u001b[0m         \u001b[0;32mtry\u001b[0m\u001b[0;34m:\u001b[0m\u001b[0;34m\u001b[0m\u001b[0;34m\u001b[0m\u001b[0m\n",
            "\u001b[0;32m<ipython-input-27-dde7d30349c2>\u001b[0m in \u001b[0;36mforward\u001b[0;34m(self, x)\u001b[0m\n\u001b[1;32m     12\u001b[0m \u001b[0;34m\u001b[0m\u001b[0m\n\u001b[1;32m     13\u001b[0m     \u001b[0;32mdef\u001b[0m \u001b[0mforward\u001b[0m\u001b[0;34m(\u001b[0m\u001b[0mself\u001b[0m\u001b[0;34m,\u001b[0m \u001b[0mx\u001b[0m\u001b[0;34m:\u001b[0m \u001b[0mtorch\u001b[0m\u001b[0;34m.\u001b[0m\u001b[0mTensor\u001b[0m\u001b[0;34m)\u001b[0m\u001b[0;34m:\u001b[0m\u001b[0;34m\u001b[0m\u001b[0;34m\u001b[0m\u001b[0m\n\u001b[0;32m---> 14\u001b[0;31m         \u001b[0;32mreturn\u001b[0m \u001b[0mself\u001b[0m\u001b[0;34m.\u001b[0m\u001b[0mlayer_stack\u001b[0m\u001b[0;34m(\u001b[0m\u001b[0mx\u001b[0m\u001b[0;34m)\u001b[0m\u001b[0;34m\u001b[0m\u001b[0;34m\u001b[0m\u001b[0m\n\u001b[0m",
            "\u001b[0;32m/usr/local/lib/python3.10/dist-packages/torch/nn/modules/module.py\u001b[0m in \u001b[0;36m_wrapped_call_impl\u001b[0;34m(self, *args, **kwargs)\u001b[0m\n\u001b[1;32m   1516\u001b[0m             \u001b[0;32mreturn\u001b[0m \u001b[0mself\u001b[0m\u001b[0;34m.\u001b[0m\u001b[0m_compiled_call_impl\u001b[0m\u001b[0;34m(\u001b[0m\u001b[0;34m*\u001b[0m\u001b[0margs\u001b[0m\u001b[0;34m,\u001b[0m \u001b[0;34m**\u001b[0m\u001b[0mkwargs\u001b[0m\u001b[0;34m)\u001b[0m  \u001b[0;31m# type: ignore[misc]\u001b[0m\u001b[0;34m\u001b[0m\u001b[0;34m\u001b[0m\u001b[0m\n\u001b[1;32m   1517\u001b[0m         \u001b[0;32melse\u001b[0m\u001b[0;34m:\u001b[0m\u001b[0;34m\u001b[0m\u001b[0;34m\u001b[0m\u001b[0m\n\u001b[0;32m-> 1518\u001b[0;31m             \u001b[0;32mreturn\u001b[0m \u001b[0mself\u001b[0m\u001b[0;34m.\u001b[0m\u001b[0m_call_impl\u001b[0m\u001b[0;34m(\u001b[0m\u001b[0;34m*\u001b[0m\u001b[0margs\u001b[0m\u001b[0;34m,\u001b[0m \u001b[0;34m**\u001b[0m\u001b[0mkwargs\u001b[0m\u001b[0;34m)\u001b[0m\u001b[0;34m\u001b[0m\u001b[0;34m\u001b[0m\u001b[0m\n\u001b[0m\u001b[1;32m   1519\u001b[0m \u001b[0;34m\u001b[0m\u001b[0m\n\u001b[1;32m   1520\u001b[0m     \u001b[0;32mdef\u001b[0m \u001b[0m_call_impl\u001b[0m\u001b[0;34m(\u001b[0m\u001b[0mself\u001b[0m\u001b[0;34m,\u001b[0m \u001b[0;34m*\u001b[0m\u001b[0margs\u001b[0m\u001b[0;34m,\u001b[0m \u001b[0;34m**\u001b[0m\u001b[0mkwargs\u001b[0m\u001b[0;34m)\u001b[0m\u001b[0;34m:\u001b[0m\u001b[0;34m\u001b[0m\u001b[0;34m\u001b[0m\u001b[0m\n",
            "\u001b[0;32m/usr/local/lib/python3.10/dist-packages/torch/nn/modules/module.py\u001b[0m in \u001b[0;36m_call_impl\u001b[0;34m(self, *args, **kwargs)\u001b[0m\n\u001b[1;32m   1525\u001b[0m                 \u001b[0;32mor\u001b[0m \u001b[0m_global_backward_pre_hooks\u001b[0m \u001b[0;32mor\u001b[0m \u001b[0m_global_backward_hooks\u001b[0m\u001b[0;34m\u001b[0m\u001b[0;34m\u001b[0m\u001b[0m\n\u001b[1;32m   1526\u001b[0m                 or _global_forward_hooks or _global_forward_pre_hooks):\n\u001b[0;32m-> 1527\u001b[0;31m             \u001b[0;32mreturn\u001b[0m \u001b[0mforward_call\u001b[0m\u001b[0;34m(\u001b[0m\u001b[0;34m*\u001b[0m\u001b[0margs\u001b[0m\u001b[0;34m,\u001b[0m \u001b[0;34m**\u001b[0m\u001b[0mkwargs\u001b[0m\u001b[0;34m)\u001b[0m\u001b[0;34m\u001b[0m\u001b[0;34m\u001b[0m\u001b[0m\n\u001b[0m\u001b[1;32m   1528\u001b[0m \u001b[0;34m\u001b[0m\u001b[0m\n\u001b[1;32m   1529\u001b[0m         \u001b[0;32mtry\u001b[0m\u001b[0;34m:\u001b[0m\u001b[0;34m\u001b[0m\u001b[0;34m\u001b[0m\u001b[0m\n",
            "\u001b[0;32m/usr/local/lib/python3.10/dist-packages/torch/nn/modules/container.py\u001b[0m in \u001b[0;36mforward\u001b[0;34m(self, input)\u001b[0m\n\u001b[1;32m    213\u001b[0m     \u001b[0;32mdef\u001b[0m \u001b[0mforward\u001b[0m\u001b[0;34m(\u001b[0m\u001b[0mself\u001b[0m\u001b[0;34m,\u001b[0m \u001b[0minput\u001b[0m\u001b[0;34m)\u001b[0m\u001b[0;34m:\u001b[0m\u001b[0;34m\u001b[0m\u001b[0;34m\u001b[0m\u001b[0m\n\u001b[1;32m    214\u001b[0m         \u001b[0;32mfor\u001b[0m \u001b[0mmodule\u001b[0m \u001b[0;32min\u001b[0m \u001b[0mself\u001b[0m\u001b[0;34m:\u001b[0m\u001b[0;34m\u001b[0m\u001b[0;34m\u001b[0m\u001b[0m\n\u001b[0;32m--> 215\u001b[0;31m             \u001b[0minput\u001b[0m \u001b[0;34m=\u001b[0m \u001b[0mmodule\u001b[0m\u001b[0;34m(\u001b[0m\u001b[0minput\u001b[0m\u001b[0;34m)\u001b[0m\u001b[0;34m\u001b[0m\u001b[0;34m\u001b[0m\u001b[0m\n\u001b[0m\u001b[1;32m    216\u001b[0m         \u001b[0;32mreturn\u001b[0m \u001b[0minput\u001b[0m\u001b[0;34m\u001b[0m\u001b[0;34m\u001b[0m\u001b[0m\n\u001b[1;32m    217\u001b[0m \u001b[0;34m\u001b[0m\u001b[0m\n",
            "\u001b[0;32m/usr/local/lib/python3.10/dist-packages/torch/nn/modules/module.py\u001b[0m in \u001b[0;36m_wrapped_call_impl\u001b[0;34m(self, *args, **kwargs)\u001b[0m\n\u001b[1;32m   1516\u001b[0m             \u001b[0;32mreturn\u001b[0m \u001b[0mself\u001b[0m\u001b[0;34m.\u001b[0m\u001b[0m_compiled_call_impl\u001b[0m\u001b[0;34m(\u001b[0m\u001b[0;34m*\u001b[0m\u001b[0margs\u001b[0m\u001b[0;34m,\u001b[0m \u001b[0;34m**\u001b[0m\u001b[0mkwargs\u001b[0m\u001b[0;34m)\u001b[0m  \u001b[0;31m# type: ignore[misc]\u001b[0m\u001b[0;34m\u001b[0m\u001b[0;34m\u001b[0m\u001b[0m\n\u001b[1;32m   1517\u001b[0m         \u001b[0;32melse\u001b[0m\u001b[0;34m:\u001b[0m\u001b[0;34m\u001b[0m\u001b[0;34m\u001b[0m\u001b[0m\n\u001b[0;32m-> 1518\u001b[0;31m             \u001b[0;32mreturn\u001b[0m \u001b[0mself\u001b[0m\u001b[0;34m.\u001b[0m\u001b[0m_call_impl\u001b[0m\u001b[0;34m(\u001b[0m\u001b[0;34m*\u001b[0m\u001b[0margs\u001b[0m\u001b[0;34m,\u001b[0m \u001b[0;34m**\u001b[0m\u001b[0mkwargs\u001b[0m\u001b[0;34m)\u001b[0m\u001b[0;34m\u001b[0m\u001b[0;34m\u001b[0m\u001b[0m\n\u001b[0m\u001b[1;32m   1519\u001b[0m \u001b[0;34m\u001b[0m\u001b[0m\n\u001b[1;32m   1520\u001b[0m     \u001b[0;32mdef\u001b[0m \u001b[0m_call_impl\u001b[0m\u001b[0;34m(\u001b[0m\u001b[0mself\u001b[0m\u001b[0;34m,\u001b[0m \u001b[0;34m*\u001b[0m\u001b[0margs\u001b[0m\u001b[0;34m,\u001b[0m \u001b[0;34m**\u001b[0m\u001b[0mkwargs\u001b[0m\u001b[0;34m)\u001b[0m\u001b[0;34m:\u001b[0m\u001b[0;34m\u001b[0m\u001b[0;34m\u001b[0m\u001b[0m\n",
            "\u001b[0;32m/usr/local/lib/python3.10/dist-packages/torch/nn/modules/module.py\u001b[0m in \u001b[0;36m_call_impl\u001b[0;34m(self, *args, **kwargs)\u001b[0m\n\u001b[1;32m   1525\u001b[0m                 \u001b[0;32mor\u001b[0m \u001b[0m_global_backward_pre_hooks\u001b[0m \u001b[0;32mor\u001b[0m \u001b[0m_global_backward_hooks\u001b[0m\u001b[0;34m\u001b[0m\u001b[0;34m\u001b[0m\u001b[0m\n\u001b[1;32m   1526\u001b[0m                 or _global_forward_hooks or _global_forward_pre_hooks):\n\u001b[0;32m-> 1527\u001b[0;31m             \u001b[0;32mreturn\u001b[0m \u001b[0mforward_call\u001b[0m\u001b[0;34m(\u001b[0m\u001b[0;34m*\u001b[0m\u001b[0margs\u001b[0m\u001b[0;34m,\u001b[0m \u001b[0;34m**\u001b[0m\u001b[0mkwargs\u001b[0m\u001b[0;34m)\u001b[0m\u001b[0;34m\u001b[0m\u001b[0;34m\u001b[0m\u001b[0m\n\u001b[0m\u001b[1;32m   1528\u001b[0m \u001b[0;34m\u001b[0m\u001b[0m\n\u001b[1;32m   1529\u001b[0m         \u001b[0;32mtry\u001b[0m\u001b[0;34m:\u001b[0m\u001b[0;34m\u001b[0m\u001b[0;34m\u001b[0m\u001b[0m\n",
            "\u001b[0;32m/usr/local/lib/python3.10/dist-packages/torch/nn/modules/linear.py\u001b[0m in \u001b[0;36mforward\u001b[0;34m(self, input)\u001b[0m\n\u001b[1;32m    112\u001b[0m \u001b[0;34m\u001b[0m\u001b[0m\n\u001b[1;32m    113\u001b[0m     \u001b[0;32mdef\u001b[0m \u001b[0mforward\u001b[0m\u001b[0;34m(\u001b[0m\u001b[0mself\u001b[0m\u001b[0;34m,\u001b[0m \u001b[0minput\u001b[0m\u001b[0;34m:\u001b[0m \u001b[0mTensor\u001b[0m\u001b[0;34m)\u001b[0m \u001b[0;34m->\u001b[0m \u001b[0mTensor\u001b[0m\u001b[0;34m:\u001b[0m\u001b[0;34m\u001b[0m\u001b[0;34m\u001b[0m\u001b[0m\n\u001b[0;32m--> 114\u001b[0;31m         \u001b[0;32mreturn\u001b[0m \u001b[0mF\u001b[0m\u001b[0;34m.\u001b[0m\u001b[0mlinear\u001b[0m\u001b[0;34m(\u001b[0m\u001b[0minput\u001b[0m\u001b[0;34m,\u001b[0m \u001b[0mself\u001b[0m\u001b[0;34m.\u001b[0m\u001b[0mweight\u001b[0m\u001b[0;34m,\u001b[0m \u001b[0mself\u001b[0m\u001b[0;34m.\u001b[0m\u001b[0mbias\u001b[0m\u001b[0;34m)\u001b[0m\u001b[0;34m\u001b[0m\u001b[0;34m\u001b[0m\u001b[0m\n\u001b[0m\u001b[1;32m    115\u001b[0m \u001b[0;34m\u001b[0m\u001b[0m\n\u001b[1;32m    116\u001b[0m     \u001b[0;32mdef\u001b[0m \u001b[0mextra_repr\u001b[0m\u001b[0;34m(\u001b[0m\u001b[0mself\u001b[0m\u001b[0;34m)\u001b[0m \u001b[0;34m->\u001b[0m \u001b[0mstr\u001b[0m\u001b[0;34m:\u001b[0m\u001b[0;34m\u001b[0m\u001b[0;34m\u001b[0m\u001b[0m\n",
            "\u001b[0;31mRuntimeError\u001b[0m: Expected all tensors to be on the same device, but found at least two devices, cuda:0 and cpu! (when checking argument for argument mat1 in method wrapper_CUDA_addmm)"
          ]
        }
      ],
      "source": [
        "torch.manual_seed(42)\n",
        "\n",
        "# Note: This will error due to `eval_model()` not using device agnostic code\n",
        "model_1_results = eval_model(model=model_1,\n",
        "    data_loader=test_dataloader,\n",
        "    loss_fn=loss_fn,\n",
        "    accuracy_fn=accuracy_fn)\n",
        "model_1_results"
      ]
    },
    {
      "cell_type": "markdown",
      "id": "6a3481a5-489d-4db9-ac95-c3ce385978b7",
      "metadata": {
        "id": "6a3481a5-489d-4db9-ac95-c3ce385978b7"
      },
      "source": [
        "\n",
        "How about we fix that by passing a target `device` parameter to our `eval_model()` function?\n",
        "\n",
        "Then we'll try calculating the results again."
      ]
    },
    {
      "cell_type": "code",
      "execution_count": 33,
      "id": "f3665d99-1adc-4d9f-bfc6-e5601a80691c",
      "metadata": {
        "colab": {
          "base_uri": "https://localhost:8080/"
        },
        "id": "f3665d99-1adc-4d9f-bfc6-e5601a80691c",
        "outputId": "4f9bd68e-1341-4a5f-f1c8-695a29e45696"
      },
      "outputs": [
        {
          "output_type": "execute_result",
          "data": {
            "text/plain": [
              "{'model_name': 'FashionMNISTModelV1',\n",
              " 'model_loss': 0.6850008964538574,\n",
              " 'model_acc': 75.01996805111821}"
            ]
          },
          "metadata": {},
          "execution_count": 33
        }
      ],
      "source": [
        "# Move values to device\n",
        "torch.manual_seed(42)\n",
        "def eval_model(model: torch.nn.Module,\n",
        "               data_loader: torch.utils.data.DataLoader,\n",
        "               loss_fn: torch.nn.Module,\n",
        "               accuracy_fn,\n",
        "               device: torch.device = device):\n",
        "    \"\"\"Evaluates a given model on a given dataset.\n",
        "\n",
        "    Args:\n",
        "        model (torch.nn.Module): A PyTorch model capable of making predictions on data_loader.\n",
        "        data_loader (torch.utils.data.DataLoader): The target dataset to predict on.\n",
        "        loss_fn (torch.nn.Module): The loss function of model.\n",
        "        accuracy_fn: An accuracy function to compare the models predictions to the truth labels.\n",
        "        device (str, optional): Target device to compute on. Defaults to device.\n",
        "\n",
        "    Returns:\n",
        "        (dict): Results of model making predictions on data_loader.\n",
        "    \"\"\"\n",
        "    loss, acc = 0, 0\n",
        "    model.eval()\n",
        "    with torch.inference_mode():\n",
        "        for X, y in data_loader:\n",
        "            # Send data to the target device\n",
        "            X, y = X.to(device), y.to(device)\n",
        "            y_pred = model(X)\n",
        "            loss += loss_fn(y_pred, y)\n",
        "            acc += accuracy_fn(y_true=y, y_pred=y_pred.argmax(dim=1))\n",
        "\n",
        "        # Scale loss and acc\n",
        "        loss /= len(data_loader)\n",
        "        acc /= len(data_loader)\n",
        "    return {\"model_name\": model.__class__.__name__, # only works when model was created with a class\n",
        "            \"model_loss\": loss.item(),\n",
        "            \"model_acc\": acc}\n",
        "\n",
        "# Calculate model 1 results with device-agnostic code\n",
        "model_1_results = eval_model(model=model_1, data_loader=test_dataloader,\n",
        "    loss_fn=loss_fn, accuracy_fn=accuracy_fn,\n",
        "    device=device\n",
        ")\n",
        "model_1_results"
      ]
    },
    {
      "cell_type": "code",
      "execution_count": 34,
      "id": "a9e916cf-f873-4481-a983-bac26ce4cac2",
      "metadata": {
        "colab": {
          "base_uri": "https://localhost:8080/"
        },
        "id": "a9e916cf-f873-4481-a983-bac26ce4cac2",
        "outputId": "8654c925-9156-4e79-e94f-da68a15a7ded"
      },
      "outputs": [
        {
          "output_type": "execute_result",
          "data": {
            "text/plain": [
              "{'model_name': 'FashionMNISTModelV0',\n",
              " 'model_loss': 0.47663894295692444,\n",
              " 'model_acc': 83.42651757188499}"
            ]
          },
          "metadata": {},
          "execution_count": 34
        }
      ],
      "source": [
        "# Check baseline results\n",
        "model_0_results"
      ]
    },
    {
      "cell_type": "markdown",
      "id": "ac22d685-1b8d-4215-90de-c0476cb0fbdf",
      "metadata": {
        "id": "ac22d685-1b8d-4215-90de-c0476cb0fbdf"
      },
      "source": [
        "## 7. Model 2: Building a Convolutional Neural Network (CNN)\n",
        "\n"
      ]
    },
    {
      "cell_type": "code",
      "execution_count": 35,
      "id": "dce60214-63fd-46e2-89ba-125445ac76b7",
      "metadata": {
        "colab": {
          "base_uri": "https://localhost:8080/"
        },
        "id": "dce60214-63fd-46e2-89ba-125445ac76b7",
        "outputId": "5fa6cbc8-b98a-4a5c-c5ec-5f75bad63563"
      },
      "outputs": [
        {
          "output_type": "execute_result",
          "data": {
            "text/plain": [
              "FashionMNISTModelV2(\n",
              "  (block_1): Sequential(\n",
              "    (0): Conv2d(1, 10, kernel_size=(3, 3), stride=(1, 1), padding=(1, 1))\n",
              "    (1): ReLU()\n",
              "    (2): Conv2d(10, 10, kernel_size=(3, 3), stride=(1, 1), padding=(1, 1))\n",
              "    (3): ReLU()\n",
              "    (4): MaxPool2d(kernel_size=2, stride=2, padding=0, dilation=1, ceil_mode=False)\n",
              "  )\n",
              "  (block_2): Sequential(\n",
              "    (0): Conv2d(10, 10, kernel_size=(3, 3), stride=(1, 1), padding=(1, 1))\n",
              "    (1): ReLU()\n",
              "    (2): Conv2d(10, 10, kernel_size=(3, 3), stride=(1, 1), padding=(1, 1))\n",
              "    (3): ReLU()\n",
              "    (4): MaxPool2d(kernel_size=2, stride=2, padding=0, dilation=1, ceil_mode=False)\n",
              "  )\n",
              "  (classifier): Sequential(\n",
              "    (0): Flatten(start_dim=1, end_dim=-1)\n",
              "    (1): Linear(in_features=490, out_features=10, bias=True)\n",
              "  )\n",
              ")"
            ]
          },
          "metadata": {},
          "execution_count": 35
        }
      ],
      "source": [
        "# Create a convolutional neural network\n",
        "class FashionMNISTModelV2(nn.Module):\n",
        "    \"\"\"\n",
        "    Model architecture copying TinyVGG from:\n",
        "    https://poloclub.github.io/cnn-explainer/\n",
        "    \"\"\"\n",
        "    def __init__(self, input_shape: int, hidden_units: int, output_shape: int):\n",
        "        super().__init__()\n",
        "        self.block_1 = nn.Sequential(\n",
        "            nn.Conv2d(in_channels=input_shape,\n",
        "                      out_channels=hidden_units,\n",
        "                      kernel_size=3, # how big is the square that's going over the image?\n",
        "                      stride=1, # default\n",
        "                      padding=1),# options = \"valid\" (no padding) or \"same\" (output has same shape as input) or int for specific number\n",
        "            nn.ReLU(),\n",
        "            nn.Conv2d(in_channels=hidden_units,\n",
        "                      out_channels=hidden_units,\n",
        "                      kernel_size=3,\n",
        "                      stride=1,\n",
        "                      padding=1),\n",
        "            nn.ReLU(),\n",
        "            nn.MaxPool2d(kernel_size=2,\n",
        "                         stride=2) # default stride value is same as kernel_size\n",
        "        )\n",
        "        self.block_2 = nn.Sequential(\n",
        "            nn.Conv2d(hidden_units, hidden_units, 3, padding=1),\n",
        "            nn.ReLU(),\n",
        "            nn.Conv2d(hidden_units, hidden_units, 3, padding=1),\n",
        "            nn.ReLU(),\n",
        "            nn.MaxPool2d(2)\n",
        "        )\n",
        "        self.classifier = nn.Sequential(\n",
        "            nn.Flatten(),\n",
        "            # Where did this in_features shape come from?\n",
        "            # It's because each layer of our network compresses and changes the shape of our inputs data.\n",
        "            nn.Linear(in_features=hidden_units*7*7,\n",
        "                      out_features=output_shape)\n",
        "        )\n",
        "\n",
        "    def forward(self, x: torch.Tensor):\n",
        "        x = self.block_1(x)\n",
        "        # print(x.shape)\n",
        "        x = self.block_2(x)\n",
        "        # print(x.shape)\n",
        "        x = self.classifier(x)\n",
        "        # print(x.shape)\n",
        "        return x\n",
        "\n",
        "torch.manual_seed(42)\n",
        "model_2 = FashionMNISTModelV2(input_shape=1,\n",
        "    hidden_units=10,\n",
        "    output_shape=len(class_names)).to(device)\n",
        "model_2"
      ]
    },
    {
      "cell_type": "markdown",
      "id": "6478cc5a-7b33-425d-9ab3-6d40168a1aee",
      "metadata": {
        "id": "6478cc5a-7b33-425d-9ab3-6d40168a1aee"
      },
      "source": [
        "### 7.1 Stepping through `nn.Conv2d()`\n",
        "\n"
      ]
    },
    {
      "cell_type": "code",
      "execution_count": 36,
      "id": "058b01ac-3f6a-4472-bcbf-3377974e3254",
      "metadata": {
        "colab": {
          "base_uri": "https://localhost:8080/"
        },
        "id": "058b01ac-3f6a-4472-bcbf-3377974e3254",
        "outputId": "c57dac49-4908-435a-8e76-ad4913b5bf21"
      },
      "outputs": [
        {
          "output_type": "stream",
          "name": "stdout",
          "text": [
            "Image batch shape: torch.Size([32, 3, 64, 64]) -> [batch_size, color_channels, height, width]\n",
            "Single image shape: torch.Size([3, 64, 64]) -> [color_channels, height, width]\n",
            "Single image pixel values:\n",
            "tensor([[[ 1.9269,  1.4873,  0.9007,  ...,  1.8446, -1.1845,  1.3835],\n",
            "         [ 1.4451,  0.8564,  2.2181,  ...,  0.3399,  0.7200,  0.4114],\n",
            "         [ 1.9312,  1.0119, -1.4364,  ..., -0.5558,  0.7043,  0.7099],\n",
            "         ...,\n",
            "         [-0.5610, -0.4830,  0.4770,  ..., -0.2713, -0.9537, -0.6737],\n",
            "         [ 0.3076, -0.1277,  0.0366,  ..., -2.0060,  0.2824, -0.8111],\n",
            "         [-1.5486,  0.0485, -0.7712,  ..., -0.1403,  0.9416, -0.0118]],\n",
            "\n",
            "        [[-0.5197,  1.8524,  1.8365,  ...,  0.8935, -1.5114, -0.8515],\n",
            "         [ 2.0818,  1.0677, -1.4277,  ...,  1.6612, -2.6223, -0.4319],\n",
            "         [-0.1010, -0.4388, -1.9775,  ...,  0.2106,  0.2536, -0.7318],\n",
            "         ...,\n",
            "         [ 0.2779,  0.7342, -0.3736,  ..., -0.4601,  0.1815,  0.1850],\n",
            "         [ 0.7205, -0.2833,  0.0937,  ..., -0.1002, -2.3609,  2.2465],\n",
            "         [-1.3242, -0.1973,  0.2920,  ...,  0.5409,  0.6940,  1.8563]],\n",
            "\n",
            "        [[-0.7978,  1.0261,  1.1465,  ...,  1.2134,  0.9354, -0.0780],\n",
            "         [-1.4647, -1.9571,  0.1017,  ..., -1.9986, -0.7409,  0.7011],\n",
            "         [-1.3938,  0.8466, -1.7191,  ..., -1.1867,  0.1320,  0.3407],\n",
            "         ...,\n",
            "         [ 0.8206, -0.3745,  1.2499,  ..., -0.0676,  0.0385,  0.6335],\n",
            "         [-0.5589, -0.3393,  0.2347,  ...,  2.1181,  2.4569,  1.3083],\n",
            "         [-0.4092,  1.5199,  0.2401,  ..., -0.2558,  0.7870,  0.9924]]])\n"
          ]
        }
      ],
      "source": [
        "torch.manual_seed(42)\n",
        "\n",
        "# Create sample batch of random numbers with same size as image batch\n",
        "images = torch.randn(size=(32, 3, 64, 64)) # [batch_size, color_channels, height, width]\n",
        "test_image = images[0] # get a single image for testing\n",
        "print(f\"Image batch shape: {images.shape} -> [batch_size, color_channels, height, width]\")\n",
        "print(f\"Single image shape: {test_image.shape} -> [color_channels, height, width]\")\n",
        "print(f\"Single image pixel values:\\n{test_image}\")"
      ]
    },
    {
      "cell_type": "code",
      "execution_count": 37,
      "id": "ebd39562-1dad-40e3-90f5-750a5dac24e2",
      "metadata": {
        "colab": {
          "base_uri": "https://localhost:8080/"
        },
        "id": "ebd39562-1dad-40e3-90f5-750a5dac24e2",
        "outputId": "d962813d-d5a6-4dd1-f2b5-a9eb109bd4df"
      },
      "outputs": [
        {
          "output_type": "execute_result",
          "data": {
            "text/plain": [
              "tensor([[[ 1.5396,  0.0516,  0.6454,  ..., -0.3673,  0.8711,  0.4256],\n",
              "         [ 0.3662,  1.0114, -0.5997,  ...,  0.8983,  0.2809, -0.2741],\n",
              "         [ 1.2664, -1.4054,  0.3727,  ..., -0.3409,  1.2191, -0.0463],\n",
              "         ...,\n",
              "         [-0.1541,  0.5132, -0.3624,  ..., -0.2360, -0.4609, -0.0035],\n",
              "         [ 0.2981, -0.2432,  1.5012,  ..., -0.6289, -0.7283, -0.5767],\n",
              "         [-0.0386, -0.0781, -0.0388,  ...,  0.2842,  0.4228, -0.1802]],\n",
              "\n",
              "        [[-0.2840, -0.0319, -0.4455,  ..., -0.7956,  1.5599, -1.2449],\n",
              "         [ 0.2753, -0.1262, -0.6541,  ..., -0.2211,  0.1999, -0.8856],\n",
              "         [-0.5404, -1.5489,  0.0249,  ..., -0.5932, -1.0913, -0.3849],\n",
              "         ...,\n",
              "         [ 0.3870, -0.4064, -0.8236,  ...,  0.1734, -0.4330, -0.4951],\n",
              "         [-0.1984, -0.6386,  1.0263,  ..., -0.9401, -0.0585, -0.7833],\n",
              "         [-0.6306, -0.2052, -0.3694,  ..., -1.3248,  0.2456, -0.7134]],\n",
              "\n",
              "        [[ 0.4414,  0.5100,  0.4846,  ..., -0.8484,  0.2638,  1.1258],\n",
              "         [ 0.8117,  0.3191, -0.0157,  ...,  1.2686,  0.2319,  0.5003],\n",
              "         [ 0.3212,  0.0485, -0.2581,  ...,  0.2258,  0.2587, -0.8804],\n",
              "         ...,\n",
              "         [-0.1144, -0.1869,  0.0160,  ..., -0.8346,  0.0974,  0.8421],\n",
              "         [ 0.2941,  0.4417,  0.5866,  ..., -0.1224,  0.4814, -0.4799],\n",
              "         [ 0.6059, -0.0415, -0.2028,  ...,  0.1170,  0.2521, -0.4372]],\n",
              "\n",
              "        ...,\n",
              "\n",
              "        [[-0.2560, -0.0477,  0.6380,  ...,  0.6436,  0.7553, -0.7055],\n",
              "         [ 1.5595, -0.2209, -0.9486,  ..., -0.4876,  0.7754,  0.0750],\n",
              "         [-0.0797,  0.2471,  1.1300,  ...,  0.1505,  0.2354,  0.9576],\n",
              "         ...,\n",
              "         [ 1.1065,  0.6839,  1.2183,  ...,  0.3015, -0.1910, -0.1902],\n",
              "         [-0.3486, -0.7173, -0.3582,  ...,  0.4917,  0.7219,  0.1513],\n",
              "         [ 0.0119,  0.1017,  0.7839,  ..., -0.3752, -0.8127, -0.1257]],\n",
              "\n",
              "        [[ 0.3841,  1.1322,  0.1620,  ...,  0.7010,  0.0109,  0.6058],\n",
              "         [ 0.1664,  0.1873,  1.5924,  ...,  0.3733,  0.9096, -0.5399],\n",
              "         [ 0.4094, -0.0861, -0.7935,  ..., -0.1285, -0.9932, -0.3013],\n",
              "         ...,\n",
              "         [ 0.2688, -0.5630, -1.1902,  ...,  0.4493,  0.5404, -0.0103],\n",
              "         [ 0.0535,  0.4411,  0.5313,  ...,  0.0148, -1.0056,  0.3759],\n",
              "         [ 0.3031, -0.1590, -0.1316,  ..., -0.5384, -0.4271, -0.4876]],\n",
              "\n",
              "        [[-1.1865, -0.7280, -1.2331,  ..., -0.9013, -0.0542, -1.5949],\n",
              "         [-0.6345, -0.5920,  0.5326,  ..., -1.0395, -0.7963, -0.0647],\n",
              "         [-0.1132,  0.5166,  0.2569,  ...,  0.5595, -1.6881,  0.9485],\n",
              "         ...,\n",
              "         [-0.0254, -0.2669,  0.1927,  ..., -0.2917,  0.1088, -0.4807],\n",
              "         [-0.2609, -0.2328,  0.1404,  ..., -0.1325, -0.8436, -0.7524],\n",
              "         [-1.1399, -0.1751, -0.8705,  ...,  0.1589,  0.3377,  0.3493]]],\n",
              "       grad_fn=<SqueezeBackward1>)"
            ]
          },
          "metadata": {},
          "execution_count": 37
        }
      ],
      "source": [
        "torch.manual_seed(42)\n",
        "\n",
        "# Create a convolutional layer with same dimensions as TinyVGG\n",
        "# (try changing any of the parameters and see what happens)\n",
        "conv_layer = nn.Conv2d(in_channels=3,\n",
        "                       out_channels=10,\n",
        "                       kernel_size=3,\n",
        "                       stride=1,\n",
        "                       padding=0) # also try using \"valid\" or \"same\" here\n",
        "\n",
        "# Pass the data through the convolutional layer\n",
        "conv_layer(test_image) # Note: If running PyTorch <1.11.0, this will error because of shape issues (nn.Conv.2d() expects a 4d tensor as input)"
      ]
    },
    {
      "cell_type": "code",
      "execution_count": 38,
      "id": "abba741d-a1ed-44ed-ba53-41d589433a2c",
      "metadata": {
        "colab": {
          "base_uri": "https://localhost:8080/"
        },
        "id": "abba741d-a1ed-44ed-ba53-41d589433a2c",
        "outputId": "50d23246-53ed-4dbe-f372-24bb69e1d609"
      },
      "outputs": [
        {
          "output_type": "execute_result",
          "data": {
            "text/plain": [
              "torch.Size([1, 3, 64, 64])"
            ]
          },
          "metadata": {},
          "execution_count": 38
        }
      ],
      "source": [
        "# Add extra dimension to test image\n",
        "test_image.unsqueeze(dim=0).shape"
      ]
    },
    {
      "cell_type": "code",
      "execution_count": 39,
      "id": "c7280a49-4ee0-452b-a514-61115b6a444c",
      "metadata": {
        "colab": {
          "base_uri": "https://localhost:8080/"
        },
        "id": "c7280a49-4ee0-452b-a514-61115b6a444c",
        "outputId": "850cd965-51c5-4f2d-abf0-925c26772fe8"
      },
      "outputs": [
        {
          "output_type": "execute_result",
          "data": {
            "text/plain": [
              "torch.Size([1, 10, 62, 62])"
            ]
          },
          "metadata": {},
          "execution_count": 39
        }
      ],
      "source": [
        "# Pass test image with extra dimension through conv_layer\n",
        "conv_layer(test_image.unsqueeze(dim=0)).shape"
      ]
    },
    {
      "cell_type": "markdown",
      "id": "181df81b-7c5a-46cc-b8d5-a592bf755a13",
      "metadata": {
        "id": "181df81b-7c5a-46cc-b8d5-a592bf755a13"
      },
      "source": [
        "\n",
        "\n",
        "What if we changed the values of `conv_layer`?"
      ]
    },
    {
      "cell_type": "code",
      "execution_count": 40,
      "id": "04445d45-cf2f-4c1d-b215-bc50865a207a",
      "metadata": {
        "colab": {
          "base_uri": "https://localhost:8080/"
        },
        "id": "04445d45-cf2f-4c1d-b215-bc50865a207a",
        "outputId": "5bf84764-7e4b-4840-e790-d664a0ced21a"
      },
      "outputs": [
        {
          "output_type": "execute_result",
          "data": {
            "text/plain": [
              "torch.Size([1, 10, 30, 30])"
            ]
          },
          "metadata": {},
          "execution_count": 40
        }
      ],
      "source": [
        "torch.manual_seed(42)\n",
        "# Create a new conv_layer with different values (try setting these to whatever you like)\n",
        "conv_layer_2 = nn.Conv2d(in_channels=3, # same number of color channels as our input image\n",
        "                         out_channels=10,\n",
        "                         kernel_size=(5, 5), # kernel is usually a square so a tuple also works\n",
        "                         stride=2,\n",
        "                         padding=0)\n",
        "\n",
        "# Pass single image through new conv_layer_2 (this calls nn.Conv2d()'s forward() method on the input)\n",
        "conv_layer_2(test_image.unsqueeze(dim=0)).shape"
      ]
    },
    {
      "cell_type": "markdown",
      "id": "b27dbdbb-3e32-4ffa-803e-cf943d96c72b",
      "metadata": {
        "id": "b27dbdbb-3e32-4ffa-803e-cf943d96c72b"
      },
      "source": [
        "\n",
        "If we check out our `conv_layer_2.state_dict()` we'll find a similar weight and bias setup as we've seen before."
      ]
    },
    {
      "cell_type": "code",
      "execution_count": 41,
      "id": "46027ed1-c3a7-46bd-bab7-17f8c20e354b",
      "metadata": {
        "colab": {
          "base_uri": "https://localhost:8080/"
        },
        "id": "46027ed1-c3a7-46bd-bab7-17f8c20e354b",
        "outputId": "4ae07f18-72cf-455d-bb02-e7ff9c640d27"
      },
      "outputs": [
        {
          "output_type": "stream",
          "name": "stdout",
          "text": [
            "OrderedDict([('weight', tensor([[[[ 0.0883,  0.0958, -0.0271,  0.1061, -0.0253],\n",
            "          [ 0.0233, -0.0562,  0.0678,  0.1018, -0.0847],\n",
            "          [ 0.1004,  0.0216,  0.0853,  0.0156,  0.0557],\n",
            "          [-0.0163,  0.0890,  0.0171, -0.0539,  0.0294],\n",
            "          [-0.0532, -0.0135, -0.0469,  0.0766, -0.0911]],\n",
            "\n",
            "         [[-0.0532, -0.0326, -0.0694,  0.0109, -0.1140],\n",
            "          [ 0.1043, -0.0981,  0.0891,  0.0192, -0.0375],\n",
            "          [ 0.0714,  0.0180,  0.0933,  0.0126, -0.0364],\n",
            "          [ 0.0310, -0.0313,  0.0486,  0.1031,  0.0667],\n",
            "          [-0.0505,  0.0667,  0.0207,  0.0586, -0.0704]],\n",
            "\n",
            "         [[-0.1143, -0.0446, -0.0886,  0.0947,  0.0333],\n",
            "          [ 0.0478,  0.0365, -0.0020,  0.0904, -0.0820],\n",
            "          [ 0.0073, -0.0788,  0.0356, -0.0398,  0.0354],\n",
            "          [-0.0241,  0.0958, -0.0684, -0.0689, -0.0689],\n",
            "          [ 0.1039,  0.0385,  0.1111, -0.0953, -0.1145]]],\n",
            "\n",
            "\n",
            "        [[[-0.0903, -0.0777,  0.0468,  0.0413,  0.0959],\n",
            "          [-0.0596, -0.0787,  0.0613, -0.0467,  0.0701],\n",
            "          [-0.0274,  0.0661, -0.0897, -0.0583,  0.0352],\n",
            "          [ 0.0244, -0.0294,  0.0688,  0.0785, -0.0837],\n",
            "          [-0.0616,  0.1057, -0.0390, -0.0409, -0.1117]],\n",
            "\n",
            "         [[-0.0661,  0.0288, -0.0152, -0.0838,  0.0027],\n",
            "          [-0.0789, -0.0980, -0.0636, -0.1011, -0.0735],\n",
            "          [ 0.1154,  0.0218,  0.0356, -0.1077, -0.0758],\n",
            "          [-0.0384,  0.0181, -0.1016, -0.0498, -0.0691],\n",
            "          [ 0.0003, -0.0430, -0.0080, -0.0782, -0.0793]],\n",
            "\n",
            "         [[-0.0674, -0.0395, -0.0911,  0.0968, -0.0229],\n",
            "          [ 0.0994,  0.0360, -0.0978,  0.0799, -0.0318],\n",
            "          [-0.0443, -0.0958, -0.1148,  0.0330, -0.0252],\n",
            "          [ 0.0450, -0.0948,  0.0857, -0.0848, -0.0199],\n",
            "          [ 0.0241,  0.0596,  0.0932,  0.1052, -0.0916]]],\n",
            "\n",
            "\n",
            "        [[[ 0.0291, -0.0497, -0.0127, -0.0864,  0.1052],\n",
            "          [-0.0847,  0.0617,  0.0406,  0.0375, -0.0624],\n",
            "          [ 0.1050,  0.0254,  0.0149, -0.1018,  0.0485],\n",
            "          [-0.0173, -0.0529,  0.0992,  0.0257, -0.0639],\n",
            "          [-0.0584, -0.0055,  0.0645, -0.0295, -0.0659]],\n",
            "\n",
            "         [[-0.0395, -0.0863,  0.0412,  0.0894, -0.1087],\n",
            "          [ 0.0268,  0.0597,  0.0209, -0.0411,  0.0603],\n",
            "          [ 0.0607,  0.0432, -0.0203, -0.0306,  0.0124],\n",
            "          [-0.0204, -0.0344,  0.0738,  0.0992, -0.0114],\n",
            "          [-0.0259,  0.0017, -0.0069,  0.0278,  0.0324]],\n",
            "\n",
            "         [[-0.1049, -0.0426,  0.0972,  0.0450, -0.0057],\n",
            "          [-0.0696, -0.0706, -0.1034, -0.0376,  0.0390],\n",
            "          [ 0.0736,  0.0533, -0.1021, -0.0694, -0.0182],\n",
            "          [ 0.1117,  0.0167, -0.0299,  0.0478, -0.0440],\n",
            "          [-0.0747,  0.0843, -0.0525, -0.0231, -0.1149]]],\n",
            "\n",
            "\n",
            "        [[[ 0.0773,  0.0875,  0.0421, -0.0805, -0.1140],\n",
            "          [-0.0938,  0.0861,  0.0554,  0.0972,  0.0605],\n",
            "          [ 0.0292, -0.0011, -0.0878, -0.0989, -0.1080],\n",
            "          [ 0.0473, -0.0567, -0.0232, -0.0665, -0.0210],\n",
            "          [-0.0813, -0.0754,  0.0383, -0.0343,  0.0713]],\n",
            "\n",
            "         [[-0.0370, -0.0847, -0.0204, -0.0560, -0.0353],\n",
            "          [-0.1099,  0.0646, -0.0804,  0.0580,  0.0524],\n",
            "          [ 0.0825, -0.0886,  0.0830, -0.0546,  0.0428],\n",
            "          [ 0.1084, -0.0163, -0.0009, -0.0266, -0.0964],\n",
            "          [ 0.0554, -0.1146,  0.0717,  0.0864,  0.1092]],\n",
            "\n",
            "         [[-0.0272, -0.0949,  0.0260,  0.0638, -0.1149],\n",
            "          [-0.0262, -0.0692, -0.0101, -0.0568, -0.0472],\n",
            "          [-0.0367, -0.1097,  0.0947,  0.0968, -0.0181],\n",
            "          [-0.0131, -0.0471, -0.1043, -0.1124,  0.0429],\n",
            "          [-0.0634, -0.0742, -0.0090, -0.0385, -0.0374]]],\n",
            "\n",
            "\n",
            "        [[[ 0.0037, -0.0245, -0.0398, -0.0553, -0.0940],\n",
            "          [ 0.0968, -0.0462,  0.0306, -0.0401,  0.0094],\n",
            "          [ 0.1077,  0.0532, -0.1001,  0.0458,  0.1096],\n",
            "          [ 0.0304,  0.0774,  0.1138, -0.0177,  0.0240],\n",
            "          [-0.0803, -0.0238,  0.0855,  0.0592, -0.0731]],\n",
            "\n",
            "         [[-0.0926, -0.0789, -0.1140, -0.0891, -0.0286],\n",
            "          [ 0.0779,  0.0193, -0.0878, -0.0926,  0.0574],\n",
            "          [-0.0859, -0.0142,  0.0554, -0.0534, -0.0126],\n",
            "          [-0.0101, -0.0273, -0.0585, -0.1029, -0.0933],\n",
            "          [-0.0618,  0.1115, -0.0558, -0.0775,  0.0280]],\n",
            "\n",
            "         [[ 0.0318,  0.0633,  0.0878,  0.0643, -0.1145],\n",
            "          [ 0.0102,  0.0699, -0.0107, -0.0680,  0.1101],\n",
            "          [-0.0432, -0.0657, -0.1041,  0.0052,  0.0512],\n",
            "          [ 0.0256,  0.0228, -0.0876, -0.1078,  0.0020],\n",
            "          [ 0.1053,  0.0666, -0.0672, -0.0150, -0.0851]]],\n",
            "\n",
            "\n",
            "        [[[-0.0557,  0.0209,  0.0629,  0.0957, -0.1060],\n",
            "          [ 0.0772, -0.0814,  0.0432,  0.0977,  0.0016],\n",
            "          [ 0.1051, -0.0984, -0.0441,  0.0673, -0.0252],\n",
            "          [-0.0236, -0.0481,  0.0796,  0.0566,  0.0370],\n",
            "          [-0.0649, -0.0937,  0.0125,  0.0342, -0.0533]],\n",
            "\n",
            "         [[-0.0323,  0.0780,  0.0092,  0.0052, -0.0284],\n",
            "          [-0.1046, -0.1086, -0.0552, -0.0587,  0.0360],\n",
            "          [-0.0336, -0.0452,  0.1101,  0.0402,  0.0823],\n",
            "          [-0.0559, -0.0472,  0.0424, -0.0769, -0.0755],\n",
            "          [-0.0056, -0.0422, -0.0866,  0.0685,  0.0929]],\n",
            "\n",
            "         [[ 0.0187, -0.0201, -0.1070, -0.0421,  0.0294],\n",
            "          [ 0.0544, -0.0146, -0.0457,  0.0643, -0.0920],\n",
            "          [ 0.0730, -0.0448,  0.0018, -0.0228,  0.0140],\n",
            "          [-0.0349,  0.0840, -0.0030,  0.0901,  0.1110],\n",
            "          [-0.0563, -0.0842,  0.0926,  0.0905, -0.0882]]],\n",
            "\n",
            "\n",
            "        [[[-0.0089, -0.1139, -0.0945,  0.0223,  0.0307],\n",
            "          [ 0.0245, -0.0314,  0.1065,  0.0165, -0.0681],\n",
            "          [-0.0065,  0.0277,  0.0404, -0.0816,  0.0433],\n",
            "          [-0.0590, -0.0959, -0.0631,  0.1114,  0.0987],\n",
            "          [ 0.1034,  0.0678,  0.0872, -0.0155, -0.0635]],\n",
            "\n",
            "         [[ 0.0577, -0.0598, -0.0779, -0.0369,  0.0242],\n",
            "          [ 0.0594, -0.0448, -0.0680,  0.0156, -0.0681],\n",
            "          [-0.0752,  0.0602, -0.0194,  0.1055,  0.1123],\n",
            "          [ 0.0345,  0.0397,  0.0266,  0.0018, -0.0084],\n",
            "          [ 0.0016,  0.0431,  0.1074, -0.0299, -0.0488]],\n",
            "\n",
            "         [[-0.0280, -0.0558,  0.0196,  0.0862,  0.0903],\n",
            "          [ 0.0530, -0.0850, -0.0620, -0.0254, -0.0213],\n",
            "          [ 0.0095, -0.1060,  0.0359, -0.0881, -0.0731],\n",
            "          [-0.0960,  0.1006, -0.1093,  0.0871, -0.0039],\n",
            "          [-0.0134,  0.0722, -0.0107,  0.0724,  0.0835]]],\n",
            "\n",
            "\n",
            "        [[[-0.1003,  0.0444,  0.0218,  0.0248,  0.0169],\n",
            "          [ 0.0316, -0.0555, -0.0148,  0.1097,  0.0776],\n",
            "          [-0.0043, -0.1086,  0.0051, -0.0786,  0.0939],\n",
            "          [-0.0701, -0.0083, -0.0256,  0.0205,  0.1087],\n",
            "          [ 0.0110,  0.0669,  0.0896,  0.0932, -0.0399]],\n",
            "\n",
            "         [[-0.0258,  0.0556, -0.0315,  0.0541, -0.0252],\n",
            "          [-0.0783,  0.0470,  0.0177,  0.0515,  0.1147],\n",
            "          [ 0.0788,  0.1095,  0.0062, -0.0993, -0.0810],\n",
            "          [-0.0717, -0.1018, -0.0579, -0.1063, -0.1065],\n",
            "          [-0.0690, -0.1138, -0.0709,  0.0440,  0.0963]],\n",
            "\n",
            "         [[-0.0343, -0.0336,  0.0617, -0.0570, -0.0546],\n",
            "          [ 0.0711, -0.1006,  0.0141,  0.1020,  0.0198],\n",
            "          [ 0.0314, -0.0672, -0.0016,  0.0063,  0.0283],\n",
            "          [ 0.0449,  0.1003, -0.0881,  0.0035, -0.0577],\n",
            "          [-0.0913, -0.0092, -0.1016,  0.0806,  0.0134]]],\n",
            "\n",
            "\n",
            "        [[[-0.0622,  0.0603, -0.1093, -0.0447, -0.0225],\n",
            "          [-0.0981, -0.0734, -0.0188,  0.0876,  0.1115],\n",
            "          [ 0.0735, -0.0689, -0.0755,  0.1008,  0.0408],\n",
            "          [ 0.0031,  0.0156, -0.0928, -0.0386,  0.1112],\n",
            "          [-0.0285, -0.0058, -0.0959, -0.0646, -0.0024]],\n",
            "\n",
            "         [[-0.0717, -0.0143,  0.0470, -0.1130,  0.0343],\n",
            "          [-0.0763, -0.0564,  0.0443,  0.0918, -0.0316],\n",
            "          [-0.0474, -0.1044, -0.0595, -0.1011, -0.0264],\n",
            "          [ 0.0236, -0.1082,  0.1008,  0.0724, -0.1130],\n",
            "          [-0.0552,  0.0377, -0.0237, -0.0126, -0.0521]],\n",
            "\n",
            "         [[ 0.0927, -0.0645,  0.0958,  0.0075,  0.0232],\n",
            "          [ 0.0901, -0.0190, -0.0657, -0.0187,  0.0937],\n",
            "          [-0.0857,  0.0262, -0.1135,  0.0605,  0.0427],\n",
            "          [ 0.0049,  0.0496,  0.0001,  0.0639, -0.0914],\n",
            "          [-0.0170,  0.0512,  0.1150,  0.0588, -0.0840]]],\n",
            "\n",
            "\n",
            "        [[[ 0.0888, -0.0257, -0.0247, -0.1050, -0.0182],\n",
            "          [ 0.0817,  0.0161, -0.0673,  0.0355, -0.0370],\n",
            "          [ 0.1054, -0.1002, -0.0365, -0.1115, -0.0455],\n",
            "          [ 0.0364,  0.1112,  0.0194,  0.1132,  0.0226],\n",
            "          [ 0.0667,  0.0926,  0.0965, -0.0646,  0.1062]],\n",
            "\n",
            "         [[ 0.0699, -0.0540, -0.0551, -0.0969,  0.0290],\n",
            "          [-0.0936,  0.0488,  0.0365, -0.1003,  0.0315],\n",
            "          [-0.0094,  0.0527,  0.0663, -0.1148,  0.1059],\n",
            "          [ 0.0968,  0.0459, -0.1055, -0.0412, -0.0335],\n",
            "          [-0.0297,  0.0651,  0.0420,  0.0915, -0.0432]],\n",
            "\n",
            "         [[ 0.0389,  0.0411, -0.0961, -0.1120, -0.0599],\n",
            "          [ 0.0790, -0.1087, -0.1005,  0.0647,  0.0623],\n",
            "          [ 0.0950, -0.0872, -0.0845,  0.0592,  0.1004],\n",
            "          [ 0.0691,  0.0181,  0.0381,  0.1096, -0.0745],\n",
            "          [-0.0524,  0.0808, -0.0790, -0.0637,  0.0843]]]])), ('bias', tensor([ 0.0364,  0.0373, -0.0489, -0.0016,  0.1057, -0.0693,  0.0009,  0.0549,\n",
            "        -0.0797,  0.1121]))])\n"
          ]
        }
      ],
      "source": [
        "# Check out the conv_layer_2 internal parameters\n",
        "print(conv_layer_2.state_dict())"
      ]
    },
    {
      "cell_type": "markdown",
      "id": "8b708eb6-ae46-4d8c-a8a4-1392827d3e37",
      "metadata": {
        "id": "8b708eb6-ae46-4d8c-a8a4-1392827d3e37"
      },
      "source": [
        "\n",
        "The shapes of these are manipulated by the inputs we passed to `nn.Conv2d()` when we set it up.\n",
        "\n",
        "Let's check them out."
      ]
    },
    {
      "cell_type": "code",
      "execution_count": 42,
      "id": "e5518d61-c0b7-4351-b5ea-4d6b6144291a",
      "metadata": {
        "colab": {
          "base_uri": "https://localhost:8080/"
        },
        "id": "e5518d61-c0b7-4351-b5ea-4d6b6144291a",
        "outputId": "eb9d7dcd-0cda-4761-ddd8-99c5c913b6e2"
      },
      "outputs": [
        {
          "output_type": "stream",
          "name": "stdout",
          "text": [
            "conv_layer_2 weight shape: \n",
            "torch.Size([10, 3, 5, 5]) -> [out_channels=10, in_channels=3, kernel_size=5, kernel_size=5]\n",
            "\n",
            "conv_layer_2 bias shape: \n",
            "torch.Size([10]) -> [out_channels=10]\n"
          ]
        }
      ],
      "source": [
        "# Get shapes of weight and bias tensors within conv_layer_2\n",
        "print(f\"conv_layer_2 weight shape: \\n{conv_layer_2.weight.shape} -> [out_channels=10, in_channels=3, kernel_size=5, kernel_size=5]\")\n",
        "print(f\"\\nconv_layer_2 bias shape: \\n{conv_layer_2.bias.shape} -> [out_channels=10]\")"
      ]
    },
    {
      "cell_type": "markdown",
      "id": "6370d45d-ca44-4fa0-a2d7-efaf0a207b91",
      "metadata": {
        "id": "6370d45d-ca44-4fa0-a2d7-efaf0a207b91"
      },
      "source": [
        "### 7.2 Stepping through `nn.MaxPool2d()`\n"
      ]
    },
    {
      "cell_type": "code",
      "execution_count": 43,
      "id": "1164c753-19d9-43b7-a04f-017d0f7188c3",
      "metadata": {
        "colab": {
          "base_uri": "https://localhost:8080/"
        },
        "id": "1164c753-19d9-43b7-a04f-017d0f7188c3",
        "outputId": "4b0a185b-d8ab-47d3-b75f-98811ccf7360"
      },
      "outputs": [
        {
          "output_type": "stream",
          "name": "stdout",
          "text": [
            "Test image original shape: torch.Size([3, 64, 64])\n",
            "Test image with unsqueezed dimension: torch.Size([1, 3, 64, 64])\n",
            "Shape after going through conv_layer(): torch.Size([1, 10, 62, 62])\n",
            "Shape after going through conv_layer() and max_pool_layer(): torch.Size([1, 10, 31, 31])\n"
          ]
        }
      ],
      "source": [
        "# Print out original image shape without and with unsqueezed dimension\n",
        "print(f\"Test image original shape: {test_image.shape}\")\n",
        "print(f\"Test image with unsqueezed dimension: {test_image.unsqueeze(dim=0).shape}\")\n",
        "\n",
        "# Create a sample nn.MaxPoo2d() layer\n",
        "max_pool_layer = nn.MaxPool2d(kernel_size=2)\n",
        "\n",
        "# Pass data through just the conv_layer\n",
        "test_image_through_conv = conv_layer(test_image.unsqueeze(dim=0))\n",
        "print(f\"Shape after going through conv_layer(): {test_image_through_conv.shape}\")\n",
        "\n",
        "# Pass data through the max pool layer\n",
        "test_image_through_conv_and_max_pool = max_pool_layer(test_image_through_conv)\n",
        "print(f\"Shape after going through conv_layer() and max_pool_layer(): {test_image_through_conv_and_max_pool.shape}\")"
      ]
    },
    {
      "cell_type": "code",
      "execution_count": 44,
      "id": "e6a2b196-4845-4b40-9212-e75406e88875",
      "metadata": {
        "colab": {
          "base_uri": "https://localhost:8080/"
        },
        "id": "e6a2b196-4845-4b40-9212-e75406e88875",
        "outputId": "9ca18ae9-1c10-4a68-94b8-59a151891513"
      },
      "outputs": [
        {
          "output_type": "stream",
          "name": "stdout",
          "text": [
            "Random tensor:\n",
            "tensor([[[[0.3367, 0.1288],\n",
            "          [0.2345, 0.2303]]]])\n",
            "Random tensor shape: torch.Size([1, 1, 2, 2])\n",
            "\n",
            "Max pool tensor:\n",
            "tensor([[[[0.3367]]]]) <- this is the maximum value from random_tensor\n",
            "Max pool tensor shape: torch.Size([1, 1, 1, 1])\n"
          ]
        }
      ],
      "source": [
        "torch.manual_seed(42)\n",
        "# Create a random tensor with a similiar number of dimensions to our images\n",
        "random_tensor = torch.randn(size=(1, 1, 2, 2))\n",
        "print(f\"Random tensor:\\n{random_tensor}\")\n",
        "print(f\"Random tensor shape: {random_tensor.shape}\")\n",
        "\n",
        "# Create a max pool layer\n",
        "max_pool_layer = nn.MaxPool2d(kernel_size=2) # see what happens when you change the kernel_size value\n",
        "\n",
        "# Pass the random tensor through the max pool layer\n",
        "max_pool_tensor = max_pool_layer(random_tensor)\n",
        "print(f\"\\nMax pool tensor:\\n{max_pool_tensor} <- this is the maximum value from random_tensor\")\n",
        "print(f\"Max pool tensor shape: {max_pool_tensor.shape}\")"
      ]
    },
    {
      "cell_type": "markdown",
      "id": "39a3c646-52f0-4f4b-8527-2fc33d0dfb13",
      "metadata": {
        "id": "39a3c646-52f0-4f4b-8527-2fc33d0dfb13"
      },
      "source": [
        "### 7.3 Setup a loss function and optimizer for `model_2`\n",
        "\n",
        "\n",
        "We'll use the functions as before, `nn.CrossEntropyLoss()` as the loss function (since we're working with multi-class classification data).\n",
        "\n",
        "And `torch.optim.SGD()` as the optimizer to optimize `model_2.parameters()` with a learning rate of `0.1`."
      ]
    },
    {
      "cell_type": "code",
      "execution_count": 45,
      "id": "06a76a1b-5f6f-4018-bf7b-8388b385476f",
      "metadata": {
        "id": "06a76a1b-5f6f-4018-bf7b-8388b385476f"
      },
      "outputs": [],
      "source": [
        "# Setup loss and optimizer\n",
        "loss_fn = nn.CrossEntropyLoss()\n",
        "optimizer = torch.optim.SGD(params=model_2.parameters(),\n",
        "                             lr=0.1)"
      ]
    },
    {
      "cell_type": "markdown",
      "id": "758bc223-a244-4604-a07a-e2fc2f96c2f6",
      "metadata": {
        "id": "758bc223-a244-4604-a07a-e2fc2f96c2f6"
      },
      "source": [
        "### 7.4 Training and testing `model_2` using our training and test functions\n",
        "\n"
      ]
    },
    {
      "cell_type": "code",
      "execution_count": 46,
      "id": "861d126e-d876-40b3-9b7a-66cfc2f1bf05",
      "metadata": {
        "colab": {
          "base_uri": "https://localhost:8080/",
          "height": 327,
          "referenced_widgets": [
            "0cc9bc085a744155a2c022edb63b4398",
            "4c74dcd2b3f14378a4eff7b28b7f48df",
            "3b2431ad6fb0487bad67774b453001ca",
            "d51916372ea64d72b90be2155cd3e3f9",
            "cba4de486174432480833586feac59c8",
            "e5a68eefcfa74ea8bb41b01c022fe8a9",
            "877a2fb376df4ac198a78418f7811bbe",
            "5312eb35555d4d2387cc4ac10c0eceb5",
            "6f753203c6494f2c92a4b0abd3499fcf",
            "080747548d0c46cc80a86836aef38e77",
            "bb999e0556e6448c9004bbf0c2162d44"
          ]
        },
        "id": "861d126e-d876-40b3-9b7a-66cfc2f1bf05",
        "outputId": "0324f1ee-eec6-449a-c32f-09b9ca1d6b5a"
      },
      "outputs": [
        {
          "output_type": "display_data",
          "data": {
            "text/plain": [
              "  0%|          | 0/3 [00:00<?, ?it/s]"
            ],
            "application/vnd.jupyter.widget-view+json": {
              "version_major": 2,
              "version_minor": 0,
              "model_id": "0cc9bc085a744155a2c022edb63b4398"
            }
          },
          "metadata": {}
        },
        {
          "output_type": "stream",
          "name": "stdout",
          "text": [
            "Epoch: 0\n",
            "---------\n",
            "Train loss: 0.59109 | Train accuracy: 78.45%\n",
            "Test loss: 0.40215 | Test accuracy: 85.72%\n",
            "\n",
            "Epoch: 1\n",
            "---------\n",
            "Train loss: 0.36487 | Train accuracy: 86.73%\n",
            "Test loss: 0.34962 | Test accuracy: 87.44%\n",
            "\n",
            "Epoch: 2\n",
            "---------\n",
            "Train loss: 0.32933 | Train accuracy: 87.93%\n",
            "Test loss: 0.33963 | Test accuracy: 87.83%\n",
            "\n",
            "Train time on cuda: 38.464 seconds\n"
          ]
        }
      ],
      "source": [
        "torch.manual_seed(42)\n",
        "\n",
        "# Measure time\n",
        "from timeit import default_timer as timer\n",
        "train_time_start_model_2 = timer()\n",
        "\n",
        "# Train and test model\n",
        "epochs = 3\n",
        "for epoch in tqdm(range(epochs)):\n",
        "    print(f\"Epoch: {epoch}\\n---------\")\n",
        "    train_step(data_loader=train_dataloader,\n",
        "        model=model_2,\n",
        "        loss_fn=loss_fn,\n",
        "        optimizer=optimizer,\n",
        "        accuracy_fn=accuracy_fn,\n",
        "        device=device\n",
        "    )\n",
        "    test_step(data_loader=test_dataloader,\n",
        "        model=model_2,\n",
        "        loss_fn=loss_fn,\n",
        "        accuracy_fn=accuracy_fn,\n",
        "        device=device\n",
        "    )\n",
        "\n",
        "train_time_end_model_2 = timer()\n",
        "total_train_time_model_2 = print_train_time(start=train_time_start_model_2,\n",
        "                                           end=train_time_end_model_2,\n",
        "                                           device=device)"
      ]
    },
    {
      "cell_type": "code",
      "execution_count": 47,
      "id": "c1bf8b89-1389-4395-a1c4-9c6e94d9e71c",
      "metadata": {
        "colab": {
          "base_uri": "https://localhost:8080/"
        },
        "id": "c1bf8b89-1389-4395-a1c4-9c6e94d9e71c",
        "outputId": "26e9ff16-3d09-4039-9349-c021f9f9fbb6"
      },
      "outputs": [
        {
          "output_type": "execute_result",
          "data": {
            "text/plain": [
              "{'model_name': 'FashionMNISTModelV2',\n",
              " 'model_loss': 0.3396317660808563,\n",
              " 'model_acc': 87.82947284345047}"
            ]
          },
          "metadata": {},
          "execution_count": 47
        }
      ],
      "source": [
        "# Get model_2 results\n",
        "model_2_results = eval_model(\n",
        "    model=model_2,\n",
        "    data_loader=test_dataloader,\n",
        "    loss_fn=loss_fn,\n",
        "    accuracy_fn=accuracy_fn\n",
        ")\n",
        "model_2_results"
      ]
    },
    {
      "cell_type": "markdown",
      "id": "24c5ff68-b0bc-4b09-9da6-696736bc262d",
      "metadata": {
        "id": "24c5ff68-b0bc-4b09-9da6-696736bc262d"
      },
      "source": [
        "## 8. Compare model results and training time\n"
      ]
    },
    {
      "cell_type": "code",
      "execution_count": 48,
      "id": "52d84ee1-1ad4-4860-b147-f8912c1febc7",
      "metadata": {
        "colab": {
          "base_uri": "https://localhost:8080/",
          "height": 143
        },
        "id": "52d84ee1-1ad4-4860-b147-f8912c1febc7",
        "outputId": "59e541b0-3c32-458b-ea2f-0a0409453d89"
      },
      "outputs": [
        {
          "output_type": "execute_result",
          "data": {
            "text/plain": [
              "            model_name  model_loss  model_acc\n",
              "0  FashionMNISTModelV0    0.476639  83.426518\n",
              "1  FashionMNISTModelV1    0.685001  75.019968\n",
              "2  FashionMNISTModelV2    0.339632  87.829473"
            ],
            "text/html": [
              "\n",
              "  <div id=\"df-eed105f6-de23-41d3-a21e-e5146f082e33\" class=\"colab-df-container\">\n",
              "    <div>\n",
              "<style scoped>\n",
              "    .dataframe tbody tr th:only-of-type {\n",
              "        vertical-align: middle;\n",
              "    }\n",
              "\n",
              "    .dataframe tbody tr th {\n",
              "        vertical-align: top;\n",
              "    }\n",
              "\n",
              "    .dataframe thead th {\n",
              "        text-align: right;\n",
              "    }\n",
              "</style>\n",
              "<table border=\"1\" class=\"dataframe\">\n",
              "  <thead>\n",
              "    <tr style=\"text-align: right;\">\n",
              "      <th></th>\n",
              "      <th>model_name</th>\n",
              "      <th>model_loss</th>\n",
              "      <th>model_acc</th>\n",
              "    </tr>\n",
              "  </thead>\n",
              "  <tbody>\n",
              "    <tr>\n",
              "      <th>0</th>\n",
              "      <td>FashionMNISTModelV0</td>\n",
              "      <td>0.476639</td>\n",
              "      <td>83.426518</td>\n",
              "    </tr>\n",
              "    <tr>\n",
              "      <th>1</th>\n",
              "      <td>FashionMNISTModelV1</td>\n",
              "      <td>0.685001</td>\n",
              "      <td>75.019968</td>\n",
              "    </tr>\n",
              "    <tr>\n",
              "      <th>2</th>\n",
              "      <td>FashionMNISTModelV2</td>\n",
              "      <td>0.339632</td>\n",
              "      <td>87.829473</td>\n",
              "    </tr>\n",
              "  </tbody>\n",
              "</table>\n",
              "</div>\n",
              "    <div class=\"colab-df-buttons\">\n",
              "\n",
              "  <div class=\"colab-df-container\">\n",
              "    <button class=\"colab-df-convert\" onclick=\"convertToInteractive('df-eed105f6-de23-41d3-a21e-e5146f082e33')\"\n",
              "            title=\"Convert this dataframe to an interactive table.\"\n",
              "            style=\"display:none;\">\n",
              "\n",
              "  <svg xmlns=\"http://www.w3.org/2000/svg\" height=\"24px\" viewBox=\"0 -960 960 960\">\n",
              "    <path d=\"M120-120v-720h720v720H120Zm60-500h600v-160H180v160Zm220 220h160v-160H400v160Zm0 220h160v-160H400v160ZM180-400h160v-160H180v160Zm440 0h160v-160H620v160ZM180-180h160v-160H180v160Zm440 0h160v-160H620v160Z\"/>\n",
              "  </svg>\n",
              "    </button>\n",
              "\n",
              "  <style>\n",
              "    .colab-df-container {\n",
              "      display:flex;\n",
              "      gap: 12px;\n",
              "    }\n",
              "\n",
              "    .colab-df-convert {\n",
              "      background-color: #E8F0FE;\n",
              "      border: none;\n",
              "      border-radius: 50%;\n",
              "      cursor: pointer;\n",
              "      display: none;\n",
              "      fill: #1967D2;\n",
              "      height: 32px;\n",
              "      padding: 0 0 0 0;\n",
              "      width: 32px;\n",
              "    }\n",
              "\n",
              "    .colab-df-convert:hover {\n",
              "      background-color: #E2EBFA;\n",
              "      box-shadow: 0px 1px 2px rgba(60, 64, 67, 0.3), 0px 1px 3px 1px rgba(60, 64, 67, 0.15);\n",
              "      fill: #174EA6;\n",
              "    }\n",
              "\n",
              "    .colab-df-buttons div {\n",
              "      margin-bottom: 4px;\n",
              "    }\n",
              "\n",
              "    [theme=dark] .colab-df-convert {\n",
              "      background-color: #3B4455;\n",
              "      fill: #D2E3FC;\n",
              "    }\n",
              "\n",
              "    [theme=dark] .colab-df-convert:hover {\n",
              "      background-color: #434B5C;\n",
              "      box-shadow: 0px 1px 3px 1px rgba(0, 0, 0, 0.15);\n",
              "      filter: drop-shadow(0px 1px 2px rgba(0, 0, 0, 0.3));\n",
              "      fill: #FFFFFF;\n",
              "    }\n",
              "  </style>\n",
              "\n",
              "    <script>\n",
              "      const buttonEl =\n",
              "        document.querySelector('#df-eed105f6-de23-41d3-a21e-e5146f082e33 button.colab-df-convert');\n",
              "      buttonEl.style.display =\n",
              "        google.colab.kernel.accessAllowed ? 'block' : 'none';\n",
              "\n",
              "      async function convertToInteractive(key) {\n",
              "        const element = document.querySelector('#df-eed105f6-de23-41d3-a21e-e5146f082e33');\n",
              "        const dataTable =\n",
              "          await google.colab.kernel.invokeFunction('convertToInteractive',\n",
              "                                                    [key], {});\n",
              "        if (!dataTable) return;\n",
              "\n",
              "        const docLinkHtml = 'Like what you see? Visit the ' +\n",
              "          '<a target=\"_blank\" href=https://colab.research.google.com/notebooks/data_table.ipynb>data table notebook</a>'\n",
              "          + ' to learn more about interactive tables.';\n",
              "        element.innerHTML = '';\n",
              "        dataTable['output_type'] = 'display_data';\n",
              "        await google.colab.output.renderOutput(dataTable, element);\n",
              "        const docLink = document.createElement('div');\n",
              "        docLink.innerHTML = docLinkHtml;\n",
              "        element.appendChild(docLink);\n",
              "      }\n",
              "    </script>\n",
              "  </div>\n",
              "\n",
              "\n",
              "<div id=\"df-537b96e0-9fb1-4bc2-a135-3b2292784a06\">\n",
              "  <button class=\"colab-df-quickchart\" onclick=\"quickchart('df-537b96e0-9fb1-4bc2-a135-3b2292784a06')\"\n",
              "            title=\"Suggest charts\"\n",
              "            style=\"display:none;\">\n",
              "\n",
              "<svg xmlns=\"http://www.w3.org/2000/svg\" height=\"24px\"viewBox=\"0 0 24 24\"\n",
              "     width=\"24px\">\n",
              "    <g>\n",
              "        <path d=\"M19 3H5c-1.1 0-2 .9-2 2v14c0 1.1.9 2 2 2h14c1.1 0 2-.9 2-2V5c0-1.1-.9-2-2-2zM9 17H7v-7h2v7zm4 0h-2V7h2v10zm4 0h-2v-4h2v4z\"/>\n",
              "    </g>\n",
              "</svg>\n",
              "  </button>\n",
              "\n",
              "<style>\n",
              "  .colab-df-quickchart {\n",
              "      --bg-color: #E8F0FE;\n",
              "      --fill-color: #1967D2;\n",
              "      --hover-bg-color: #E2EBFA;\n",
              "      --hover-fill-color: #174EA6;\n",
              "      --disabled-fill-color: #AAA;\n",
              "      --disabled-bg-color: #DDD;\n",
              "  }\n",
              "\n",
              "  [theme=dark] .colab-df-quickchart {\n",
              "      --bg-color: #3B4455;\n",
              "      --fill-color: #D2E3FC;\n",
              "      --hover-bg-color: #434B5C;\n",
              "      --hover-fill-color: #FFFFFF;\n",
              "      --disabled-bg-color: #3B4455;\n",
              "      --disabled-fill-color: #666;\n",
              "  }\n",
              "\n",
              "  .colab-df-quickchart {\n",
              "    background-color: var(--bg-color);\n",
              "    border: none;\n",
              "    border-radius: 50%;\n",
              "    cursor: pointer;\n",
              "    display: none;\n",
              "    fill: var(--fill-color);\n",
              "    height: 32px;\n",
              "    padding: 0;\n",
              "    width: 32px;\n",
              "  }\n",
              "\n",
              "  .colab-df-quickchart:hover {\n",
              "    background-color: var(--hover-bg-color);\n",
              "    box-shadow: 0 1px 2px rgba(60, 64, 67, 0.3), 0 1px 3px 1px rgba(60, 64, 67, 0.15);\n",
              "    fill: var(--button-hover-fill-color);\n",
              "  }\n",
              "\n",
              "  .colab-df-quickchart-complete:disabled,\n",
              "  .colab-df-quickchart-complete:disabled:hover {\n",
              "    background-color: var(--disabled-bg-color);\n",
              "    fill: var(--disabled-fill-color);\n",
              "    box-shadow: none;\n",
              "  }\n",
              "\n",
              "  .colab-df-spinner {\n",
              "    border: 2px solid var(--fill-color);\n",
              "    border-color: transparent;\n",
              "    border-bottom-color: var(--fill-color);\n",
              "    animation:\n",
              "      spin 1s steps(1) infinite;\n",
              "  }\n",
              "\n",
              "  @keyframes spin {\n",
              "    0% {\n",
              "      border-color: transparent;\n",
              "      border-bottom-color: var(--fill-color);\n",
              "      border-left-color: var(--fill-color);\n",
              "    }\n",
              "    20% {\n",
              "      border-color: transparent;\n",
              "      border-left-color: var(--fill-color);\n",
              "      border-top-color: var(--fill-color);\n",
              "    }\n",
              "    30% {\n",
              "      border-color: transparent;\n",
              "      border-left-color: var(--fill-color);\n",
              "      border-top-color: var(--fill-color);\n",
              "      border-right-color: var(--fill-color);\n",
              "    }\n",
              "    40% {\n",
              "      border-color: transparent;\n",
              "      border-right-color: var(--fill-color);\n",
              "      border-top-color: var(--fill-color);\n",
              "    }\n",
              "    60% {\n",
              "      border-color: transparent;\n",
              "      border-right-color: var(--fill-color);\n",
              "    }\n",
              "    80% {\n",
              "      border-color: transparent;\n",
              "      border-right-color: var(--fill-color);\n",
              "      border-bottom-color: var(--fill-color);\n",
              "    }\n",
              "    90% {\n",
              "      border-color: transparent;\n",
              "      border-bottom-color: var(--fill-color);\n",
              "    }\n",
              "  }\n",
              "</style>\n",
              "\n",
              "  <script>\n",
              "    async function quickchart(key) {\n",
              "      const quickchartButtonEl =\n",
              "        document.querySelector('#' + key + ' button');\n",
              "      quickchartButtonEl.disabled = true;  // To prevent multiple clicks.\n",
              "      quickchartButtonEl.classList.add('colab-df-spinner');\n",
              "      try {\n",
              "        const charts = await google.colab.kernel.invokeFunction(\n",
              "            'suggestCharts', [key], {});\n",
              "      } catch (error) {\n",
              "        console.error('Error during call to suggestCharts:', error);\n",
              "      }\n",
              "      quickchartButtonEl.classList.remove('colab-df-spinner');\n",
              "      quickchartButtonEl.classList.add('colab-df-quickchart-complete');\n",
              "    }\n",
              "    (() => {\n",
              "      let quickchartButtonEl =\n",
              "        document.querySelector('#df-537b96e0-9fb1-4bc2-a135-3b2292784a06 button');\n",
              "      quickchartButtonEl.style.display =\n",
              "        google.colab.kernel.accessAllowed ? 'block' : 'none';\n",
              "    })();\n",
              "  </script>\n",
              "</div>\n",
              "    </div>\n",
              "  </div>\n"
            ]
          },
          "metadata": {},
          "execution_count": 48
        }
      ],
      "source": [
        "import pandas as pd\n",
        "compare_results = pd.DataFrame([model_0_results, model_1_results, model_2_results])\n",
        "compare_results"
      ]
    },
    {
      "cell_type": "code",
      "execution_count": 49,
      "id": "297af38f-e69f-4c6f-9027-fcaf0482a55c",
      "metadata": {
        "colab": {
          "base_uri": "https://localhost:8080/",
          "height": 143
        },
        "id": "297af38f-e69f-4c6f-9027-fcaf0482a55c",
        "outputId": "b2cbb167-f2c0-4e87-e92f-69ba1bae12c6"
      },
      "outputs": [
        {
          "output_type": "execute_result",
          "data": {
            "text/plain": [
              "            model_name  model_loss  model_acc  training_time\n",
              "0  FashionMNISTModelV0    0.476639  83.426518      27.706228\n",
              "1  FashionMNISTModelV1    0.685001  75.019968      31.155505\n",
              "2  FashionMNISTModelV2    0.339632  87.829473      38.463500"
            ],
            "text/html": [
              "\n",
              "  <div id=\"df-a367e9ed-a34f-42b3-8225-2a15aad69c7e\" class=\"colab-df-container\">\n",
              "    <div>\n",
              "<style scoped>\n",
              "    .dataframe tbody tr th:only-of-type {\n",
              "        vertical-align: middle;\n",
              "    }\n",
              "\n",
              "    .dataframe tbody tr th {\n",
              "        vertical-align: top;\n",
              "    }\n",
              "\n",
              "    .dataframe thead th {\n",
              "        text-align: right;\n",
              "    }\n",
              "</style>\n",
              "<table border=\"1\" class=\"dataframe\">\n",
              "  <thead>\n",
              "    <tr style=\"text-align: right;\">\n",
              "      <th></th>\n",
              "      <th>model_name</th>\n",
              "      <th>model_loss</th>\n",
              "      <th>model_acc</th>\n",
              "      <th>training_time</th>\n",
              "    </tr>\n",
              "  </thead>\n",
              "  <tbody>\n",
              "    <tr>\n",
              "      <th>0</th>\n",
              "      <td>FashionMNISTModelV0</td>\n",
              "      <td>0.476639</td>\n",
              "      <td>83.426518</td>\n",
              "      <td>27.706228</td>\n",
              "    </tr>\n",
              "    <tr>\n",
              "      <th>1</th>\n",
              "      <td>FashionMNISTModelV1</td>\n",
              "      <td>0.685001</td>\n",
              "      <td>75.019968</td>\n",
              "      <td>31.155505</td>\n",
              "    </tr>\n",
              "    <tr>\n",
              "      <th>2</th>\n",
              "      <td>FashionMNISTModelV2</td>\n",
              "      <td>0.339632</td>\n",
              "      <td>87.829473</td>\n",
              "      <td>38.463500</td>\n",
              "    </tr>\n",
              "  </tbody>\n",
              "</table>\n",
              "</div>\n",
              "    <div class=\"colab-df-buttons\">\n",
              "\n",
              "  <div class=\"colab-df-container\">\n",
              "    <button class=\"colab-df-convert\" onclick=\"convertToInteractive('df-a367e9ed-a34f-42b3-8225-2a15aad69c7e')\"\n",
              "            title=\"Convert this dataframe to an interactive table.\"\n",
              "            style=\"display:none;\">\n",
              "\n",
              "  <svg xmlns=\"http://www.w3.org/2000/svg\" height=\"24px\" viewBox=\"0 -960 960 960\">\n",
              "    <path d=\"M120-120v-720h720v720H120Zm60-500h600v-160H180v160Zm220 220h160v-160H400v160Zm0 220h160v-160H400v160ZM180-400h160v-160H180v160Zm440 0h160v-160H620v160ZM180-180h160v-160H180v160Zm440 0h160v-160H620v160Z\"/>\n",
              "  </svg>\n",
              "    </button>\n",
              "\n",
              "  <style>\n",
              "    .colab-df-container {\n",
              "      display:flex;\n",
              "      gap: 12px;\n",
              "    }\n",
              "\n",
              "    .colab-df-convert {\n",
              "      background-color: #E8F0FE;\n",
              "      border: none;\n",
              "      border-radius: 50%;\n",
              "      cursor: pointer;\n",
              "      display: none;\n",
              "      fill: #1967D2;\n",
              "      height: 32px;\n",
              "      padding: 0 0 0 0;\n",
              "      width: 32px;\n",
              "    }\n",
              "\n",
              "    .colab-df-convert:hover {\n",
              "      background-color: #E2EBFA;\n",
              "      box-shadow: 0px 1px 2px rgba(60, 64, 67, 0.3), 0px 1px 3px 1px rgba(60, 64, 67, 0.15);\n",
              "      fill: #174EA6;\n",
              "    }\n",
              "\n",
              "    .colab-df-buttons div {\n",
              "      margin-bottom: 4px;\n",
              "    }\n",
              "\n",
              "    [theme=dark] .colab-df-convert {\n",
              "      background-color: #3B4455;\n",
              "      fill: #D2E3FC;\n",
              "    }\n",
              "\n",
              "    [theme=dark] .colab-df-convert:hover {\n",
              "      background-color: #434B5C;\n",
              "      box-shadow: 0px 1px 3px 1px rgba(0, 0, 0, 0.15);\n",
              "      filter: drop-shadow(0px 1px 2px rgba(0, 0, 0, 0.3));\n",
              "      fill: #FFFFFF;\n",
              "    }\n",
              "  </style>\n",
              "\n",
              "    <script>\n",
              "      const buttonEl =\n",
              "        document.querySelector('#df-a367e9ed-a34f-42b3-8225-2a15aad69c7e button.colab-df-convert');\n",
              "      buttonEl.style.display =\n",
              "        google.colab.kernel.accessAllowed ? 'block' : 'none';\n",
              "\n",
              "      async function convertToInteractive(key) {\n",
              "        const element = document.querySelector('#df-a367e9ed-a34f-42b3-8225-2a15aad69c7e');\n",
              "        const dataTable =\n",
              "          await google.colab.kernel.invokeFunction('convertToInteractive',\n",
              "                                                    [key], {});\n",
              "        if (!dataTable) return;\n",
              "\n",
              "        const docLinkHtml = 'Like what you see? Visit the ' +\n",
              "          '<a target=\"_blank\" href=https://colab.research.google.com/notebooks/data_table.ipynb>data table notebook</a>'\n",
              "          + ' to learn more about interactive tables.';\n",
              "        element.innerHTML = '';\n",
              "        dataTable['output_type'] = 'display_data';\n",
              "        await google.colab.output.renderOutput(dataTable, element);\n",
              "        const docLink = document.createElement('div');\n",
              "        docLink.innerHTML = docLinkHtml;\n",
              "        element.appendChild(docLink);\n",
              "      }\n",
              "    </script>\n",
              "  </div>\n",
              "\n",
              "\n",
              "<div id=\"df-bfc6e668-f126-48aa-93b1-ae91be1cb58e\">\n",
              "  <button class=\"colab-df-quickchart\" onclick=\"quickchart('df-bfc6e668-f126-48aa-93b1-ae91be1cb58e')\"\n",
              "            title=\"Suggest charts\"\n",
              "            style=\"display:none;\">\n",
              "\n",
              "<svg xmlns=\"http://www.w3.org/2000/svg\" height=\"24px\"viewBox=\"0 0 24 24\"\n",
              "     width=\"24px\">\n",
              "    <g>\n",
              "        <path d=\"M19 3H5c-1.1 0-2 .9-2 2v14c0 1.1.9 2 2 2h14c1.1 0 2-.9 2-2V5c0-1.1-.9-2-2-2zM9 17H7v-7h2v7zm4 0h-2V7h2v10zm4 0h-2v-4h2v4z\"/>\n",
              "    </g>\n",
              "</svg>\n",
              "  </button>\n",
              "\n",
              "<style>\n",
              "  .colab-df-quickchart {\n",
              "      --bg-color: #E8F0FE;\n",
              "      --fill-color: #1967D2;\n",
              "      --hover-bg-color: #E2EBFA;\n",
              "      --hover-fill-color: #174EA6;\n",
              "      --disabled-fill-color: #AAA;\n",
              "      --disabled-bg-color: #DDD;\n",
              "  }\n",
              "\n",
              "  [theme=dark] .colab-df-quickchart {\n",
              "      --bg-color: #3B4455;\n",
              "      --fill-color: #D2E3FC;\n",
              "      --hover-bg-color: #434B5C;\n",
              "      --hover-fill-color: #FFFFFF;\n",
              "      --disabled-bg-color: #3B4455;\n",
              "      --disabled-fill-color: #666;\n",
              "  }\n",
              "\n",
              "  .colab-df-quickchart {\n",
              "    background-color: var(--bg-color);\n",
              "    border: none;\n",
              "    border-radius: 50%;\n",
              "    cursor: pointer;\n",
              "    display: none;\n",
              "    fill: var(--fill-color);\n",
              "    height: 32px;\n",
              "    padding: 0;\n",
              "    width: 32px;\n",
              "  }\n",
              "\n",
              "  .colab-df-quickchart:hover {\n",
              "    background-color: var(--hover-bg-color);\n",
              "    box-shadow: 0 1px 2px rgba(60, 64, 67, 0.3), 0 1px 3px 1px rgba(60, 64, 67, 0.15);\n",
              "    fill: var(--button-hover-fill-color);\n",
              "  }\n",
              "\n",
              "  .colab-df-quickchart-complete:disabled,\n",
              "  .colab-df-quickchart-complete:disabled:hover {\n",
              "    background-color: var(--disabled-bg-color);\n",
              "    fill: var(--disabled-fill-color);\n",
              "    box-shadow: none;\n",
              "  }\n",
              "\n",
              "  .colab-df-spinner {\n",
              "    border: 2px solid var(--fill-color);\n",
              "    border-color: transparent;\n",
              "    border-bottom-color: var(--fill-color);\n",
              "    animation:\n",
              "      spin 1s steps(1) infinite;\n",
              "  }\n",
              "\n",
              "  @keyframes spin {\n",
              "    0% {\n",
              "      border-color: transparent;\n",
              "      border-bottom-color: var(--fill-color);\n",
              "      border-left-color: var(--fill-color);\n",
              "    }\n",
              "    20% {\n",
              "      border-color: transparent;\n",
              "      border-left-color: var(--fill-color);\n",
              "      border-top-color: var(--fill-color);\n",
              "    }\n",
              "    30% {\n",
              "      border-color: transparent;\n",
              "      border-left-color: var(--fill-color);\n",
              "      border-top-color: var(--fill-color);\n",
              "      border-right-color: var(--fill-color);\n",
              "    }\n",
              "    40% {\n",
              "      border-color: transparent;\n",
              "      border-right-color: var(--fill-color);\n",
              "      border-top-color: var(--fill-color);\n",
              "    }\n",
              "    60% {\n",
              "      border-color: transparent;\n",
              "      border-right-color: var(--fill-color);\n",
              "    }\n",
              "    80% {\n",
              "      border-color: transparent;\n",
              "      border-right-color: var(--fill-color);\n",
              "      border-bottom-color: var(--fill-color);\n",
              "    }\n",
              "    90% {\n",
              "      border-color: transparent;\n",
              "      border-bottom-color: var(--fill-color);\n",
              "    }\n",
              "  }\n",
              "</style>\n",
              "\n",
              "  <script>\n",
              "    async function quickchart(key) {\n",
              "      const quickchartButtonEl =\n",
              "        document.querySelector('#' + key + ' button');\n",
              "      quickchartButtonEl.disabled = true;  // To prevent multiple clicks.\n",
              "      quickchartButtonEl.classList.add('colab-df-spinner');\n",
              "      try {\n",
              "        const charts = await google.colab.kernel.invokeFunction(\n",
              "            'suggestCharts', [key], {});\n",
              "      } catch (error) {\n",
              "        console.error('Error during call to suggestCharts:', error);\n",
              "      }\n",
              "      quickchartButtonEl.classList.remove('colab-df-spinner');\n",
              "      quickchartButtonEl.classList.add('colab-df-quickchart-complete');\n",
              "    }\n",
              "    (() => {\n",
              "      let quickchartButtonEl =\n",
              "        document.querySelector('#df-bfc6e668-f126-48aa-93b1-ae91be1cb58e button');\n",
              "      quickchartButtonEl.style.display =\n",
              "        google.colab.kernel.accessAllowed ? 'block' : 'none';\n",
              "    })();\n",
              "  </script>\n",
              "</div>\n",
              "    </div>\n",
              "  </div>\n"
            ]
          },
          "metadata": {},
          "execution_count": 49
        }
      ],
      "source": [
        "# Add training times to results comparison\n",
        "compare_results[\"training_time\"] = [total_train_time_model_0,\n",
        "                                    total_train_time_model_1,\n",
        "                                    total_train_time_model_2]\n",
        "compare_results"
      ]
    },
    {
      "cell_type": "code",
      "execution_count": 50,
      "id": "5eb0df60-9318-47d0-adce-f8788ed3999e",
      "metadata": {
        "colab": {
          "base_uri": "https://localhost:8080/",
          "height": 449
        },
        "id": "5eb0df60-9318-47d0-adce-f8788ed3999e",
        "outputId": "727b1f94-c321-44be-e0d7-9da14fe5d6f1"
      },
      "outputs": [
        {
          "output_type": "display_data",
          "data": {
            "text/plain": [
              "<Figure size 640x480 with 1 Axes>"
            ],
            "image/png": "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\n"
          },
          "metadata": {}
        }
      ],
      "source": [
        "# Visualize our model results\n",
        "compare_results.set_index(\"model_name\")[\"model_acc\"].plot(kind=\"barh\")\n",
        "plt.xlabel(\"accuracy (%)\")\n",
        "plt.ylabel(\"model\");"
      ]
    },
    {
      "cell_type": "markdown",
      "id": "0ba50d51-adb3-4e49-9b9a-85173e747352",
      "metadata": {
        "id": "0ba50d51-adb3-4e49-9b9a-85173e747352"
      },
      "source": [
        "## 9. Make and evaluate random predictions with best model\n",
        "\n"
      ]
    },
    {
      "cell_type": "code",
      "execution_count": 51,
      "id": "d1d5d3e7-9601-4141-8bd7-9abbd016bf6c",
      "metadata": {
        "id": "d1d5d3e7-9601-4141-8bd7-9abbd016bf6c"
      },
      "outputs": [],
      "source": [
        "def make_predictions(model: torch.nn.Module, data: list, device: torch.device = device):\n",
        "    pred_probs = []\n",
        "    model.eval()\n",
        "    with torch.inference_mode():\n",
        "        for sample in data:\n",
        "            # Prepare sample\n",
        "            sample = torch.unsqueeze(sample, dim=0).to(device) # Add an extra dimension and send sample to device\n",
        "\n",
        "            # Forward pass (model outputs raw logit)\n",
        "            pred_logit = model(sample)\n",
        "\n",
        "            # Get prediction probability (logit -> prediction probability)\n",
        "            pred_prob = torch.softmax(pred_logit.squeeze(), dim=0) # note: perform softmax on the \"logits\" dimension, not \"batch\" dimension (in this case we have a batch size of 1, so can perform on dim=0)\n",
        "\n",
        "            # Get pred_prob off GPU for further calculations\n",
        "            pred_probs.append(pred_prob.cpu())\n",
        "\n",
        "    # Stack the pred_probs to turn list into a tensor\n",
        "    return torch.stack(pred_probs)"
      ]
    },
    {
      "cell_type": "code",
      "execution_count": 52,
      "id": "420c7461-eaa9-4459-9e68-53574c758765",
      "metadata": {
        "colab": {
          "base_uri": "https://localhost:8080/"
        },
        "id": "420c7461-eaa9-4459-9e68-53574c758765",
        "outputId": "1b0f9922-498f-4c55-ed82-1e94aba09a56"
      },
      "outputs": [
        {
          "output_type": "stream",
          "name": "stdout",
          "text": [
            "Test sample image shape: torch.Size([1, 28, 28])\n",
            "Test sample label: 5 (Sandal)\n"
          ]
        }
      ],
      "source": [
        "import random\n",
        "random.seed(42)\n",
        "test_samples = []\n",
        "test_labels = []\n",
        "for sample, label in random.sample(list(test_data), k=9):\n",
        "    test_samples.append(sample)\n",
        "    test_labels.append(label)\n",
        "\n",
        "# View the first test sample shape and label\n",
        "print(f\"Test sample image shape: {test_samples[0].shape}\\nTest sample label: {test_labels[0]} ({class_names[test_labels[0]]})\")"
      ]
    },
    {
      "cell_type": "code",
      "execution_count": 53,
      "id": "1DYqA0r4SkrV",
      "metadata": {
        "colab": {
          "base_uri": "https://localhost:8080/"
        },
        "id": "1DYqA0r4SkrV",
        "outputId": "12ee308e-ffd5-47ed-cacc-57092b1a3759"
      },
      "outputs": [
        {
          "output_type": "execute_result",
          "data": {
            "text/plain": [
              "tensor([[2.8160e-07, 1.8401e-09, 2.4770e-08, 7.0176e-09, 7.4710e-09, 9.9994e-01,\n",
              "         9.1349e-08, 3.1437e-06, 3.0499e-05, 2.3124e-05],\n",
              "        [2.2838e-01, 4.6950e-01, 9.9272e-04, 1.0808e-01, 4.9295e-02, 1.0068e-04,\n",
              "         1.4165e-01, 6.4031e-04, 8.7072e-04, 5.0250e-04]])"
            ]
          },
          "metadata": {},
          "execution_count": 53
        }
      ],
      "source": [
        "# Make predictions on test samples with model 2\n",
        "pred_probs= make_predictions(model=model_2,\n",
        "                             data=test_samples)\n",
        "\n",
        "# View first two prediction probabilities list\n",
        "pred_probs[:2]"
      ]
    },
    {
      "cell_type": "code",
      "execution_count": 54,
      "id": "79de2ac1-7d4b-4f81-ae8a-90099bca2a3d",
      "metadata": {
        "colab": {
          "base_uri": "https://localhost:8080/"
        },
        "id": "79de2ac1-7d4b-4f81-ae8a-90099bca2a3d",
        "outputId": "2fc32a04-ff40-4f93-df60-2024e7993acb"
      },
      "outputs": [
        {
          "output_type": "execute_result",
          "data": {
            "text/plain": [
              "tensor([[2.8160e-07, 1.8401e-09, 2.4770e-08, 7.0176e-09, 7.4710e-09, 9.9994e-01,\n",
              "         9.1349e-08, 3.1437e-06, 3.0499e-05, 2.3124e-05],\n",
              "        [2.2838e-01, 4.6950e-01, 9.9272e-04, 1.0808e-01, 4.9295e-02, 1.0068e-04,\n",
              "         1.4165e-01, 6.4031e-04, 8.7072e-04, 5.0250e-04]])"
            ]
          },
          "metadata": {},
          "execution_count": 54
        }
      ],
      "source": [
        "# Make predictions on test samples with model 2\n",
        "pred_probs= make_predictions(model=model_2,\n",
        "                             data=test_samples)\n",
        "\n",
        "# View first two prediction probabilities list\n",
        "pred_probs[:2]"
      ]
    },
    {
      "cell_type": "code",
      "execution_count": 55,
      "id": "f9d97bcc-4310-4851-a1f8-6bcd757e9b26",
      "metadata": {
        "colab": {
          "base_uri": "https://localhost:8080/"
        },
        "id": "f9d97bcc-4310-4851-a1f8-6bcd757e9b26",
        "outputId": "9dfa542a-b0bd-44c1-cced-ce893b4ca58a"
      },
      "outputs": [
        {
          "output_type": "execute_result",
          "data": {
            "text/plain": [
              "tensor([5, 1, 7, 4, 3, 0, 4, 7, 1])"
            ]
          },
          "metadata": {},
          "execution_count": 55
        }
      ],
      "source": [
        "# Turn the prediction probabilities into prediction labels by taking the argmax()\n",
        "pred_classes = pred_probs.argmax(dim=1)\n",
        "pred_classes"
      ]
    },
    {
      "cell_type": "code",
      "execution_count": 56,
      "id": "1141af97-0990-4920-83d4-c13cca3f9abc",
      "metadata": {
        "colab": {
          "base_uri": "https://localhost:8080/"
        },
        "id": "1141af97-0990-4920-83d4-c13cca3f9abc",
        "outputId": "a9a9b19b-0845-490d-b23e-ec5ec2ac8114"
      },
      "outputs": [
        {
          "output_type": "execute_result",
          "data": {
            "text/plain": [
              "([5, 1, 7, 4, 3, 0, 4, 7, 1], tensor([5, 1, 7, 4, 3, 0, 4, 7, 1]))"
            ]
          },
          "metadata": {},
          "execution_count": 56
        }
      ],
      "source": [
        "# Are our predictions in the same form as our test labels?\n",
        "test_labels, pred_classes"
      ]
    },
    {
      "cell_type": "code",
      "execution_count": 57,
      "id": "679cb5f7-bb66-42dd-a4d6-400b27b7c019",
      "metadata": {
        "colab": {
          "base_uri": "https://localhost:8080/",
          "height": 749
        },
        "id": "679cb5f7-bb66-42dd-a4d6-400b27b7c019",
        "outputId": "81589e41-cb40-48fc-d4e5-26cfc7ad6986"
      },
      "outputs": [
        {
          "output_type": "display_data",
          "data": {
            "text/plain": [
              "<Figure size 900x900 with 9 Axes>"
            ],
            "image/png": "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\n"
          },
          "metadata": {}
        }
      ],
      "source": [
        "# Plot predictions\n",
        "plt.figure(figsize=(9, 9))\n",
        "nrows = 3\n",
        "ncols = 3\n",
        "for i, sample in enumerate(test_samples):\n",
        "  # Create a subplot\n",
        "  plt.subplot(nrows, ncols, i+1)\n",
        "\n",
        "  # Plot the target image\n",
        "  plt.imshow(sample.squeeze(), cmap=\"gray\")\n",
        "\n",
        "  # Find the prediction label (in text form, e.g. \"Sandal\")\n",
        "  pred_label = class_names[pred_classes[i]]\n",
        "\n",
        "  # Get the truth label (in text form, e.g. \"T-shirt\")\n",
        "  truth_label = class_names[test_labels[i]]\n",
        "\n",
        "  # Create the title text of the plot\n",
        "  title_text = f\"Pred: {pred_label} | Truth: {truth_label}\"\n",
        "\n",
        "  # Check for equality and change title colour accordingly\n",
        "  if pred_label == truth_label:\n",
        "      plt.title(title_text, fontsize=10, c=\"g\") # green text if correct\n",
        "  else:\n",
        "      plt.title(title_text, fontsize=10, c=\"r\") # red text if wrong\n",
        "  plt.axis(False);"
      ]
    },
    {
      "cell_type": "markdown",
      "id": "ab108078-6770-4cb9-ac62-a761ff159aba",
      "metadata": {
        "id": "ab108078-6770-4cb9-ac62-a761ff159aba"
      },
      "source": [
        "## 10. Making a confusion matrix for further prediction evaluation\n",
        "\n"
      ]
    },
    {
      "cell_type": "code",
      "execution_count": 58,
      "id": "065b8090-c9c5-43df-b5c1-b45ba33af1be",
      "metadata": {
        "colab": {
          "base_uri": "https://localhost:8080/",
          "height": 49,
          "referenced_widgets": [
            "c3b6bcb945ea4eb890689e80c75788df",
            "4bff6dfcd97e406481787951543a43b0",
            "41f04b3ae2174582ad6aa89022393b13",
            "0ed1376d6c5c4c56985c3a06f711459d",
            "6b80584d09ba42d1af3d0879042b2db9",
            "52b7d8d1c17d494abf207aed429ddbad",
            "709c1b029fc444998060fe8ba357e30b",
            "c5f7ebc3de0f459b97ee70d45c8e32eb",
            "557d28d977d947d29896efddd1f8c7f6",
            "b9e0b1fa0f3548cd9c1308d0c900dd13",
            "4412936e1bd0416aa5565d9cd519f023"
          ]
        },
        "id": "065b8090-c9c5-43df-b5c1-b45ba33af1be",
        "outputId": "527886db-ca85-455b-f0c3-6e1c6cfc312f"
      },
      "outputs": [
        {
          "output_type": "display_data",
          "data": {
            "text/plain": [
              "Making predictions:   0%|          | 0/313 [00:00<?, ?it/s]"
            ],
            "application/vnd.jupyter.widget-view+json": {
              "version_major": 2,
              "version_minor": 0,
              "model_id": "c3b6bcb945ea4eb890689e80c75788df"
            }
          },
          "metadata": {}
        }
      ],
      "source": [
        "# Import tqdm for progress bar\n",
        "from tqdm.auto import tqdm\n",
        "\n",
        "# 1. Make predictions with trained model\n",
        "y_preds = []\n",
        "model_2.eval()\n",
        "with torch.inference_mode():\n",
        "  for X, y in tqdm(test_dataloader, desc=\"Making predictions\"):\n",
        "    # Send data and targets to target device\n",
        "    X, y = X.to(device), y.to(device)\n",
        "    # Do the forward pass\n",
        "    y_logit = model_2(X)\n",
        "    # Turn predictions from logits -> prediction probabilities -> predictions labels\n",
        "    y_pred = torch.softmax(y_logit, dim=1).argmax(dim=1) # note: perform softmax on the \"logits\" dimension, not \"batch\" dimension (in this case we have a batch size of 32, so can perform on dim=1)\n",
        "    # Put predictions on CPU for evaluation\n",
        "    y_preds.append(y_pred.cpu())\n",
        "# Concatenate list of predictions into a tensor\n",
        "y_pred_tensor = torch.cat(y_preds)"
      ]
    },
    {
      "cell_type": "code",
      "execution_count": 59,
      "id": "e6c0a05d-d3e0-4b86-9ef7-ee6ea5629b07",
      "metadata": {
        "colab": {
          "base_uri": "https://localhost:8080/"
        },
        "id": "e6c0a05d-d3e0-4b86-9ef7-ee6ea5629b07",
        "outputId": "34f31008-214f-4294-b5df-11b869f78382"
      },
      "outputs": [
        {
          "output_type": "stream",
          "name": "stdout",
          "text": [
            "\u001b[2K     \u001b[90m━━━━━━━━━━━━━━━━━━━━━━━━━━━━━━━━━━━━━━━━\u001b[0m \u001b[32m806.1/806.1 kB\u001b[0m \u001b[31m5.0 MB/s\u001b[0m eta \u001b[36m0:00:00\u001b[0m\n",
            "\u001b[2K     \u001b[90m━━━━━━━━━━━━━━━━━━━━━━━━━━━━━━━━━━━━━━━━\u001b[0m \u001b[32m1.4/1.4 MB\u001b[0m \u001b[31m26.0 MB/s\u001b[0m eta \u001b[36m0:00:00\u001b[0m\n",
            "\u001b[?25hmlxtend version: 0.23.1\n"
          ]
        }
      ],
      "source": [
        "# See if torchmetrics exists, if not, install it\n",
        "try:\n",
        "    import torchmetrics, mlxtend\n",
        "    print(f\"mlxtend version: {mlxtend.__version__}\")\n",
        "    assert int(mlxtend.__version__.split(\".\")[1]) >= 19, \"mlxtend verison should be 0.19.0 or higher\"\n",
        "except:\n",
        "    !pip install -q torchmetrics -U mlxtend # <- Note: If you're using Google Colab, this may require restarting the runtime\n",
        "    import torchmetrics, mlxtend\n",
        "    print(f\"mlxtend version: {mlxtend.__version__}\")"
      ]
    },
    {
      "cell_type": "code",
      "execution_count": 60,
      "id": "21383f88-a2dd-4678-94c6-479c592da0ab",
      "metadata": {
        "colab": {
          "base_uri": "https://localhost:8080/"
        },
        "id": "21383f88-a2dd-4678-94c6-479c592da0ab",
        "outputId": "32fa3abf-74e7-4da4-88b5-40d576423afe"
      },
      "outputs": [
        {
          "output_type": "stream",
          "name": "stdout",
          "text": [
            "0.23.1\n"
          ]
        }
      ],
      "source": [
        "# Import mlxtend upgraded version\n",
        "import mlxtend\n",
        "print(mlxtend.__version__)\n",
        "assert int(mlxtend.__version__.split(\".\")[1]) >= 19 # should be version 0.19.0 or higher"
      ]
    },
    {
      "cell_type": "code",
      "execution_count": 61,
      "id": "7aed6d76-ad1c-429e-b8e0-c80572e3ebf4",
      "metadata": {
        "colab": {
          "base_uri": "https://localhost:8080/",
          "height": 667
        },
        "id": "7aed6d76-ad1c-429e-b8e0-c80572e3ebf4",
        "outputId": "20810131-a416-4e6b-88a8-1415fade558e"
      },
      "outputs": [
        {
          "output_type": "display_data",
          "data": {
            "text/plain": [
              "<Figure size 1000x700 with 1 Axes>"
            ],
            "image/png": "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\n"
          },
          "metadata": {}
        }
      ],
      "source": [
        "from torchmetrics import ConfusionMatrix\n",
        "from mlxtend.plotting import plot_confusion_matrix\n",
        "\n",
        "# 2. Setup confusion matrix instance and compare predictions to targets\n",
        "confmat = ConfusionMatrix(num_classes=len(class_names), task='multiclass')\n",
        "confmat_tensor = confmat(preds=y_pred_tensor,\n",
        "                         target=test_data.targets)\n",
        "\n",
        "# 3. Plot the confusion matrix\n",
        "fig, ax = plot_confusion_matrix(\n",
        "    conf_mat=confmat_tensor.numpy(), # matplotlib likes working with NumPy\n",
        "    class_names=class_names, # turn the row and column labels into class names\n",
        "    figsize=(10, 7)\n",
        ");"
      ]
    },
    {
      "cell_type": "markdown",
      "id": "25818e83-89de-496d-8b56-af4fc9f2acc5",
      "metadata": {
        "id": "25818e83-89de-496d-8b56-af4fc9f2acc5"
      },
      "source": [
        "## 11. Save and load best performing model\n",
        "\n"
      ]
    },
    {
      "cell_type": "code",
      "execution_count": 63,
      "id": "d058e8fa-560f-4350-a154-49593ff403c9",
      "metadata": {
        "colab": {
          "base_uri": "https://localhost:8080/"
        },
        "id": "d058e8fa-560f-4350-a154-49593ff403c9",
        "outputId": "8fad0946-2aa4-44d6-c837-d0256759f09d"
      },
      "outputs": [
        {
          "output_type": "stream",
          "name": "stdout",
          "text": [
            "Saving model to: models/03_pytorch_computer_vision_model_2.pth\n"
          ]
        }
      ],
      "source": [
        "from pathlib import Path\n",
        "\n",
        "# Create models directory (if it doesn't already exist), see: https://docs.python.org/3/library/pathlib.html#pathlib.Path.mkdir\n",
        "MODEL_PATH = Path(\"models\")\n",
        "MODEL_PATH.mkdir(parents=True, # create parent directories if needed\n",
        "                 exist_ok=True # if models directory already exists, don't error\n",
        ")\n",
        "\n",
        "# Create model save path\n",
        "MODEL_NAME = \"03_pytorch_computer_vision_model_2.pth\"\n",
        "MODEL_SAVE_PATH = MODEL_PATH / MODEL_NAME\n",
        "\n",
        "# Save the model state dict\n",
        "print(f\"Saving model to: {MODEL_SAVE_PATH}\")\n",
        "torch.save(obj=model_2.state_dict(), # only saving the state_dict() only saves the learned parameters\n",
        "           f=MODEL_SAVE_PATH)"
      ]
    },
    {
      "cell_type": "code",
      "execution_count": 64,
      "id": "634a8f7a-3013-4b45-b365-49b286d3c478",
      "metadata": {
        "id": "634a8f7a-3013-4b45-b365-49b286d3c478"
      },
      "outputs": [],
      "source": [
        "# Create a new instance of FashionMNISTModelV2 (the same class as our saved state_dict())\n",
        "# Note: loading model will error if the shapes here aren't the same as the saved version\n",
        "loaded_model_2 = FashionMNISTModelV2(input_shape=1,\n",
        "                                    hidden_units=10, # try changing this to 128 and seeing what happens\n",
        "                                    output_shape=10)\n",
        "\n",
        "# Load in the saved state_dict()\n",
        "loaded_model_2.load_state_dict(torch.load(f=MODEL_SAVE_PATH))\n",
        "\n",
        "# Send model to GPU\n",
        "loaded_model_2 = loaded_model_2.to(device)"
      ]
    },
    {
      "cell_type": "code",
      "execution_count": 65,
      "id": "3e3bcd06-d99b-47bc-8828-9e3903285599",
      "metadata": {
        "colab": {
          "base_uri": "https://localhost:8080/"
        },
        "id": "3e3bcd06-d99b-47bc-8828-9e3903285599",
        "outputId": "af8b3ebe-8984-48fd-b1f7-6ff99fb18ad0"
      },
      "outputs": [
        {
          "output_type": "execute_result",
          "data": {
            "text/plain": [
              "{'model_name': 'FashionMNISTModelV2',\n",
              " 'model_loss': 0.3396317660808563,\n",
              " 'model_acc': 87.82947284345047}"
            ]
          },
          "metadata": {},
          "execution_count": 65
        }
      ],
      "source": [
        "# Evaluate loaded model\n",
        "torch.manual_seed(42)\n",
        "\n",
        "loaded_model_2_results = eval_model(\n",
        "    model=loaded_model_2,\n",
        "    data_loader=test_dataloader,\n",
        "    loss_fn=loss_fn,\n",
        "    accuracy_fn=accuracy_fn\n",
        ")\n",
        "\n",
        "loaded_model_2_results"
      ]
    },
    {
      "cell_type": "markdown",
      "id": "c2b37855-c0da-4834-a2d4-a0faa8410b65",
      "metadata": {
        "id": "c2b37855-c0da-4834-a2d4-a0faa8410b65"
      },
      "source": [
        "Do these results look the same as `model_2_results`?"
      ]
    },
    {
      "cell_type": "code",
      "execution_count": 66,
      "id": "68544254-c99a-47ec-a32f-9816c21a993e",
      "metadata": {
        "colab": {
          "base_uri": "https://localhost:8080/"
        },
        "id": "68544254-c99a-47ec-a32f-9816c21a993e",
        "outputId": "1f09cef0-b22d-4a9e-f9c2-a6340730d84d"
      },
      "outputs": [
        {
          "output_type": "execute_result",
          "data": {
            "text/plain": [
              "{'model_name': 'FashionMNISTModelV2',\n",
              " 'model_loss': 0.3396317660808563,\n",
              " 'model_acc': 87.82947284345047}"
            ]
          },
          "metadata": {},
          "execution_count": 66
        }
      ],
      "source": [
        "model_2_results"
      ]
    },
    {
      "cell_type": "markdown",
      "id": "0ee07f93-4344-4c7a-8b1d-92a56034e7b2",
      "metadata": {
        "id": "0ee07f93-4344-4c7a-8b1d-92a56034e7b2"
      },
      "source": [
        "We can find out if two tensors are close to each other using `torch.isclose()` and passing in a tolerance level of closeness via the parameters `atol` (absolute tolerance) and `rtol` (relative tolerance).\n",
        "\n",
        "If our model's results are close, the output of `torch.isclose()` should be true."
      ]
    },
    {
      "cell_type": "code",
      "execution_count": 67,
      "id": "48dcf0ba-7e00-4406-8aaa-41918856361a",
      "metadata": {
        "colab": {
          "base_uri": "https://localhost:8080/"
        },
        "id": "48dcf0ba-7e00-4406-8aaa-41918856361a",
        "outputId": "4599ae04-6fca-4d60-e727-8ca80fc06afe"
      },
      "outputs": [
        {
          "output_type": "execute_result",
          "data": {
            "text/plain": [
              "tensor(True)"
            ]
          },
          "metadata": {},
          "execution_count": 67
        }
      ],
      "source": [
        "# Check to see if results are close to each other (if they are very far away, there may be an error)\n",
        "torch.isclose(torch.tensor(model_2_results[\"model_loss\"]),\n",
        "              torch.tensor(loaded_model_2_results[\"model_loss\"]),\n",
        "              atol=1e-08, # absolute tolerance\n",
        "              rtol=0.0001) # relative tolerance"
      ]
    }
  ],
  "metadata": {
    "accelerator": "GPU",
    "colab": {
      "gpuType": "T4",
      "machine_shape": "hm",
      "provenance": []
    },
    "kernelspec": {
      "display_name": "Python 3 (ipykernel)",
      "language": "python",
      "name": "python3"
    },
    "language_info": {
      "codemirror_mode": {
        "name": "ipython",
        "version": 3
      },
      "file_extension": ".py",
      "mimetype": "text/x-python",
      "name": "python",
      "nbconvert_exporter": "python",
      "pygments_lexer": "ipython3",
      "version": "3.8.13"
    },
    "vscode": {
      "interpreter": {
        "hash": "3fbe1355223f7b2ffc113ba3ade6a2b520cadace5d5ec3e828c83ce02eb221bf"
      }
    },
    "widgets": {
      "application/vnd.jupyter.widget-state+json": {
        "f00086a46285487f8737b1fe8a70106b": {
          "model_module": "@jupyter-widgets/controls",
          "model_name": "HBoxModel",
          "model_module_version": "1.5.0",
          "state": {
            "_dom_classes": [],
            "_model_module": "@jupyter-widgets/controls",
            "_model_module_version": "1.5.0",
            "_model_name": "HBoxModel",
            "_view_count": null,
            "_view_module": "@jupyter-widgets/controls",
            "_view_module_version": "1.5.0",
            "_view_name": "HBoxView",
            "box_style": "",
            "children": [
              "IPY_MODEL_b4da6c11fec54bf08f8ba215cde05298",
              "IPY_MODEL_22140e1f7bd2446fa86a89f1137f6c0e",
              "IPY_MODEL_5811a909e3014b30888701b41131ff7e"
            ],
            "layout": "IPY_MODEL_b1c18faeaecc421298911009091b2ba5"
          }
        },
        "b4da6c11fec54bf08f8ba215cde05298": {
          "model_module": "@jupyter-widgets/controls",
          "model_name": "HTMLModel",
          "model_module_version": "1.5.0",
          "state": {
            "_dom_classes": [],
            "_model_module": "@jupyter-widgets/controls",
            "_model_module_version": "1.5.0",
            "_model_name": "HTMLModel",
            "_view_count": null,
            "_view_module": "@jupyter-widgets/controls",
            "_view_module_version": "1.5.0",
            "_view_name": "HTMLView",
            "description": "",
            "description_tooltip": null,
            "layout": "IPY_MODEL_be7a61a8ca784b96b2751bc4413aca40",
            "placeholder": "​",
            "style": "IPY_MODEL_bef1e4885a604565b01a48b3c0aee32c",
            "value": "100%"
          }
        },
        "22140e1f7bd2446fa86a89f1137f6c0e": {
          "model_module": "@jupyter-widgets/controls",
          "model_name": "FloatProgressModel",
          "model_module_version": "1.5.0",
          "state": {
            "_dom_classes": [],
            "_model_module": "@jupyter-widgets/controls",
            "_model_module_version": "1.5.0",
            "_model_name": "FloatProgressModel",
            "_view_count": null,
            "_view_module": "@jupyter-widgets/controls",
            "_view_module_version": "1.5.0",
            "_view_name": "ProgressView",
            "bar_style": "success",
            "description": "",
            "description_tooltip": null,
            "layout": "IPY_MODEL_aee5c4bb3b1c4a0da6a42f27ffd6d80f",
            "max": 3,
            "min": 0,
            "orientation": "horizontal",
            "style": "IPY_MODEL_07fec448b1a0473f9af0ec4c3251fd93",
            "value": 3
          }
        },
        "5811a909e3014b30888701b41131ff7e": {
          "model_module": "@jupyter-widgets/controls",
          "model_name": "HTMLModel",
          "model_module_version": "1.5.0",
          "state": {
            "_dom_classes": [],
            "_model_module": "@jupyter-widgets/controls",
            "_model_module_version": "1.5.0",
            "_model_name": "HTMLModel",
            "_view_count": null,
            "_view_module": "@jupyter-widgets/controls",
            "_view_module_version": "1.5.0",
            "_view_name": "HTMLView",
            "description": "",
            "description_tooltip": null,
            "layout": "IPY_MODEL_e5a3bece3a4b43099852164130af990d",
            "placeholder": "​",
            "style": "IPY_MODEL_6f1f25bcdff247c8af8fe9521634335e",
            "value": " 3/3 [00:27&lt;00:00,  9.12s/it]"
          }
        },
        "b1c18faeaecc421298911009091b2ba5": {
          "model_module": "@jupyter-widgets/base",
          "model_name": "LayoutModel",
          "model_module_version": "1.2.0",
          "state": {
            "_model_module": "@jupyter-widgets/base",
            "_model_module_version": "1.2.0",
            "_model_name": "LayoutModel",
            "_view_count": null,
            "_view_module": "@jupyter-widgets/base",
            "_view_module_version": "1.2.0",
            "_view_name": "LayoutView",
            "align_content": null,
            "align_items": null,
            "align_self": null,
            "border": null,
            "bottom": null,
            "display": null,
            "flex": null,
            "flex_flow": null,
            "grid_area": null,
            "grid_auto_columns": null,
            "grid_auto_flow": null,
            "grid_auto_rows": null,
            "grid_column": null,
            "grid_gap": null,
            "grid_row": null,
            "grid_template_areas": null,
            "grid_template_columns": null,
            "grid_template_rows": null,
            "height": null,
            "justify_content": null,
            "justify_items": null,
            "left": null,
            "margin": null,
            "max_height": null,
            "max_width": null,
            "min_height": null,
            "min_width": null,
            "object_fit": null,
            "object_position": null,
            "order": null,
            "overflow": null,
            "overflow_x": null,
            "overflow_y": null,
            "padding": null,
            "right": null,
            "top": null,
            "visibility": null,
            "width": null
          }
        },
        "be7a61a8ca784b96b2751bc4413aca40": {
          "model_module": "@jupyter-widgets/base",
          "model_name": "LayoutModel",
          "model_module_version": "1.2.0",
          "state": {
            "_model_module": "@jupyter-widgets/base",
            "_model_module_version": "1.2.0",
            "_model_name": "LayoutModel",
            "_view_count": null,
            "_view_module": "@jupyter-widgets/base",
            "_view_module_version": "1.2.0",
            "_view_name": "LayoutView",
            "align_content": null,
            "align_items": null,
            "align_self": null,
            "border": null,
            "bottom": null,
            "display": null,
            "flex": null,
            "flex_flow": null,
            "grid_area": null,
            "grid_auto_columns": null,
            "grid_auto_flow": null,
            "grid_auto_rows": null,
            "grid_column": null,
            "grid_gap": null,
            "grid_row": null,
            "grid_template_areas": null,
            "grid_template_columns": null,
            "grid_template_rows": null,
            "height": null,
            "justify_content": null,
            "justify_items": null,
            "left": null,
            "margin": null,
            "max_height": null,
            "max_width": null,
            "min_height": null,
            "min_width": null,
            "object_fit": null,
            "object_position": null,
            "order": null,
            "overflow": null,
            "overflow_x": null,
            "overflow_y": null,
            "padding": null,
            "right": null,
            "top": null,
            "visibility": null,
            "width": null
          }
        },
        "bef1e4885a604565b01a48b3c0aee32c": {
          "model_module": "@jupyter-widgets/controls",
          "model_name": "DescriptionStyleModel",
          "model_module_version": "1.5.0",
          "state": {
            "_model_module": "@jupyter-widgets/controls",
            "_model_module_version": "1.5.0",
            "_model_name": "DescriptionStyleModel",
            "_view_count": null,
            "_view_module": "@jupyter-widgets/base",
            "_view_module_version": "1.2.0",
            "_view_name": "StyleView",
            "description_width": ""
          }
        },
        "aee5c4bb3b1c4a0da6a42f27ffd6d80f": {
          "model_module": "@jupyter-widgets/base",
          "model_name": "LayoutModel",
          "model_module_version": "1.2.0",
          "state": {
            "_model_module": "@jupyter-widgets/base",
            "_model_module_version": "1.2.0",
            "_model_name": "LayoutModel",
            "_view_count": null,
            "_view_module": "@jupyter-widgets/base",
            "_view_module_version": "1.2.0",
            "_view_name": "LayoutView",
            "align_content": null,
            "align_items": null,
            "align_self": null,
            "border": null,
            "bottom": null,
            "display": null,
            "flex": null,
            "flex_flow": null,
            "grid_area": null,
            "grid_auto_columns": null,
            "grid_auto_flow": null,
            "grid_auto_rows": null,
            "grid_column": null,
            "grid_gap": null,
            "grid_row": null,
            "grid_template_areas": null,
            "grid_template_columns": null,
            "grid_template_rows": null,
            "height": null,
            "justify_content": null,
            "justify_items": null,
            "left": null,
            "margin": null,
            "max_height": null,
            "max_width": null,
            "min_height": null,
            "min_width": null,
            "object_fit": null,
            "object_position": null,
            "order": null,
            "overflow": null,
            "overflow_x": null,
            "overflow_y": null,
            "padding": null,
            "right": null,
            "top": null,
            "visibility": null,
            "width": null
          }
        },
        "07fec448b1a0473f9af0ec4c3251fd93": {
          "model_module": "@jupyter-widgets/controls",
          "model_name": "ProgressStyleModel",
          "model_module_version": "1.5.0",
          "state": {
            "_model_module": "@jupyter-widgets/controls",
            "_model_module_version": "1.5.0",
            "_model_name": "ProgressStyleModel",
            "_view_count": null,
            "_view_module": "@jupyter-widgets/base",
            "_view_module_version": "1.2.0",
            "_view_name": "StyleView",
            "bar_color": null,
            "description_width": ""
          }
        },
        "e5a3bece3a4b43099852164130af990d": {
          "model_module": "@jupyter-widgets/base",
          "model_name": "LayoutModel",
          "model_module_version": "1.2.0",
          "state": {
            "_model_module": "@jupyter-widgets/base",
            "_model_module_version": "1.2.0",
            "_model_name": "LayoutModel",
            "_view_count": null,
            "_view_module": "@jupyter-widgets/base",
            "_view_module_version": "1.2.0",
            "_view_name": "LayoutView",
            "align_content": null,
            "align_items": null,
            "align_self": null,
            "border": null,
            "bottom": null,
            "display": null,
            "flex": null,
            "flex_flow": null,
            "grid_area": null,
            "grid_auto_columns": null,
            "grid_auto_flow": null,
            "grid_auto_rows": null,
            "grid_column": null,
            "grid_gap": null,
            "grid_row": null,
            "grid_template_areas": null,
            "grid_template_columns": null,
            "grid_template_rows": null,
            "height": null,
            "justify_content": null,
            "justify_items": null,
            "left": null,
            "margin": null,
            "max_height": null,
            "max_width": null,
            "min_height": null,
            "min_width": null,
            "object_fit": null,
            "object_position": null,
            "order": null,
            "overflow": null,
            "overflow_x": null,
            "overflow_y": null,
            "padding": null,
            "right": null,
            "top": null,
            "visibility": null,
            "width": null
          }
        },
        "6f1f25bcdff247c8af8fe9521634335e": {
          "model_module": "@jupyter-widgets/controls",
          "model_name": "DescriptionStyleModel",
          "model_module_version": "1.5.0",
          "state": {
            "_model_module": "@jupyter-widgets/controls",
            "_model_module_version": "1.5.0",
            "_model_name": "DescriptionStyleModel",
            "_view_count": null,
            "_view_module": "@jupyter-widgets/base",
            "_view_module_version": "1.2.0",
            "_view_name": "StyleView",
            "description_width": ""
          }
        },
        "1687a4e5e14549ad929a7cfcc3856ef2": {
          "model_module": "@jupyter-widgets/controls",
          "model_name": "HBoxModel",
          "model_module_version": "1.5.0",
          "state": {
            "_dom_classes": [],
            "_model_module": "@jupyter-widgets/controls",
            "_model_module_version": "1.5.0",
            "_model_name": "HBoxModel",
            "_view_count": null,
            "_view_module": "@jupyter-widgets/controls",
            "_view_module_version": "1.5.0",
            "_view_name": "HBoxView",
            "box_style": "",
            "children": [
              "IPY_MODEL_3401709b5fda491d9f9778a81ab90a0f",
              "IPY_MODEL_c251df32b55d4e11a6749aa0adb6a4e4",
              "IPY_MODEL_1ab25c9bec194f3da7839e75adaecd34"
            ],
            "layout": "IPY_MODEL_1b06831960c14132aa6429ef7350e734"
          }
        },
        "3401709b5fda491d9f9778a81ab90a0f": {
          "model_module": "@jupyter-widgets/controls",
          "model_name": "HTMLModel",
          "model_module_version": "1.5.0",
          "state": {
            "_dom_classes": [],
            "_model_module": "@jupyter-widgets/controls",
            "_model_module_version": "1.5.0",
            "_model_name": "HTMLModel",
            "_view_count": null,
            "_view_module": "@jupyter-widgets/controls",
            "_view_module_version": "1.5.0",
            "_view_name": "HTMLView",
            "description": "",
            "description_tooltip": null,
            "layout": "IPY_MODEL_9cf63a02f5e04edcacbc61d7f001696d",
            "placeholder": "​",
            "style": "IPY_MODEL_af676c8b3c484297b9349b077f2e2b7c",
            "value": "100%"
          }
        },
        "c251df32b55d4e11a6749aa0adb6a4e4": {
          "model_module": "@jupyter-widgets/controls",
          "model_name": "FloatProgressModel",
          "model_module_version": "1.5.0",
          "state": {
            "_dom_classes": [],
            "_model_module": "@jupyter-widgets/controls",
            "_model_module_version": "1.5.0",
            "_model_name": "FloatProgressModel",
            "_view_count": null,
            "_view_module": "@jupyter-widgets/controls",
            "_view_module_version": "1.5.0",
            "_view_name": "ProgressView",
            "bar_style": "success",
            "description": "",
            "description_tooltip": null,
            "layout": "IPY_MODEL_fff3201ea5164ee9b492f31525061e9f",
            "max": 3,
            "min": 0,
            "orientation": "horizontal",
            "style": "IPY_MODEL_8c261fb8f1734e43ba83336beed7bc8c",
            "value": 3
          }
        },
        "1ab25c9bec194f3da7839e75adaecd34": {
          "model_module": "@jupyter-widgets/controls",
          "model_name": "HTMLModel",
          "model_module_version": "1.5.0",
          "state": {
            "_dom_classes": [],
            "_model_module": "@jupyter-widgets/controls",
            "_model_module_version": "1.5.0",
            "_model_name": "HTMLModel",
            "_view_count": null,
            "_view_module": "@jupyter-widgets/controls",
            "_view_module_version": "1.5.0",
            "_view_name": "HTMLView",
            "description": "",
            "description_tooltip": null,
            "layout": "IPY_MODEL_917ffdbdec5a4668bf38b5af26c7e434",
            "placeholder": "​",
            "style": "IPY_MODEL_08c7cd9f8ac34f7388269a7c54d60973",
            "value": " 3/3 [00:31&lt;00:00, 10.27s/it]"
          }
        },
        "1b06831960c14132aa6429ef7350e734": {
          "model_module": "@jupyter-widgets/base",
          "model_name": "LayoutModel",
          "model_module_version": "1.2.0",
          "state": {
            "_model_module": "@jupyter-widgets/base",
            "_model_module_version": "1.2.0",
            "_model_name": "LayoutModel",
            "_view_count": null,
            "_view_module": "@jupyter-widgets/base",
            "_view_module_version": "1.2.0",
            "_view_name": "LayoutView",
            "align_content": null,
            "align_items": null,
            "align_self": null,
            "border": null,
            "bottom": null,
            "display": null,
            "flex": null,
            "flex_flow": null,
            "grid_area": null,
            "grid_auto_columns": null,
            "grid_auto_flow": null,
            "grid_auto_rows": null,
            "grid_column": null,
            "grid_gap": null,
            "grid_row": null,
            "grid_template_areas": null,
            "grid_template_columns": null,
            "grid_template_rows": null,
            "height": null,
            "justify_content": null,
            "justify_items": null,
            "left": null,
            "margin": null,
            "max_height": null,
            "max_width": null,
            "min_height": null,
            "min_width": null,
            "object_fit": null,
            "object_position": null,
            "order": null,
            "overflow": null,
            "overflow_x": null,
            "overflow_y": null,
            "padding": null,
            "right": null,
            "top": null,
            "visibility": null,
            "width": null
          }
        },
        "9cf63a02f5e04edcacbc61d7f001696d": {
          "model_module": "@jupyter-widgets/base",
          "model_name": "LayoutModel",
          "model_module_version": "1.2.0",
          "state": {
            "_model_module": "@jupyter-widgets/base",
            "_model_module_version": "1.2.0",
            "_model_name": "LayoutModel",
            "_view_count": null,
            "_view_module": "@jupyter-widgets/base",
            "_view_module_version": "1.2.0",
            "_view_name": "LayoutView",
            "align_content": null,
            "align_items": null,
            "align_self": null,
            "border": null,
            "bottom": null,
            "display": null,
            "flex": null,
            "flex_flow": null,
            "grid_area": null,
            "grid_auto_columns": null,
            "grid_auto_flow": null,
            "grid_auto_rows": null,
            "grid_column": null,
            "grid_gap": null,
            "grid_row": null,
            "grid_template_areas": null,
            "grid_template_columns": null,
            "grid_template_rows": null,
            "height": null,
            "justify_content": null,
            "justify_items": null,
            "left": null,
            "margin": null,
            "max_height": null,
            "max_width": null,
            "min_height": null,
            "min_width": null,
            "object_fit": null,
            "object_position": null,
            "order": null,
            "overflow": null,
            "overflow_x": null,
            "overflow_y": null,
            "padding": null,
            "right": null,
            "top": null,
            "visibility": null,
            "width": null
          }
        },
        "af676c8b3c484297b9349b077f2e2b7c": {
          "model_module": "@jupyter-widgets/controls",
          "model_name": "DescriptionStyleModel",
          "model_module_version": "1.5.0",
          "state": {
            "_model_module": "@jupyter-widgets/controls",
            "_model_module_version": "1.5.0",
            "_model_name": "DescriptionStyleModel",
            "_view_count": null,
            "_view_module": "@jupyter-widgets/base",
            "_view_module_version": "1.2.0",
            "_view_name": "StyleView",
            "description_width": ""
          }
        },
        "fff3201ea5164ee9b492f31525061e9f": {
          "model_module": "@jupyter-widgets/base",
          "model_name": "LayoutModel",
          "model_module_version": "1.2.0",
          "state": {
            "_model_module": "@jupyter-widgets/base",
            "_model_module_version": "1.2.0",
            "_model_name": "LayoutModel",
            "_view_count": null,
            "_view_module": "@jupyter-widgets/base",
            "_view_module_version": "1.2.0",
            "_view_name": "LayoutView",
            "align_content": null,
            "align_items": null,
            "align_self": null,
            "border": null,
            "bottom": null,
            "display": null,
            "flex": null,
            "flex_flow": null,
            "grid_area": null,
            "grid_auto_columns": null,
            "grid_auto_flow": null,
            "grid_auto_rows": null,
            "grid_column": null,
            "grid_gap": null,
            "grid_row": null,
            "grid_template_areas": null,
            "grid_template_columns": null,
            "grid_template_rows": null,
            "height": null,
            "justify_content": null,
            "justify_items": null,
            "left": null,
            "margin": null,
            "max_height": null,
            "max_width": null,
            "min_height": null,
            "min_width": null,
            "object_fit": null,
            "object_position": null,
            "order": null,
            "overflow": null,
            "overflow_x": null,
            "overflow_y": null,
            "padding": null,
            "right": null,
            "top": null,
            "visibility": null,
            "width": null
          }
        },
        "8c261fb8f1734e43ba83336beed7bc8c": {
          "model_module": "@jupyter-widgets/controls",
          "model_name": "ProgressStyleModel",
          "model_module_version": "1.5.0",
          "state": {
            "_model_module": "@jupyter-widgets/controls",
            "_model_module_version": "1.5.0",
            "_model_name": "ProgressStyleModel",
            "_view_count": null,
            "_view_module": "@jupyter-widgets/base",
            "_view_module_version": "1.2.0",
            "_view_name": "StyleView",
            "bar_color": null,
            "description_width": ""
          }
        },
        "917ffdbdec5a4668bf38b5af26c7e434": {
          "model_module": "@jupyter-widgets/base",
          "model_name": "LayoutModel",
          "model_module_version": "1.2.0",
          "state": {
            "_model_module": "@jupyter-widgets/base",
            "_model_module_version": "1.2.0",
            "_model_name": "LayoutModel",
            "_view_count": null,
            "_view_module": "@jupyter-widgets/base",
            "_view_module_version": "1.2.0",
            "_view_name": "LayoutView",
            "align_content": null,
            "align_items": null,
            "align_self": null,
            "border": null,
            "bottom": null,
            "display": null,
            "flex": null,
            "flex_flow": null,
            "grid_area": null,
            "grid_auto_columns": null,
            "grid_auto_flow": null,
            "grid_auto_rows": null,
            "grid_column": null,
            "grid_gap": null,
            "grid_row": null,
            "grid_template_areas": null,
            "grid_template_columns": null,
            "grid_template_rows": null,
            "height": null,
            "justify_content": null,
            "justify_items": null,
            "left": null,
            "margin": null,
            "max_height": null,
            "max_width": null,
            "min_height": null,
            "min_width": null,
            "object_fit": null,
            "object_position": null,
            "order": null,
            "overflow": null,
            "overflow_x": null,
            "overflow_y": null,
            "padding": null,
            "right": null,
            "top": null,
            "visibility": null,
            "width": null
          }
        },
        "08c7cd9f8ac34f7388269a7c54d60973": {
          "model_module": "@jupyter-widgets/controls",
          "model_name": "DescriptionStyleModel",
          "model_module_version": "1.5.0",
          "state": {
            "_model_module": "@jupyter-widgets/controls",
            "_model_module_version": "1.5.0",
            "_model_name": "DescriptionStyleModel",
            "_view_count": null,
            "_view_module": "@jupyter-widgets/base",
            "_view_module_version": "1.2.0",
            "_view_name": "StyleView",
            "description_width": ""
          }
        },
        "0cc9bc085a744155a2c022edb63b4398": {
          "model_module": "@jupyter-widgets/controls",
          "model_name": "HBoxModel",
          "model_module_version": "1.5.0",
          "state": {
            "_dom_classes": [],
            "_model_module": "@jupyter-widgets/controls",
            "_model_module_version": "1.5.0",
            "_model_name": "HBoxModel",
            "_view_count": null,
            "_view_module": "@jupyter-widgets/controls",
            "_view_module_version": "1.5.0",
            "_view_name": "HBoxView",
            "box_style": "",
            "children": [
              "IPY_MODEL_4c74dcd2b3f14378a4eff7b28b7f48df",
              "IPY_MODEL_3b2431ad6fb0487bad67774b453001ca",
              "IPY_MODEL_d51916372ea64d72b90be2155cd3e3f9"
            ],
            "layout": "IPY_MODEL_cba4de486174432480833586feac59c8"
          }
        },
        "4c74dcd2b3f14378a4eff7b28b7f48df": {
          "model_module": "@jupyter-widgets/controls",
          "model_name": "HTMLModel",
          "model_module_version": "1.5.0",
          "state": {
            "_dom_classes": [],
            "_model_module": "@jupyter-widgets/controls",
            "_model_module_version": "1.5.0",
            "_model_name": "HTMLModel",
            "_view_count": null,
            "_view_module": "@jupyter-widgets/controls",
            "_view_module_version": "1.5.0",
            "_view_name": "HTMLView",
            "description": "",
            "description_tooltip": null,
            "layout": "IPY_MODEL_e5a68eefcfa74ea8bb41b01c022fe8a9",
            "placeholder": "​",
            "style": "IPY_MODEL_877a2fb376df4ac198a78418f7811bbe",
            "value": "100%"
          }
        },
        "3b2431ad6fb0487bad67774b453001ca": {
          "model_module": "@jupyter-widgets/controls",
          "model_name": "FloatProgressModel",
          "model_module_version": "1.5.0",
          "state": {
            "_dom_classes": [],
            "_model_module": "@jupyter-widgets/controls",
            "_model_module_version": "1.5.0",
            "_model_name": "FloatProgressModel",
            "_view_count": null,
            "_view_module": "@jupyter-widgets/controls",
            "_view_module_version": "1.5.0",
            "_view_name": "ProgressView",
            "bar_style": "success",
            "description": "",
            "description_tooltip": null,
            "layout": "IPY_MODEL_5312eb35555d4d2387cc4ac10c0eceb5",
            "max": 3,
            "min": 0,
            "orientation": "horizontal",
            "style": "IPY_MODEL_6f753203c6494f2c92a4b0abd3499fcf",
            "value": 3
          }
        },
        "d51916372ea64d72b90be2155cd3e3f9": {
          "model_module": "@jupyter-widgets/controls",
          "model_name": "HTMLModel",
          "model_module_version": "1.5.0",
          "state": {
            "_dom_classes": [],
            "_model_module": "@jupyter-widgets/controls",
            "_model_module_version": "1.5.0",
            "_model_name": "HTMLModel",
            "_view_count": null,
            "_view_module": "@jupyter-widgets/controls",
            "_view_module_version": "1.5.0",
            "_view_name": "HTMLView",
            "description": "",
            "description_tooltip": null,
            "layout": "IPY_MODEL_080747548d0c46cc80a86836aef38e77",
            "placeholder": "​",
            "style": "IPY_MODEL_bb999e0556e6448c9004bbf0c2162d44",
            "value": " 3/3 [00:38&lt;00:00, 12.64s/it]"
          }
        },
        "cba4de486174432480833586feac59c8": {
          "model_module": "@jupyter-widgets/base",
          "model_name": "LayoutModel",
          "model_module_version": "1.2.0",
          "state": {
            "_model_module": "@jupyter-widgets/base",
            "_model_module_version": "1.2.0",
            "_model_name": "LayoutModel",
            "_view_count": null,
            "_view_module": "@jupyter-widgets/base",
            "_view_module_version": "1.2.0",
            "_view_name": "LayoutView",
            "align_content": null,
            "align_items": null,
            "align_self": null,
            "border": null,
            "bottom": null,
            "display": null,
            "flex": null,
            "flex_flow": null,
            "grid_area": null,
            "grid_auto_columns": null,
            "grid_auto_flow": null,
            "grid_auto_rows": null,
            "grid_column": null,
            "grid_gap": null,
            "grid_row": null,
            "grid_template_areas": null,
            "grid_template_columns": null,
            "grid_template_rows": null,
            "height": null,
            "justify_content": null,
            "justify_items": null,
            "left": null,
            "margin": null,
            "max_height": null,
            "max_width": null,
            "min_height": null,
            "min_width": null,
            "object_fit": null,
            "object_position": null,
            "order": null,
            "overflow": null,
            "overflow_x": null,
            "overflow_y": null,
            "padding": null,
            "right": null,
            "top": null,
            "visibility": null,
            "width": null
          }
        },
        "e5a68eefcfa74ea8bb41b01c022fe8a9": {
          "model_module": "@jupyter-widgets/base",
          "model_name": "LayoutModel",
          "model_module_version": "1.2.0",
          "state": {
            "_model_module": "@jupyter-widgets/base",
            "_model_module_version": "1.2.0",
            "_model_name": "LayoutModel",
            "_view_count": null,
            "_view_module": "@jupyter-widgets/base",
            "_view_module_version": "1.2.0",
            "_view_name": "LayoutView",
            "align_content": null,
            "align_items": null,
            "align_self": null,
            "border": null,
            "bottom": null,
            "display": null,
            "flex": null,
            "flex_flow": null,
            "grid_area": null,
            "grid_auto_columns": null,
            "grid_auto_flow": null,
            "grid_auto_rows": null,
            "grid_column": null,
            "grid_gap": null,
            "grid_row": null,
            "grid_template_areas": null,
            "grid_template_columns": null,
            "grid_template_rows": null,
            "height": null,
            "justify_content": null,
            "justify_items": null,
            "left": null,
            "margin": null,
            "max_height": null,
            "max_width": null,
            "min_height": null,
            "min_width": null,
            "object_fit": null,
            "object_position": null,
            "order": null,
            "overflow": null,
            "overflow_x": null,
            "overflow_y": null,
            "padding": null,
            "right": null,
            "top": null,
            "visibility": null,
            "width": null
          }
        },
        "877a2fb376df4ac198a78418f7811bbe": {
          "model_module": "@jupyter-widgets/controls",
          "model_name": "DescriptionStyleModel",
          "model_module_version": "1.5.0",
          "state": {
            "_model_module": "@jupyter-widgets/controls",
            "_model_module_version": "1.5.0",
            "_model_name": "DescriptionStyleModel",
            "_view_count": null,
            "_view_module": "@jupyter-widgets/base",
            "_view_module_version": "1.2.0",
            "_view_name": "StyleView",
            "description_width": ""
          }
        },
        "5312eb35555d4d2387cc4ac10c0eceb5": {
          "model_module": "@jupyter-widgets/base",
          "model_name": "LayoutModel",
          "model_module_version": "1.2.0",
          "state": {
            "_model_module": "@jupyter-widgets/base",
            "_model_module_version": "1.2.0",
            "_model_name": "LayoutModel",
            "_view_count": null,
            "_view_module": "@jupyter-widgets/base",
            "_view_module_version": "1.2.0",
            "_view_name": "LayoutView",
            "align_content": null,
            "align_items": null,
            "align_self": null,
            "border": null,
            "bottom": null,
            "display": null,
            "flex": null,
            "flex_flow": null,
            "grid_area": null,
            "grid_auto_columns": null,
            "grid_auto_flow": null,
            "grid_auto_rows": null,
            "grid_column": null,
            "grid_gap": null,
            "grid_row": null,
            "grid_template_areas": null,
            "grid_template_columns": null,
            "grid_template_rows": null,
            "height": null,
            "justify_content": null,
            "justify_items": null,
            "left": null,
            "margin": null,
            "max_height": null,
            "max_width": null,
            "min_height": null,
            "min_width": null,
            "object_fit": null,
            "object_position": null,
            "order": null,
            "overflow": null,
            "overflow_x": null,
            "overflow_y": null,
            "padding": null,
            "right": null,
            "top": null,
            "visibility": null,
            "width": null
          }
        },
        "6f753203c6494f2c92a4b0abd3499fcf": {
          "model_module": "@jupyter-widgets/controls",
          "model_name": "ProgressStyleModel",
          "model_module_version": "1.5.0",
          "state": {
            "_model_module": "@jupyter-widgets/controls",
            "_model_module_version": "1.5.0",
            "_model_name": "ProgressStyleModel",
            "_view_count": null,
            "_view_module": "@jupyter-widgets/base",
            "_view_module_version": "1.2.0",
            "_view_name": "StyleView",
            "bar_color": null,
            "description_width": ""
          }
        },
        "080747548d0c46cc80a86836aef38e77": {
          "model_module": "@jupyter-widgets/base",
          "model_name": "LayoutModel",
          "model_module_version": "1.2.0",
          "state": {
            "_model_module": "@jupyter-widgets/base",
            "_model_module_version": "1.2.0",
            "_model_name": "LayoutModel",
            "_view_count": null,
            "_view_module": "@jupyter-widgets/base",
            "_view_module_version": "1.2.0",
            "_view_name": "LayoutView",
            "align_content": null,
            "align_items": null,
            "align_self": null,
            "border": null,
            "bottom": null,
            "display": null,
            "flex": null,
            "flex_flow": null,
            "grid_area": null,
            "grid_auto_columns": null,
            "grid_auto_flow": null,
            "grid_auto_rows": null,
            "grid_column": null,
            "grid_gap": null,
            "grid_row": null,
            "grid_template_areas": null,
            "grid_template_columns": null,
            "grid_template_rows": null,
            "height": null,
            "justify_content": null,
            "justify_items": null,
            "left": null,
            "margin": null,
            "max_height": null,
            "max_width": null,
            "min_height": null,
            "min_width": null,
            "object_fit": null,
            "object_position": null,
            "order": null,
            "overflow": null,
            "overflow_x": null,
            "overflow_y": null,
            "padding": null,
            "right": null,
            "top": null,
            "visibility": null,
            "width": null
          }
        },
        "bb999e0556e6448c9004bbf0c2162d44": {
          "model_module": "@jupyter-widgets/controls",
          "model_name": "DescriptionStyleModel",
          "model_module_version": "1.5.0",
          "state": {
            "_model_module": "@jupyter-widgets/controls",
            "_model_module_version": "1.5.0",
            "_model_name": "DescriptionStyleModel",
            "_view_count": null,
            "_view_module": "@jupyter-widgets/base",
            "_view_module_version": "1.2.0",
            "_view_name": "StyleView",
            "description_width": ""
          }
        },
        "c3b6bcb945ea4eb890689e80c75788df": {
          "model_module": "@jupyter-widgets/controls",
          "model_name": "HBoxModel",
          "model_module_version": "1.5.0",
          "state": {
            "_dom_classes": [],
            "_model_module": "@jupyter-widgets/controls",
            "_model_module_version": "1.5.0",
            "_model_name": "HBoxModel",
            "_view_count": null,
            "_view_module": "@jupyter-widgets/controls",
            "_view_module_version": "1.5.0",
            "_view_name": "HBoxView",
            "box_style": "",
            "children": [
              "IPY_MODEL_4bff6dfcd97e406481787951543a43b0",
              "IPY_MODEL_41f04b3ae2174582ad6aa89022393b13",
              "IPY_MODEL_0ed1376d6c5c4c56985c3a06f711459d"
            ],
            "layout": "IPY_MODEL_6b80584d09ba42d1af3d0879042b2db9"
          }
        },
        "4bff6dfcd97e406481787951543a43b0": {
          "model_module": "@jupyter-widgets/controls",
          "model_name": "HTMLModel",
          "model_module_version": "1.5.0",
          "state": {
            "_dom_classes": [],
            "_model_module": "@jupyter-widgets/controls",
            "_model_module_version": "1.5.0",
            "_model_name": "HTMLModel",
            "_view_count": null,
            "_view_module": "@jupyter-widgets/controls",
            "_view_module_version": "1.5.0",
            "_view_name": "HTMLView",
            "description": "",
            "description_tooltip": null,
            "layout": "IPY_MODEL_52b7d8d1c17d494abf207aed429ddbad",
            "placeholder": "​",
            "style": "IPY_MODEL_709c1b029fc444998060fe8ba357e30b",
            "value": "Making predictions: 100%"
          }
        },
        "41f04b3ae2174582ad6aa89022393b13": {
          "model_module": "@jupyter-widgets/controls",
          "model_name": "FloatProgressModel",
          "model_module_version": "1.5.0",
          "state": {
            "_dom_classes": [],
            "_model_module": "@jupyter-widgets/controls",
            "_model_module_version": "1.5.0",
            "_model_name": "FloatProgressModel",
            "_view_count": null,
            "_view_module": "@jupyter-widgets/controls",
            "_view_module_version": "1.5.0",
            "_view_name": "ProgressView",
            "bar_style": "success",
            "description": "",
            "description_tooltip": null,
            "layout": "IPY_MODEL_c5f7ebc3de0f459b97ee70d45c8e32eb",
            "max": 313,
            "min": 0,
            "orientation": "horizontal",
            "style": "IPY_MODEL_557d28d977d947d29896efddd1f8c7f6",
            "value": 313
          }
        },
        "0ed1376d6c5c4c56985c3a06f711459d": {
          "model_module": "@jupyter-widgets/controls",
          "model_name": "HTMLModel",
          "model_module_version": "1.5.0",
          "state": {
            "_dom_classes": [],
            "_model_module": "@jupyter-widgets/controls",
            "_model_module_version": "1.5.0",
            "_model_name": "HTMLModel",
            "_view_count": null,
            "_view_module": "@jupyter-widgets/controls",
            "_view_module_version": "1.5.0",
            "_view_name": "HTMLView",
            "description": "",
            "description_tooltip": null,
            "layout": "IPY_MODEL_b9e0b1fa0f3548cd9c1308d0c900dd13",
            "placeholder": "​",
            "style": "IPY_MODEL_4412936e1bd0416aa5565d9cd519f023",
            "value": " 313/313 [00:01&lt;00:00, 245.54it/s]"
          }
        },
        "6b80584d09ba42d1af3d0879042b2db9": {
          "model_module": "@jupyter-widgets/base",
          "model_name": "LayoutModel",
          "model_module_version": "1.2.0",
          "state": {
            "_model_module": "@jupyter-widgets/base",
            "_model_module_version": "1.2.0",
            "_model_name": "LayoutModel",
            "_view_count": null,
            "_view_module": "@jupyter-widgets/base",
            "_view_module_version": "1.2.0",
            "_view_name": "LayoutView",
            "align_content": null,
            "align_items": null,
            "align_self": null,
            "border": null,
            "bottom": null,
            "display": null,
            "flex": null,
            "flex_flow": null,
            "grid_area": null,
            "grid_auto_columns": null,
            "grid_auto_flow": null,
            "grid_auto_rows": null,
            "grid_column": null,
            "grid_gap": null,
            "grid_row": null,
            "grid_template_areas": null,
            "grid_template_columns": null,
            "grid_template_rows": null,
            "height": null,
            "justify_content": null,
            "justify_items": null,
            "left": null,
            "margin": null,
            "max_height": null,
            "max_width": null,
            "min_height": null,
            "min_width": null,
            "object_fit": null,
            "object_position": null,
            "order": null,
            "overflow": null,
            "overflow_x": null,
            "overflow_y": null,
            "padding": null,
            "right": null,
            "top": null,
            "visibility": null,
            "width": null
          }
        },
        "52b7d8d1c17d494abf207aed429ddbad": {
          "model_module": "@jupyter-widgets/base",
          "model_name": "LayoutModel",
          "model_module_version": "1.2.0",
          "state": {
            "_model_module": "@jupyter-widgets/base",
            "_model_module_version": "1.2.0",
            "_model_name": "LayoutModel",
            "_view_count": null,
            "_view_module": "@jupyter-widgets/base",
            "_view_module_version": "1.2.0",
            "_view_name": "LayoutView",
            "align_content": null,
            "align_items": null,
            "align_self": null,
            "border": null,
            "bottom": null,
            "display": null,
            "flex": null,
            "flex_flow": null,
            "grid_area": null,
            "grid_auto_columns": null,
            "grid_auto_flow": null,
            "grid_auto_rows": null,
            "grid_column": null,
            "grid_gap": null,
            "grid_row": null,
            "grid_template_areas": null,
            "grid_template_columns": null,
            "grid_template_rows": null,
            "height": null,
            "justify_content": null,
            "justify_items": null,
            "left": null,
            "margin": null,
            "max_height": null,
            "max_width": null,
            "min_height": null,
            "min_width": null,
            "object_fit": null,
            "object_position": null,
            "order": null,
            "overflow": null,
            "overflow_x": null,
            "overflow_y": null,
            "padding": null,
            "right": null,
            "top": null,
            "visibility": null,
            "width": null
          }
        },
        "709c1b029fc444998060fe8ba357e30b": {
          "model_module": "@jupyter-widgets/controls",
          "model_name": "DescriptionStyleModel",
          "model_module_version": "1.5.0",
          "state": {
            "_model_module": "@jupyter-widgets/controls",
            "_model_module_version": "1.5.0",
            "_model_name": "DescriptionStyleModel",
            "_view_count": null,
            "_view_module": "@jupyter-widgets/base",
            "_view_module_version": "1.2.0",
            "_view_name": "StyleView",
            "description_width": ""
          }
        },
        "c5f7ebc3de0f459b97ee70d45c8e32eb": {
          "model_module": "@jupyter-widgets/base",
          "model_name": "LayoutModel",
          "model_module_version": "1.2.0",
          "state": {
            "_model_module": "@jupyter-widgets/base",
            "_model_module_version": "1.2.0",
            "_model_name": "LayoutModel",
            "_view_count": null,
            "_view_module": "@jupyter-widgets/base",
            "_view_module_version": "1.2.0",
            "_view_name": "LayoutView",
            "align_content": null,
            "align_items": null,
            "align_self": null,
            "border": null,
            "bottom": null,
            "display": null,
            "flex": null,
            "flex_flow": null,
            "grid_area": null,
            "grid_auto_columns": null,
            "grid_auto_flow": null,
            "grid_auto_rows": null,
            "grid_column": null,
            "grid_gap": null,
            "grid_row": null,
            "grid_template_areas": null,
            "grid_template_columns": null,
            "grid_template_rows": null,
            "height": null,
            "justify_content": null,
            "justify_items": null,
            "left": null,
            "margin": null,
            "max_height": null,
            "max_width": null,
            "min_height": null,
            "min_width": null,
            "object_fit": null,
            "object_position": null,
            "order": null,
            "overflow": null,
            "overflow_x": null,
            "overflow_y": null,
            "padding": null,
            "right": null,
            "top": null,
            "visibility": null,
            "width": null
          }
        },
        "557d28d977d947d29896efddd1f8c7f6": {
          "model_module": "@jupyter-widgets/controls",
          "model_name": "ProgressStyleModel",
          "model_module_version": "1.5.0",
          "state": {
            "_model_module": "@jupyter-widgets/controls",
            "_model_module_version": "1.5.0",
            "_model_name": "ProgressStyleModel",
            "_view_count": null,
            "_view_module": "@jupyter-widgets/base",
            "_view_module_version": "1.2.0",
            "_view_name": "StyleView",
            "bar_color": null,
            "description_width": ""
          }
        },
        "b9e0b1fa0f3548cd9c1308d0c900dd13": {
          "model_module": "@jupyter-widgets/base",
          "model_name": "LayoutModel",
          "model_module_version": "1.2.0",
          "state": {
            "_model_module": "@jupyter-widgets/base",
            "_model_module_version": "1.2.0",
            "_model_name": "LayoutModel",
            "_view_count": null,
            "_view_module": "@jupyter-widgets/base",
            "_view_module_version": "1.2.0",
            "_view_name": "LayoutView",
            "align_content": null,
            "align_items": null,
            "align_self": null,
            "border": null,
            "bottom": null,
            "display": null,
            "flex": null,
            "flex_flow": null,
            "grid_area": null,
            "grid_auto_columns": null,
            "grid_auto_flow": null,
            "grid_auto_rows": null,
            "grid_column": null,
            "grid_gap": null,
            "grid_row": null,
            "grid_template_areas": null,
            "grid_template_columns": null,
            "grid_template_rows": null,
            "height": null,
            "justify_content": null,
            "justify_items": null,
            "left": null,
            "margin": null,
            "max_height": null,
            "max_width": null,
            "min_height": null,
            "min_width": null,
            "object_fit": null,
            "object_position": null,
            "order": null,
            "overflow": null,
            "overflow_x": null,
            "overflow_y": null,
            "padding": null,
            "right": null,
            "top": null,
            "visibility": null,
            "width": null
          }
        },
        "4412936e1bd0416aa5565d9cd519f023": {
          "model_module": "@jupyter-widgets/controls",
          "model_name": "DescriptionStyleModel",
          "model_module_version": "1.5.0",
          "state": {
            "_model_module": "@jupyter-widgets/controls",
            "_model_module_version": "1.5.0",
            "_model_name": "DescriptionStyleModel",
            "_view_count": null,
            "_view_module": "@jupyter-widgets/base",
            "_view_module_version": "1.2.0",
            "_view_name": "StyleView",
            "description_width": ""
          }
        }
      }
    }
  },
  "nbformat": 4,
  "nbformat_minor": 5
}
