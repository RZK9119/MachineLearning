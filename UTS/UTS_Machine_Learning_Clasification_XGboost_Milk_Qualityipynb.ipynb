{
  "nbformat": 4,
  "nbformat_minor": 0,
  "metadata": {
    "colab": {
      "provenance": []
    },
    "kernelspec": {
      "name": "python3",
      "display_name": "Python 3"
    },
    "language_info": {
      "name": "python"
    }
  },
  "cells": [
    {
      "cell_type": "markdown",
      "source": [
        "# **UTS Machine Learning_Clasification XGboost_Milk Quality**\n",
        "Nama: Rizki Hidayat\n",
        "\n",
        "NIM: 1103202131\n",
        "\n",
        "Dataset: [*Milk Quality*](https://www.kaggle.com/datasets/cpluzshrijayan/milkquality/)\n",
        "\n",
        "Model: Clasification XGBoost"
      ],
      "metadata": {
        "id": "Q3SMSuBO36yn"
      }
    },
    {
      "cell_type": "markdown",
      "source": [
        "**XGBoost (Extreme Gradient Boosting)** adalah algoritma penguatan gradien yang sangat efisien dan populer untuk tugas klasifikasi, regresi, dan perankingan. Dengan menggabungkan sejumlah besar model lemah menjadi model yang kuat, XGBoost mengatasi masalah overfitting melalui regularisasi dan menyediakan penanganan otomatis untuk nilai yang hilang. Kecepatan dan paralelisme dirancang untuk menangani data yang besar, sementara kemampuan interpretasi tetap dipertahankan. XGBoost juga memperkenalkan inovasi seperti penanganan kelas tidak seimbang dan fitur kategori. Penggunaannya relatif mudah dengan sintaksis dan parameter-parameter yang dapat disesuaikan memungkinkan pengoptimalan kinerja model."
      ],
      "metadata": {
        "id": "Lzfztu9-lojD"
      }
    },
    {
      "cell_type": "markdown",
      "source": [
        "## Load dataset dari GDrive\n",
        "Promp ChatGPT:\n",
        "berikan code untuk membaca dataset google drive dengan path \"/content/drive/MyDrive/Dataset/MilkQuality.csv\" di google colab"
      ],
      "metadata": {
        "id": "JMCIRC_C437H"
      }
    },
    {
      "cell_type": "code",
      "source": [
        "# Menghubungkan Google Drive ke Google Colab\n",
        "from google.colab import drive\n",
        "drive.mount('/content/drive')"
      ],
      "metadata": {
        "colab": {
          "base_uri": "https://localhost:8080/"
        },
        "id": "n66-hbzk3yZh",
        "outputId": "04638cdb-c239-42ed-bd9a-886dcc4118ee"
      },
      "execution_count": 205,
      "outputs": [
        {
          "output_type": "stream",
          "name": "stdout",
          "text": [
            "Drive already mounted at /content/drive; to attempt to forcibly remount, call drive.mount(\"/content/drive\", force_remount=True).\n"
          ]
        }
      ]
    },
    {
      "cell_type": "code",
      "source": [
        "# import library\n",
        "import pandas as pd\n",
        "import matplotlib.pyplot as plt\n",
        "import seaborn as sns\n",
        "from sklearn.model_selection import train_test_split\n",
        "from xgboost import XGBClassifier\n",
        "from sklearn.metrics import mean_absolute_error, accuracy_score, classification_report"
      ],
      "metadata": {
        "id": "Zb7AZrQrP5Vu"
      },
      "execution_count": 49,
      "outputs": []
    },
    {
      "cell_type": "code",
      "execution_count": 52,
      "metadata": {
        "colab": {
          "base_uri": "https://localhost:8080/",
          "height": 424
        },
        "id": "mTHYHExS2VyY",
        "outputId": "c2a1a3c4-dae5-4ea7-9043-05b4018c4c9b"
      },
      "outputs": [
        {
          "output_type": "execute_result",
          "data": {
            "text/plain": [
              "       pH  Temprature  Taste  Odor  Fatty   Turbidity  Colour   Grade\n",
              "0     6.6          35      1     0       1          0     254    high\n",
              "1     6.6          36      0     1       0          1     253    high\n",
              "2     8.5          70      1     1       1          1     246     low\n",
              "3     9.5          34      1     1       0          1     255     low\n",
              "4     6.6          37      0     0       0          0     255  medium\n",
              "...   ...         ...    ...   ...     ...        ...     ...     ...\n",
              "1054  6.7          45      1     1       0          0     247  medium\n",
              "1055  6.7          38      1     0       1          0     255    high\n",
              "1056  3.0          40      1     1       1          1     255     low\n",
              "1057  6.8          43      1     0       1          0     250    high\n",
              "1058  8.6          55      0     1       1          1     255     low\n",
              "\n",
              "[1059 rows x 8 columns]"
            ],
            "text/html": [
              "\n",
              "  <div id=\"df-50d0a9c8-5aa0-4749-8993-90abb850aea9\" class=\"colab-df-container\">\n",
              "    <div>\n",
              "<style scoped>\n",
              "    .dataframe tbody tr th:only-of-type {\n",
              "        vertical-align: middle;\n",
              "    }\n",
              "\n",
              "    .dataframe tbody tr th {\n",
              "        vertical-align: top;\n",
              "    }\n",
              "\n",
              "    .dataframe thead th {\n",
              "        text-align: right;\n",
              "    }\n",
              "</style>\n",
              "<table border=\"1\" class=\"dataframe\">\n",
              "  <thead>\n",
              "    <tr style=\"text-align: right;\">\n",
              "      <th></th>\n",
              "      <th>pH</th>\n",
              "      <th>Temprature</th>\n",
              "      <th>Taste</th>\n",
              "      <th>Odor</th>\n",
              "      <th>Fatty</th>\n",
              "      <th>Turbidity</th>\n",
              "      <th>Colour</th>\n",
              "      <th>Grade</th>\n",
              "    </tr>\n",
              "  </thead>\n",
              "  <tbody>\n",
              "    <tr>\n",
              "      <th>0</th>\n",
              "      <td>6.6</td>\n",
              "      <td>35</td>\n",
              "      <td>1</td>\n",
              "      <td>0</td>\n",
              "      <td>1</td>\n",
              "      <td>0</td>\n",
              "      <td>254</td>\n",
              "      <td>high</td>\n",
              "    </tr>\n",
              "    <tr>\n",
              "      <th>1</th>\n",
              "      <td>6.6</td>\n",
              "      <td>36</td>\n",
              "      <td>0</td>\n",
              "      <td>1</td>\n",
              "      <td>0</td>\n",
              "      <td>1</td>\n",
              "      <td>253</td>\n",
              "      <td>high</td>\n",
              "    </tr>\n",
              "    <tr>\n",
              "      <th>2</th>\n",
              "      <td>8.5</td>\n",
              "      <td>70</td>\n",
              "      <td>1</td>\n",
              "      <td>1</td>\n",
              "      <td>1</td>\n",
              "      <td>1</td>\n",
              "      <td>246</td>\n",
              "      <td>low</td>\n",
              "    </tr>\n",
              "    <tr>\n",
              "      <th>3</th>\n",
              "      <td>9.5</td>\n",
              "      <td>34</td>\n",
              "      <td>1</td>\n",
              "      <td>1</td>\n",
              "      <td>0</td>\n",
              "      <td>1</td>\n",
              "      <td>255</td>\n",
              "      <td>low</td>\n",
              "    </tr>\n",
              "    <tr>\n",
              "      <th>4</th>\n",
              "      <td>6.6</td>\n",
              "      <td>37</td>\n",
              "      <td>0</td>\n",
              "      <td>0</td>\n",
              "      <td>0</td>\n",
              "      <td>0</td>\n",
              "      <td>255</td>\n",
              "      <td>medium</td>\n",
              "    </tr>\n",
              "    <tr>\n",
              "      <th>...</th>\n",
              "      <td>...</td>\n",
              "      <td>...</td>\n",
              "      <td>...</td>\n",
              "      <td>...</td>\n",
              "      <td>...</td>\n",
              "      <td>...</td>\n",
              "      <td>...</td>\n",
              "      <td>...</td>\n",
              "    </tr>\n",
              "    <tr>\n",
              "      <th>1054</th>\n",
              "      <td>6.7</td>\n",
              "      <td>45</td>\n",
              "      <td>1</td>\n",
              "      <td>1</td>\n",
              "      <td>0</td>\n",
              "      <td>0</td>\n",
              "      <td>247</td>\n",
              "      <td>medium</td>\n",
              "    </tr>\n",
              "    <tr>\n",
              "      <th>1055</th>\n",
              "      <td>6.7</td>\n",
              "      <td>38</td>\n",
              "      <td>1</td>\n",
              "      <td>0</td>\n",
              "      <td>1</td>\n",
              "      <td>0</td>\n",
              "      <td>255</td>\n",
              "      <td>high</td>\n",
              "    </tr>\n",
              "    <tr>\n",
              "      <th>1056</th>\n",
              "      <td>3.0</td>\n",
              "      <td>40</td>\n",
              "      <td>1</td>\n",
              "      <td>1</td>\n",
              "      <td>1</td>\n",
              "      <td>1</td>\n",
              "      <td>255</td>\n",
              "      <td>low</td>\n",
              "    </tr>\n",
              "    <tr>\n",
              "      <th>1057</th>\n",
              "      <td>6.8</td>\n",
              "      <td>43</td>\n",
              "      <td>1</td>\n",
              "      <td>0</td>\n",
              "      <td>1</td>\n",
              "      <td>0</td>\n",
              "      <td>250</td>\n",
              "      <td>high</td>\n",
              "    </tr>\n",
              "    <tr>\n",
              "      <th>1058</th>\n",
              "      <td>8.6</td>\n",
              "      <td>55</td>\n",
              "      <td>0</td>\n",
              "      <td>1</td>\n",
              "      <td>1</td>\n",
              "      <td>1</td>\n",
              "      <td>255</td>\n",
              "      <td>low</td>\n",
              "    </tr>\n",
              "  </tbody>\n",
              "</table>\n",
              "<p>1059 rows × 8 columns</p>\n",
              "</div>\n",
              "    <div class=\"colab-df-buttons\">\n",
              "\n",
              "  <div class=\"colab-df-container\">\n",
              "    <button class=\"colab-df-convert\" onclick=\"convertToInteractive('df-50d0a9c8-5aa0-4749-8993-90abb850aea9')\"\n",
              "            title=\"Convert this dataframe to an interactive table.\"\n",
              "            style=\"display:none;\">\n",
              "\n",
              "  <svg xmlns=\"http://www.w3.org/2000/svg\" height=\"24px\" viewBox=\"0 -960 960 960\">\n",
              "    <path d=\"M120-120v-720h720v720H120Zm60-500h600v-160H180v160Zm220 220h160v-160H400v160Zm0 220h160v-160H400v160ZM180-400h160v-160H180v160Zm440 0h160v-160H620v160ZM180-180h160v-160H180v160Zm440 0h160v-160H620v160Z\"/>\n",
              "  </svg>\n",
              "    </button>\n",
              "\n",
              "  <style>\n",
              "    .colab-df-container {\n",
              "      display:flex;\n",
              "      gap: 12px;\n",
              "    }\n",
              "\n",
              "    .colab-df-convert {\n",
              "      background-color: #E8F0FE;\n",
              "      border: none;\n",
              "      border-radius: 50%;\n",
              "      cursor: pointer;\n",
              "      display: none;\n",
              "      fill: #1967D2;\n",
              "      height: 32px;\n",
              "      padding: 0 0 0 0;\n",
              "      width: 32px;\n",
              "    }\n",
              "\n",
              "    .colab-df-convert:hover {\n",
              "      background-color: #E2EBFA;\n",
              "      box-shadow: 0px 1px 2px rgba(60, 64, 67, 0.3), 0px 1px 3px 1px rgba(60, 64, 67, 0.15);\n",
              "      fill: #174EA6;\n",
              "    }\n",
              "\n",
              "    .colab-df-buttons div {\n",
              "      margin-bottom: 4px;\n",
              "    }\n",
              "\n",
              "    [theme=dark] .colab-df-convert {\n",
              "      background-color: #3B4455;\n",
              "      fill: #D2E3FC;\n",
              "    }\n",
              "\n",
              "    [theme=dark] .colab-df-convert:hover {\n",
              "      background-color: #434B5C;\n",
              "      box-shadow: 0px 1px 3px 1px rgba(0, 0, 0, 0.15);\n",
              "      filter: drop-shadow(0px 1px 2px rgba(0, 0, 0, 0.3));\n",
              "      fill: #FFFFFF;\n",
              "    }\n",
              "  </style>\n",
              "\n",
              "    <script>\n",
              "      const buttonEl =\n",
              "        document.querySelector('#df-50d0a9c8-5aa0-4749-8993-90abb850aea9 button.colab-df-convert');\n",
              "      buttonEl.style.display =\n",
              "        google.colab.kernel.accessAllowed ? 'block' : 'none';\n",
              "\n",
              "      async function convertToInteractive(key) {\n",
              "        const element = document.querySelector('#df-50d0a9c8-5aa0-4749-8993-90abb850aea9');\n",
              "        const dataTable =\n",
              "          await google.colab.kernel.invokeFunction('convertToInteractive',\n",
              "                                                    [key], {});\n",
              "        if (!dataTable) return;\n",
              "\n",
              "        const docLinkHtml = 'Like what you see? Visit the ' +\n",
              "          '<a target=\"_blank\" href=https://colab.research.google.com/notebooks/data_table.ipynb>data table notebook</a>'\n",
              "          + ' to learn more about interactive tables.';\n",
              "        element.innerHTML = '';\n",
              "        dataTable['output_type'] = 'display_data';\n",
              "        await google.colab.output.renderOutput(dataTable, element);\n",
              "        const docLink = document.createElement('div');\n",
              "        docLink.innerHTML = docLinkHtml;\n",
              "        element.appendChild(docLink);\n",
              "      }\n",
              "    </script>\n",
              "  </div>\n",
              "\n",
              "\n",
              "<div id=\"df-2111d608-efa5-418f-b98a-afa8e61c5d37\">\n",
              "  <button class=\"colab-df-quickchart\" onclick=\"quickchart('df-2111d608-efa5-418f-b98a-afa8e61c5d37')\"\n",
              "            title=\"Suggest charts\"\n",
              "            style=\"display:none;\">\n",
              "\n",
              "<svg xmlns=\"http://www.w3.org/2000/svg\" height=\"24px\"viewBox=\"0 0 24 24\"\n",
              "     width=\"24px\">\n",
              "    <g>\n",
              "        <path d=\"M19 3H5c-1.1 0-2 .9-2 2v14c0 1.1.9 2 2 2h14c1.1 0 2-.9 2-2V5c0-1.1-.9-2-2-2zM9 17H7v-7h2v7zm4 0h-2V7h2v10zm4 0h-2v-4h2v4z\"/>\n",
              "    </g>\n",
              "</svg>\n",
              "  </button>\n",
              "\n",
              "<style>\n",
              "  .colab-df-quickchart {\n",
              "      --bg-color: #E8F0FE;\n",
              "      --fill-color: #1967D2;\n",
              "      --hover-bg-color: #E2EBFA;\n",
              "      --hover-fill-color: #174EA6;\n",
              "      --disabled-fill-color: #AAA;\n",
              "      --disabled-bg-color: #DDD;\n",
              "  }\n",
              "\n",
              "  [theme=dark] .colab-df-quickchart {\n",
              "      --bg-color: #3B4455;\n",
              "      --fill-color: #D2E3FC;\n",
              "      --hover-bg-color: #434B5C;\n",
              "      --hover-fill-color: #FFFFFF;\n",
              "      --disabled-bg-color: #3B4455;\n",
              "      --disabled-fill-color: #666;\n",
              "  }\n",
              "\n",
              "  .colab-df-quickchart {\n",
              "    background-color: var(--bg-color);\n",
              "    border: none;\n",
              "    border-radius: 50%;\n",
              "    cursor: pointer;\n",
              "    display: none;\n",
              "    fill: var(--fill-color);\n",
              "    height: 32px;\n",
              "    padding: 0;\n",
              "    width: 32px;\n",
              "  }\n",
              "\n",
              "  .colab-df-quickchart:hover {\n",
              "    background-color: var(--hover-bg-color);\n",
              "    box-shadow: 0 1px 2px rgba(60, 64, 67, 0.3), 0 1px 3px 1px rgba(60, 64, 67, 0.15);\n",
              "    fill: var(--button-hover-fill-color);\n",
              "  }\n",
              "\n",
              "  .colab-df-quickchart-complete:disabled,\n",
              "  .colab-df-quickchart-complete:disabled:hover {\n",
              "    background-color: var(--disabled-bg-color);\n",
              "    fill: var(--disabled-fill-color);\n",
              "    box-shadow: none;\n",
              "  }\n",
              "\n",
              "  .colab-df-spinner {\n",
              "    border: 2px solid var(--fill-color);\n",
              "    border-color: transparent;\n",
              "    border-bottom-color: var(--fill-color);\n",
              "    animation:\n",
              "      spin 1s steps(1) infinite;\n",
              "  }\n",
              "\n",
              "  @keyframes spin {\n",
              "    0% {\n",
              "      border-color: transparent;\n",
              "      border-bottom-color: var(--fill-color);\n",
              "      border-left-color: var(--fill-color);\n",
              "    }\n",
              "    20% {\n",
              "      border-color: transparent;\n",
              "      border-left-color: var(--fill-color);\n",
              "      border-top-color: var(--fill-color);\n",
              "    }\n",
              "    30% {\n",
              "      border-color: transparent;\n",
              "      border-left-color: var(--fill-color);\n",
              "      border-top-color: var(--fill-color);\n",
              "      border-right-color: var(--fill-color);\n",
              "    }\n",
              "    40% {\n",
              "      border-color: transparent;\n",
              "      border-right-color: var(--fill-color);\n",
              "      border-top-color: var(--fill-color);\n",
              "    }\n",
              "    60% {\n",
              "      border-color: transparent;\n",
              "      border-right-color: var(--fill-color);\n",
              "    }\n",
              "    80% {\n",
              "      border-color: transparent;\n",
              "      border-right-color: var(--fill-color);\n",
              "      border-bottom-color: var(--fill-color);\n",
              "    }\n",
              "    90% {\n",
              "      border-color: transparent;\n",
              "      border-bottom-color: var(--fill-color);\n",
              "    }\n",
              "  }\n",
              "</style>\n",
              "\n",
              "  <script>\n",
              "    async function quickchart(key) {\n",
              "      const quickchartButtonEl =\n",
              "        document.querySelector('#' + key + ' button');\n",
              "      quickchartButtonEl.disabled = true;  // To prevent multiple clicks.\n",
              "      quickchartButtonEl.classList.add('colab-df-spinner');\n",
              "      try {\n",
              "        const charts = await google.colab.kernel.invokeFunction(\n",
              "            'suggestCharts', [key], {});\n",
              "      } catch (error) {\n",
              "        console.error('Error during call to suggestCharts:', error);\n",
              "      }\n",
              "      quickchartButtonEl.classList.remove('colab-df-spinner');\n",
              "      quickchartButtonEl.classList.add('colab-df-quickchart-complete');\n",
              "    }\n",
              "    (() => {\n",
              "      let quickchartButtonEl =\n",
              "        document.querySelector('#df-2111d608-efa5-418f-b98a-afa8e61c5d37 button');\n",
              "      quickchartButtonEl.style.display =\n",
              "        google.colab.kernel.accessAllowed ? 'block' : 'none';\n",
              "    })();\n",
              "  </script>\n",
              "</div>\n",
              "    </div>\n",
              "  </div>\n"
            ]
          },
          "metadata": {},
          "execution_count": 52
        }
      ],
      "source": [
        "\n",
        "# Path ke file CSV di Google Drive\n",
        "file_path = \"/content/drive/MyDrive/Dataset/MilkQuality.csv\"\n",
        "\n",
        "# Membaca file CSV menjadi DataFrame menggunakan Pandas\n",
        "df = pd.read_csv(file_path)\n",
        "df"
      ]
    },
    {
      "cell_type": "markdown",
      "source": [
        "Dari data frame diatas kita tahu data kita memiliki 1059 baris dan 8 kolom"
      ],
      "metadata": {
        "id": "kAzgWBgWCcJq"
      }
    },
    {
      "cell_type": "markdown",
      "source": [
        "## EDA (Exploratory Data Analysis)\n",
        "\n",
        "Promp ChatGPT:Jelaskan pengertian EDA dan berikan langkah langkah EDA untuk dataset\n",
        "\n",
        "---\n",
        "Exploratory Data Analysis (EDA) adalah proses analisis awal yang dilakukan pada dataset untuk memahami karakteristik, pola, dan hubungan antar variabel."
      ],
      "metadata": {
        "id": "Qn6Q5UkpAa2t"
      }
    },
    {
      "cell_type": "code",
      "source": [
        "# Menampilkan 7 data pertama dari DataFrame\n",
        "print(df.head())"
      ],
      "metadata": {
        "colab": {
          "base_uri": "https://localhost:8080/"
        },
        "id": "DIEkHAwFAZ2g",
        "outputId": "40203213-b379-4e45-9995-6d8a6b06cc65"
      },
      "execution_count": 211,
      "outputs": [
        {
          "output_type": "stream",
          "name": "stdout",
          "text": [
            "    pH  Temprature  Taste  Odor  Fatty   Turbidity  Colour  Grade\n",
            "0  6.6          35      1     0       1          0     254      0\n",
            "1  6.6          36      0     1       0          1     253      0\n",
            "2  8.5          70      1     1       1          1     246      1\n",
            "3  9.5          34      1     1       0          1     255      1\n",
            "4  6.6          37      0     0       0          0     255      2\n"
          ]
        }
      ]
    },
    {
      "cell_type": "code",
      "source": [
        "#Menampilkan informasi umum dataset\n",
        "df.info()"
      ],
      "metadata": {
        "colab": {
          "base_uri": "https://localhost:8080/"
        },
        "id": "Fr67i-z3DFxD",
        "outputId": "380f1248-7132-496d-b483-c1c11d036f9f"
      },
      "execution_count": 212,
      "outputs": [
        {
          "output_type": "stream",
          "name": "stdout",
          "text": [
            "<class 'pandas.core.frame.DataFrame'>\n",
            "RangeIndex: 1059 entries, 0 to 1058\n",
            "Data columns (total 8 columns):\n",
            " #   Column      Non-Null Count  Dtype  \n",
            "---  ------      --------------  -----  \n",
            " 0   pH          1059 non-null   float64\n",
            " 1   Temprature  1059 non-null   int64  \n",
            " 2   Taste       1059 non-null   int64  \n",
            " 3   Odor        1059 non-null   int64  \n",
            " 4   Fatty       1059 non-null   int64  \n",
            " 5   Turbidity   1059 non-null   int64  \n",
            " 6   Colour      1059 non-null   int64  \n",
            " 7   Grade       1059 non-null   int64  \n",
            "dtypes: float64(1), int64(7)\n",
            "memory usage: 66.3 KB\n"
          ]
        }
      ]
    },
    {
      "cell_type": "markdown",
      "source": [
        "Dari informasi dataset diatas kita mengetahui dari 8 kolom, dan setiap kolomnya memiliki 1059 data non-null (tidak kosong) alias semua data terisi. Dan dari informasi diatas kita mengetahui kita memiliki 1 data tipe float, 6 data tipe interger, dan 1 data tipe object"
      ],
      "metadata": {
        "id": "Aq0r8RxyDzAt"
      }
    },
    {
      "cell_type": "code",
      "source": [
        "#menampilkan statistik dari dataset yang digunakan\n",
        "print(df.describe())"
      ],
      "metadata": {
        "colab": {
          "base_uri": "https://localhost:8080/"
        },
        "id": "dE10gyK6Gwsb",
        "outputId": "795f7f0a-1f61-41d1-c63b-6bbf2ff5a117"
      },
      "execution_count": 213,
      "outputs": [
        {
          "output_type": "stream",
          "name": "stdout",
          "text": [
            "                pH   Temprature        Taste         Odor       Fatty   \\\n",
            "count  1059.000000  1059.000000  1059.000000  1059.000000  1059.000000   \n",
            "mean      6.630123    44.226629     0.546742     0.432483     0.671388   \n",
            "std       1.399679    10.098364     0.498046     0.495655     0.469930   \n",
            "min       3.000000    34.000000     0.000000     0.000000     0.000000   \n",
            "25%       6.500000    38.000000     0.000000     0.000000     0.000000   \n",
            "50%       6.700000    41.000000     1.000000     0.000000     1.000000   \n",
            "75%       6.800000    45.000000     1.000000     1.000000     1.000000   \n",
            "max       9.500000    90.000000     1.000000     1.000000     1.000000   \n",
            "\n",
            "         Turbidity       Colour        Grade  \n",
            "count  1059.000000  1059.000000  1059.000000  \n",
            "mean      0.491029   251.840415     1.111426  \n",
            "std       0.500156     4.307424     0.763568  \n",
            "min       0.000000   240.000000     0.000000  \n",
            "25%       0.000000   250.000000     1.000000  \n",
            "50%       0.000000   255.000000     1.000000  \n",
            "75%       1.000000   255.000000     2.000000  \n",
            "max       1.000000   255.000000     2.000000  \n"
          ]
        }
      ]
    },
    {
      "cell_type": "markdown",
      "source": [
        "Keterangan:\n",
        "\n",
        "Count = Jumlah yang diamati\n",
        "\n",
        "mean = Rata-rata\n",
        "\n",
        "std = standar deviasi\n",
        "\n",
        "min = nilai minimum\n",
        "\n",
        "25% = kuartil bawah / Q1  \n",
        "\n",
        "50% = median / Q2\n",
        "\n",
        "75% = kuartil atas / Q3\n",
        "\n",
        "max = nilai maksimum"
      ],
      "metadata": {
        "id": "gqoRJtMoHqTP"
      }
    },
    {
      "cell_type": "code",
      "source": [
        "# Menampilkan jumlah nilai yang hilang pada setiap kolom\n",
        "df.isnull().sum()"
      ],
      "metadata": {
        "colab": {
          "base_uri": "https://localhost:8080/"
        },
        "id": "OSa3UalhHquP",
        "outputId": "2bccf96f-484e-4fe9-ebaf-4ac161c0a0f5"
      },
      "execution_count": 214,
      "outputs": [
        {
          "output_type": "execute_result",
          "data": {
            "text/plain": [
              "pH            0\n",
              "Temprature    0\n",
              "Taste         0\n",
              "Odor          0\n",
              "Fatty         0\n",
              "Turbidity     0\n",
              "Colour        0\n",
              "Grade         0\n",
              "dtype: int64"
            ]
          },
          "metadata": {},
          "execution_count": 214
        }
      ]
    },
    {
      "cell_type": "markdown",
      "source": [
        "Dari informasi diatas tidak ada nilai yang hilang"
      ],
      "metadata": {
        "id": "AzeZ8PBpKFVA"
      }
    },
    {
      "cell_type": "markdown",
      "source": [
        "## Data Visualization\n",
        "\n",
        "Promp ChatGPT: Jelaskan data visualization dan jenis jenisnya\n",
        "\n",
        "\n",
        "Data visualization, atau visualisasi data, adalah teknik representasi grafis data untuk mendapatkan wawasan dan pemahaman yang lebih baik tentang pola, hubungan, dan tren dalam dataset. Berbagai jenis visualisasi data dapat digunakan tergantung pada sifat data dan pertanyaan yang ingin dijawab. Berikut adalah beberapa jenis visualisasi data yang umum digunakan:\n",
        "\n",
        "1. Histogram: Menggambarkan distribusi frekuensi dari variabel numerik.\n",
        "Berguna untuk melihat pola distribusi, kecenderungan sentral, dan dispersi data.\n",
        "\n",
        "\n",
        "2. Diagram Pencar (Scatter Plot): Menunjukkan hubungan antara dua variabel numerik.\n",
        "Berguna untuk mengidentifikasi pola korelasi dan outliers.\n",
        "\n",
        "\n",
        "3. Diagram Garis (Line Chart): Menunjukkan perubahan nilai variabel melalui waktu atau urutan.\n",
        "Cocok untuk melihat tren dan pola waktu.\n",
        "\n",
        "4. Diagram Kotak (Box Plot): Menunjukkan distribusi statistik ringkasan, termasuk kuartil dan outliers.\n",
        "Berguna untuk analisis perbandingan dan identifikasi outliers.\n",
        "\n",
        "\n",
        "5. Diagram Batang (Bar Chart): Menunjukkan frekuensi atau proporsi data kategorikal.\n",
        "Berguna untuk perbandingan antara kategori.\n",
        "\n",
        "6. Diagram Lingkaran (Pie Chart): Menunjukkan proporsi data kategorikal sebagai bagian dari keseluruhan.\n",
        "Cocok untuk menunjukkan distribusi persentase.\n",
        "\n",
        "\n",
        "7. Heatmap: Merepresentasikan data dalam bentuk matriks dengan warna.\n",
        "Berguna untuk menunjukkan pola korelasi dan kepadatan dalam dataset."
      ],
      "metadata": {
        "id": "jR09mHqJKQxD"
      }
    },
    {
      "cell_type": "code",
      "source": [
        "#Mengelompokkan numerical features\n",
        "numerical_features = [\"pH\",\"Temprature\",\"Taste\",\"Odor\",\"Turbidity\",\"Colour\"]\n",
        "\n",
        "#Mengelompokkan categorical features\n",
        "categorical_features = [\"Grade\"]"
      ],
      "metadata": {
        "id": "fNYxHRqMO8nh"
      },
      "execution_count": 215,
      "outputs": []
    },
    {
      "cell_type": "markdown",
      "source": [
        "Promp ChatGPT:berikan kodingan untuk membuat distribusi fitur numerik dari numerical_features = [\"pH\",\"Temprature\",\"Taste\" ,\"Odor\",\"Turbidity\",\"Colour\"] dengan layout 3x2"
      ],
      "metadata": {
        "id": "M3Q9BWKBlFKf"
      }
    },
    {
      "cell_type": "code",
      "source": [
        "\n",
        "#Mengelompokkan numerical features\n",
        "numerical_features = [\"pH\",\"Temprature\",\"Taste\",\"Odor\",\"Turbidity\",\"Colour\"]\n",
        "# Menentukan tata letak subplot\n",
        "fig, axes = plt.subplots(2, 3, figsize=(10, 5))\n",
        "\n",
        "# Menampilkan histogram untuk setiap fitur numerik\n",
        "for i, feature in enumerate(numerical_features):\n",
        "    row = i // 3\n",
        "    col = i % 3\n",
        "    sns.histplot(df[feature], bins=30, kde=True, color='blue', ax=axes[row, col])\n",
        "    axes[row, col].set_title(f'Distribution of {feature}')\n",
        "    axes[row, col].set_xlabel(feature)\n",
        "    axes[row, col].set_ylabel('Frequency')\n",
        "\n",
        "# Menyesuaikan tata letak\n",
        "plt.tight_layout()\n",
        "plt.show()"
      ],
      "metadata": {
        "colab": {
          "base_uri": "https://localhost:8080/",
          "height": 507
        },
        "id": "mb0EvhGvRgiJ",
        "outputId": "d467eb38-80c7-4802-e896-83e317cc665f"
      },
      "execution_count": 80,
      "outputs": [
        {
          "output_type": "display_data",
          "data": {
            "text/plain": [
              "<Figure size 1000x500 with 6 Axes>"
            ],
            "image/png": "[encoded data removed]"
          },
          "metadata": {}
        }
      ]
    },
    {
      "cell_type": "code",
      "source": [
        "# Menampilkan diagram batang untuk fitur kategori\n",
        "plt.figure(figsize=(8, 5))\n",
        "sns.countplot(x=categorical_feature, data=df, palette='viridis')\n",
        "plt.title(f'Distribution of {categorical_feature}')\n",
        "plt.xlabel(categorical_feature)\n",
        "plt.ylabel('Frequency')\n",
        "plt.show()"
      ],
      "metadata": {
        "colab": {
          "base_uri": "https://localhost:8080/",
          "height": 487
        },
        "id": "SnTcG27wjMuN",
        "outputId": "cb5f1e44-7bc9-4ea6-d318-55ee022534d9"
      },
      "execution_count": 89,
      "outputs": [
        {
          "output_type": "display_data",
          "data": {
            "text/plain": [
              "<Figure size 800x500 with 1 Axes>"
            ],
            "image/png": "[encoded data removed]"
          },
          "metadata": {}
        }
      ]
    },
    {
      "cell_type": "markdown",
      "source": [
        "## XGBoost"
      ],
      "metadata": {
        "id": "Q1fLxig8nRGD"
      }
    },
    {
      "cell_type": "code",
      "source": [
        "from sklearn.preprocessing import LabelEncoder\n",
        "\n",
        "data_encoded = pd.get_dummies(df, columns=[\"pH\",\"Temprature\",\"Taste\",\"Odor\",\"Turbidity\",\"Colour\"], drop_first=True)\n",
        "\n",
        "\n",
        "# Mengonversi fitur kategori menjadi representasi numerik\n",
        "label_encoder = LabelEncoder()\n",
        "df[categorical_feature] = label_encoder.fit_transform(df[categorical_feature])\n",
        "\n",
        "# Memisahkan fitur dan label\n",
        "X = data_encoded.drop(\"Grade\", axis=1)\n",
        "y = df[\"Grade\"]\n",
        "\n",
        "# Split the dataset into training and testing sets\n",
        "X_train, X_test, y_train, y_test = train_test_split(X, y, test_size=0.2, random_state=42)"
      ],
      "metadata": {
        "id": "Vk162Ng4ouTY"
      },
      "execution_count": 216,
      "outputs": []
    },
    {
      "cell_type": "code",
      "source": [
        "# Inisialisasi XGBoost classifier\n",
        "model = XGBClassifier(\n",
        "    n_estimators=50,\n",
        "    max_depth=1,\n",
        ")"
      ],
      "metadata": {
        "id": "Y_8IcMeArMvy"
      },
      "execution_count": 196,
      "outputs": []
    },
    {
      "cell_type": "code",
      "source": [
        "# Train the model\n",
        "model.fit(X_train, y_train)"
      ],
      "metadata": {
        "colab": {
          "base_uri": "https://localhost:8080/",
          "height": 248
        },
        "id": "8Brk2ccGrOKg",
        "outputId": "2e7bd9a8-f2b7-432f-a267-491008ed14c2"
      },
      "execution_count": 217,
      "outputs": [
        {
          "output_type": "execute_result",
          "data": {
            "text/plain": [
              "XGBClassifier(base_score=None, booster=None, callbacks=None,\n",
              "              colsample_bylevel=None, colsample_bynode=None,\n",
              "              colsample_bytree=None, device=None, early_stopping_rounds=None,\n",
              "              enable_categorical=False, eval_metric=None, feature_types=None,\n",
              "              gamma=None, grow_policy=None, importance_type=None,\n",
              "              interaction_constraints=None, learning_rate=None, max_bin=None,\n",
              "              max_cat_threshold=None, max_cat_to_onehot=None,\n",
              "              max_delta_step=None, max_depth=1, max_leaves=None,\n",
              "              min_child_weight=None, missing=nan, monotone_constraints=None,\n",
              "              multi_strategy=None, n_estimators=50, n_jobs=None,\n",
              "              num_parallel_tree=None, objective='multi:softprob', ...)"
            ],
            "text/html": [
              "<style>#sk-container-id-14 {color: black;background-color: white;}#sk-container-id-14 pre{padding: 0;}#sk-container-id-14 div.sk-toggleable {background-color: white;}#sk-container-id-14 label.sk-toggleable__label {cursor: pointer;display: block;width: 100%;margin-bottom: 0;padding: 0.3em;box-sizing: border-box;text-align: center;}#sk-container-id-14 label.sk-toggleable__label-arrow:before {content: \"▸\";float: left;margin-right: 0.25em;color: #696969;}#sk-container-id-14 label.sk-toggleable__label-arrow:hover:before {color: black;}#sk-container-id-14 div.sk-estimator:hover label.sk-toggleable__label-arrow:before {color: black;}#sk-container-id-14 div.sk-toggleable__content {max-height: 0;max-width: 0;overflow: hidden;text-align: left;background-color: #f0f8ff;}#sk-container-id-14 div.sk-toggleable__content pre {margin: 0.2em;color: black;border-radius: 0.25em;background-color: #f0f8ff;}#sk-container-id-14 input.sk-toggleable__control:checked~div.sk-toggleable__content {max-height: 200px;max-width: 100%;overflow: auto;}#sk-container-id-14 input.sk-toggleable__control:checked~label.sk-toggleable__label-arrow:before {content: \"▾\";}#sk-container-id-14 div.sk-estimator input.sk-toggleable__control:checked~label.sk-toggleable__label {background-color: #d4ebff;}#sk-container-id-14 div.sk-label input.sk-toggleable__control:checked~label.sk-toggleable__label {background-color: #d4ebff;}#sk-container-id-14 input.sk-hidden--visually {border: 0;clip: rect(1px 1px 1px 1px);clip: rect(1px, 1px, 1px, 1px);height: 1px;margin: -1px;overflow: hidden;padding: 0;position: absolute;width: 1px;}#sk-container-id-14 div.sk-estimator {font-family: monospace;background-color: #f0f8ff;border: 1px dotted black;border-radius: 0.25em;box-sizing: border-box;margin-bottom: 0.5em;}#sk-container-id-14 div.sk-estimator:hover {background-color: #d4ebff;}#sk-container-id-14 div.sk-parallel-item::after {content: \"\";width: 100%;border-bottom: 1px solid gray;flex-grow: 1;}#sk-container-id-14 div.sk-label:hover label.sk-toggleable__label {background-color: #d4ebff;}#sk-container-id-14 div.sk-serial::before {content: \"\";position: absolute;border-left: 1px solid gray;box-sizing: border-box;top: 0;bottom: 0;left: 50%;z-index: 0;}#sk-container-id-14 div.sk-serial {display: flex;flex-direction: column;align-items: center;background-color: white;padding-right: 0.2em;padding-left: 0.2em;position: relative;}#sk-container-id-14 div.sk-item {position: relative;z-index: 1;}#sk-container-id-14 div.sk-parallel {display: flex;align-items: stretch;justify-content: center;background-color: white;position: relative;}#sk-container-id-14 div.sk-item::before, #sk-container-id-14 div.sk-parallel-item::before {content: \"\";position: absolute;border-left: 1px solid gray;box-sizing: border-box;top: 0;bottom: 0;left: 50%;z-index: -1;}#sk-container-id-14 div.sk-parallel-item {display: flex;flex-direction: column;z-index: 1;position: relative;background-color: white;}#sk-container-id-14 div.sk-parallel-item:first-child::after {align-self: flex-end;width: 50%;}#sk-container-id-14 div.sk-parallel-item:last-child::after {align-self: flex-start;width: 50%;}#sk-container-id-14 div.sk-parallel-item:only-child::after {width: 0;}#sk-container-id-14 div.sk-dashed-wrapped {border: 1px dashed gray;margin: 0 0.4em 0.5em 0.4em;box-sizing: border-box;padding-bottom: 0.4em;background-color: white;}#sk-container-id-14 div.sk-label label {font-family: monospace;font-weight: bold;display: inline-block;line-height: 1.2em;}#sk-container-id-14 div.sk-label-container {text-align: center;}#sk-container-id-14 div.sk-container {/* jupyter's `normalize.less` sets `[hidden] { display: none; }` but bootstrap.min.css set `[hidden] { display: none !important; }` so we also need the `!important` here to be able to override the default hidden behavior on the sphinx rendered scikit-learn.org. See: https://github.com/scikit-learn/scikit-learn/issues/21755 */display: inline-block !important;position: relative;}#sk-container-id-14 div.sk-text-repr-fallback {display: none;}</style><div id=\"sk-container-id-14\" class=\"sk-top-container\"><div class=\"sk-text-repr-fallback\"><pre>XGBClassifier(base_score=None, booster=None, callbacks=None,\n",
              "              colsample_bylevel=None, colsample_bynode=None,\n",
              "              colsample_bytree=None, device=None, early_stopping_rounds=None,\n",
              "              enable_categorical=False, eval_metric=None, feature_types=None,\n",
              "              gamma=None, grow_policy=None, importance_type=None,\n",
              "              interaction_constraints=None, learning_rate=None, max_bin=None,\n",
              "              max_cat_threshold=None, max_cat_to_onehot=None,\n",
              "              max_delta_step=None, max_depth=1, max_leaves=None,\n",
              "              min_child_weight=None, missing=nan, monotone_constraints=None,\n",
              "              multi_strategy=None, n_estimators=50, n_jobs=None,\n",
              "              num_parallel_tree=None, objective=&#x27;multi:softprob&#x27;, ...)</pre><b>In a Jupyter environment, please rerun this cell to show the HTML representation or trust the notebook. <br />On GitHub, the HTML representation is unable to render, please try loading this page with nbviewer.org.</b></div><div class=\"sk-container\" hidden><div class=\"sk-item\"><div class=\"sk-estimator sk-toggleable\"><input class=\"sk-toggleable__control sk-hidden--visually\" id=\"sk-estimator-id-14\" type=\"checkbox\" checked><label for=\"sk-estimator-id-14\" class=\"sk-toggleable__label sk-toggleable__label-arrow\">XGBClassifier</label><div class=\"sk-toggleable__content\"><pre>XGBClassifier(base_score=None, booster=None, callbacks=None,\n",
              "              colsample_bylevel=None, colsample_bynode=None,\n",
              "              colsample_bytree=None, device=None, early_stopping_rounds=None,\n",
              "              enable_categorical=False, eval_metric=None, feature_types=None,\n",
              "              gamma=None, grow_policy=None, importance_type=None,\n",
              "              interaction_constraints=None, learning_rate=None, max_bin=None,\n",
              "              max_cat_threshold=None, max_cat_to_onehot=None,\n",
              "              max_delta_step=None, max_depth=1, max_leaves=None,\n",
              "              min_child_weight=None, missing=nan, monotone_constraints=None,\n",
              "              multi_strategy=None, n_estimators=50, n_jobs=None,\n",
              "              num_parallel_tree=None, objective=&#x27;multi:softprob&#x27;, ...)</pre></div></div></div></div></div>"
            ]
          },
          "metadata": {},
          "execution_count": 217
        }
      ]
    },
    {
      "cell_type": "code",
      "source": [
        "# Predict using the classification model\n",
        "y_pred_classifier = model.predict(X_test)\n",
        "\n",
        "# Calculate accuracy\n",
        "accuracy = accuracy_score(y_test, y_pred_classifier)\n",
        "print(f'Accuracy: {accuracy}')\n",
        "\n",
        "# Display classification report\n",
        "class_report = classification_report(y_test, y_pred_classifier)\n",
        "print(f'Classification Report:\\n{class_report}')"
      ],
      "metadata": {
        "colab": {
          "base_uri": "https://localhost:8080/"
        },
        "id": "J7KvrgUNrYOb",
        "outputId": "d2cc4468-ffc4-449d-d068-edb1b6836e54"
      },
      "execution_count": 198,
      "outputs": [
        {
          "output_type": "stream",
          "name": "stdout",
          "text": [
            "Accuracy: 0.9386792452830188\n",
            "Classification Report:\n",
            "              precision    recall  f1-score   support\n",
            "\n",
            "           0       0.90      0.92      0.91        48\n",
            "           1       0.97      0.97      0.97        78\n",
            "           2       0.93      0.92      0.92        86\n",
            "\n",
            "    accuracy                           0.94       212\n",
            "   macro avg       0.93      0.94      0.94       212\n",
            "weighted avg       0.94      0.94      0.94       212\n",
            "\n"
          ]
        }
      ]
    },
    {
      "cell_type": "code",
      "source": [
        "# Assuming you have a trained XGBoost model (model) and the user input data\n",
        "user_input_data = pd.DataFrame({\n",
        "    'pH': [7],\n",
        "    'Temprature': [60],\n",
        "    'Taste': [1],\n",
        "    'Odor': [0],\n",
        "    'Turbidity': [0],\n",
        "    'Colour': [240]\n",
        "})\n",
        "\n",
        "# Input data untuk prediksi\n",
        "input_data = X_train.iloc[[0]]\n",
        "\n",
        "# Melakukan prediksi menggunakan model yang telah dilatih\n",
        "prediction = model.predict(input_data)\n",
        "\n",
        "# Menampilkan hasil prediksi\n",
        "print(f'Prediction for input data: {prediction[0]}')\n"
      ],
      "metadata": {
        "colab": {
          "base_uri": "https://localhost:8080/"
        },
        "id": "ZHA27EFEuTNi",
        "outputId": "290f5ef8-0026-4b35-8c0e-30928f96982c"
      },
      "execution_count": 218,
      "outputs": [
        {
          "output_type": "stream",
          "name": "stdout",
          "text": [
            "Prediction for input data: 2\n"
          ]
        }
      ]
    },
    {
      "cell_type": "code",
      "source": [
        "2 berarti hasilnya adalah High grade"
      ],
      "metadata": {
        "id": "SICRAmJO9okM"
      },
      "execution_count": null,
      "outputs": []
    }
  ]
}